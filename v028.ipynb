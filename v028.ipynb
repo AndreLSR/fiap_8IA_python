{
 "cells": [
  {
   "cell_type": "markdown",
   "metadata": {
    "colab_type": "text",
    "id": "hwBguZ4W5PIE"
   },
   "source": [
    "## TURMA: FIAP-8IA \n",
    "### Alunos\n",
    "* ALEX DIAS DE ARAUJO - RM 334983\n",
    "* ANDRE LUIZ SILVA RODRIGUES - RM 334911\n",
    "* JOSÉ ANTONIO WESLEY CRUZ - RM 334341\n",
    "* PAULO ARAUJO BARBOSA - RM 335284"
   ]
  },
  {
   "cell_type": "markdown",
   "metadata": {
    "colab": {
     "base_uri": "https://localhost:8080/",
     "height": 0
    },
    "colab_type": "code",
    "id": "unpnU9355PII",
    "outputId": "0d49265c-aeff-44e1-8fa6-b079ae275b0a"
   },
   "source": [
    "## 1) Leia o arquivo lemonades.csv usando pandas"
   ]
  },
  {
   "cell_type": "code",
   "execution_count": 1,
   "metadata": {},
   "outputs": [
    {
     "name": "stdout",
     "output_type": "stream",
     "text": [
      "\u001b[1;31m Vamos entender nossos dados \u001b[0;0m \n",
      " DATE            object\n",
      "LOCATION        object\n",
      "LEMON            int64\n",
      "ORANGE           int64\n",
      "TEMPERATURE      int64\n",
      "LEAFLETS       float64\n",
      "PRICE          float64\n",
      "dtype: object \n",
      "\n"
     ]
    },
    {
     "data": {
      "text/html": [
       "<div>\n",
       "<style scoped>\n",
       "    .dataframe tbody tr th:only-of-type {\n",
       "        vertical-align: middle;\n",
       "    }\n",
       "\n",
       "    .dataframe tbody tr th {\n",
       "        vertical-align: top;\n",
       "    }\n",
       "\n",
       "    .dataframe thead th {\n",
       "        text-align: right;\n",
       "    }\n",
       "</style>\n",
       "<table border=\"1\" class=\"dataframe\">\n",
       "  <thead>\n",
       "    <tr style=\"text-align: right;\">\n",
       "      <th></th>\n",
       "      <th>DATE</th>\n",
       "      <th>LOCATION</th>\n",
       "      <th>LEMON</th>\n",
       "      <th>ORANGE</th>\n",
       "      <th>TEMPERATURE</th>\n",
       "      <th>LEAFLETS</th>\n",
       "      <th>PRICE</th>\n",
       "    </tr>\n",
       "  </thead>\n",
       "  <tbody>\n",
       "    <tr>\n",
       "      <td>0</td>\n",
       "      <td>07/01/2016</td>\n",
       "      <td>PARK</td>\n",
       "      <td>97</td>\n",
       "      <td>67</td>\n",
       "      <td>70</td>\n",
       "      <td>90.0</td>\n",
       "      <td>0.25</td>\n",
       "    </tr>\n",
       "    <tr>\n",
       "      <td>1</td>\n",
       "      <td>07/02/2016</td>\n",
       "      <td>PARK</td>\n",
       "      <td>98</td>\n",
       "      <td>67</td>\n",
       "      <td>72</td>\n",
       "      <td>90.0</td>\n",
       "      <td>0.25</td>\n",
       "    </tr>\n",
       "    <tr>\n",
       "      <td>2</td>\n",
       "      <td>07/03/2016</td>\n",
       "      <td>PARK</td>\n",
       "      <td>110</td>\n",
       "      <td>77</td>\n",
       "      <td>71</td>\n",
       "      <td>104.0</td>\n",
       "      <td>0.25</td>\n",
       "    </tr>\n",
       "    <tr>\n",
       "      <td>3</td>\n",
       "      <td>07/04/2016</td>\n",
       "      <td>BEACH</td>\n",
       "      <td>134</td>\n",
       "      <td>99</td>\n",
       "      <td>76</td>\n",
       "      <td>98.0</td>\n",
       "      <td>0.25</td>\n",
       "    </tr>\n",
       "    <tr>\n",
       "      <td>4</td>\n",
       "      <td>07/05/2016</td>\n",
       "      <td>BEACH</td>\n",
       "      <td>159</td>\n",
       "      <td>118</td>\n",
       "      <td>78</td>\n",
       "      <td>135.0</td>\n",
       "      <td>0.25</td>\n",
       "    </tr>\n",
       "    <tr>\n",
       "      <td>5</td>\n",
       "      <td>07/06/2016</td>\n",
       "      <td>BEACH</td>\n",
       "      <td>103</td>\n",
       "      <td>69</td>\n",
       "      <td>82</td>\n",
       "      <td>90.0</td>\n",
       "      <td>0.25</td>\n",
       "    </tr>\n",
       "    <tr>\n",
       "      <td>6</td>\n",
       "      <td>07/06/2016</td>\n",
       "      <td>BEACH</td>\n",
       "      <td>103</td>\n",
       "      <td>69</td>\n",
       "      <td>82</td>\n",
       "      <td>90.0</td>\n",
       "      <td>0.25</td>\n",
       "    </tr>\n",
       "    <tr>\n",
       "      <td>7</td>\n",
       "      <td>07/07/2016</td>\n",
       "      <td>BEACH</td>\n",
       "      <td>143</td>\n",
       "      <td>101</td>\n",
       "      <td>81</td>\n",
       "      <td>135.0</td>\n",
       "      <td>0.25</td>\n",
       "    </tr>\n",
       "    <tr>\n",
       "      <td>8</td>\n",
       "      <td>NaN</td>\n",
       "      <td>BEACH</td>\n",
       "      <td>123</td>\n",
       "      <td>86</td>\n",
       "      <td>82</td>\n",
       "      <td>113.0</td>\n",
       "      <td>0.25</td>\n",
       "    </tr>\n",
       "    <tr>\n",
       "      <td>9</td>\n",
       "      <td>07/09/2016</td>\n",
       "      <td>BEACH</td>\n",
       "      <td>134</td>\n",
       "      <td>95</td>\n",
       "      <td>80</td>\n",
       "      <td>126.0</td>\n",
       "      <td>0.25</td>\n",
       "    </tr>\n",
       "    <tr>\n",
       "      <td>10</td>\n",
       "      <td>07/10/2016</td>\n",
       "      <td>BEACH</td>\n",
       "      <td>140</td>\n",
       "      <td>98</td>\n",
       "      <td>82</td>\n",
       "      <td>131.0</td>\n",
       "      <td>0.25</td>\n",
       "    </tr>\n",
       "    <tr>\n",
       "      <td>11</td>\n",
       "      <td>07/11/2016</td>\n",
       "      <td>BEACH</td>\n",
       "      <td>162</td>\n",
       "      <td>120</td>\n",
       "      <td>83</td>\n",
       "      <td>135.0</td>\n",
       "      <td>0.25</td>\n",
       "    </tr>\n",
       "    <tr>\n",
       "      <td>12</td>\n",
       "      <td>07/12/2016</td>\n",
       "      <td>BEACH</td>\n",
       "      <td>130</td>\n",
       "      <td>95</td>\n",
       "      <td>84</td>\n",
       "      <td>99.0</td>\n",
       "      <td>0.25</td>\n",
       "    </tr>\n",
       "    <tr>\n",
       "      <td>13</td>\n",
       "      <td>7/13/2016</td>\n",
       "      <td>BEACH</td>\n",
       "      <td>109</td>\n",
       "      <td>75</td>\n",
       "      <td>77</td>\n",
       "      <td>99.0</td>\n",
       "      <td>0.25</td>\n",
       "    </tr>\n",
       "    <tr>\n",
       "      <td>14</td>\n",
       "      <td>7/14/2016</td>\n",
       "      <td>BEACH</td>\n",
       "      <td>122</td>\n",
       "      <td>85</td>\n",
       "      <td>78</td>\n",
       "      <td>113.0</td>\n",
       "      <td>0.25</td>\n",
       "    </tr>\n",
       "    <tr>\n",
       "      <td>15</td>\n",
       "      <td>7/15/2016</td>\n",
       "      <td>BEACH</td>\n",
       "      <td>98</td>\n",
       "      <td>62</td>\n",
       "      <td>75</td>\n",
       "      <td>108.0</td>\n",
       "      <td>0.50</td>\n",
       "    </tr>\n",
       "    <tr>\n",
       "      <td>16</td>\n",
       "      <td>7/16/2016</td>\n",
       "      <td>BEACH</td>\n",
       "      <td>81</td>\n",
       "      <td>50</td>\n",
       "      <td>74</td>\n",
       "      <td>90.0</td>\n",
       "      <td>0.50</td>\n",
       "    </tr>\n",
       "    <tr>\n",
       "      <td>17</td>\n",
       "      <td>7/17/2016</td>\n",
       "      <td>BEACH</td>\n",
       "      <td>115</td>\n",
       "      <td>76</td>\n",
       "      <td>77</td>\n",
       "      <td>126.0</td>\n",
       "      <td>0.50</td>\n",
       "    </tr>\n",
       "    <tr>\n",
       "      <td>18</td>\n",
       "      <td>7/18/2016</td>\n",
       "      <td>PARK</td>\n",
       "      <td>131</td>\n",
       "      <td>92</td>\n",
       "      <td>81</td>\n",
       "      <td>122.0</td>\n",
       "      <td>0.50</td>\n",
       "    </tr>\n",
       "    <tr>\n",
       "      <td>19</td>\n",
       "      <td>7/19/2016</td>\n",
       "      <td>PARK</td>\n",
       "      <td>122</td>\n",
       "      <td>85</td>\n",
       "      <td>78</td>\n",
       "      <td>113.0</td>\n",
       "      <td>0.50</td>\n",
       "    </tr>\n",
       "    <tr>\n",
       "      <td>20</td>\n",
       "      <td>7/20/2016</td>\n",
       "      <td>PARK</td>\n",
       "      <td>71</td>\n",
       "      <td>42</td>\n",
       "      <td>70</td>\n",
       "      <td>NaN</td>\n",
       "      <td>0.50</td>\n",
       "    </tr>\n",
       "    <tr>\n",
       "      <td>21</td>\n",
       "      <td>7/21/2016</td>\n",
       "      <td>PARK</td>\n",
       "      <td>83</td>\n",
       "      <td>50</td>\n",
       "      <td>77</td>\n",
       "      <td>90.0</td>\n",
       "      <td>0.50</td>\n",
       "    </tr>\n",
       "    <tr>\n",
       "      <td>22</td>\n",
       "      <td>7/22/2016</td>\n",
       "      <td>PARK</td>\n",
       "      <td>112</td>\n",
       "      <td>75</td>\n",
       "      <td>80</td>\n",
       "      <td>108.0</td>\n",
       "      <td>0.50</td>\n",
       "    </tr>\n",
       "    <tr>\n",
       "      <td>23</td>\n",
       "      <td>7/23/2016</td>\n",
       "      <td>PARK</td>\n",
       "      <td>120</td>\n",
       "      <td>82</td>\n",
       "      <td>81</td>\n",
       "      <td>117.0</td>\n",
       "      <td>0.50</td>\n",
       "    </tr>\n",
       "    <tr>\n",
       "      <td>24</td>\n",
       "      <td>7/24/2016</td>\n",
       "      <td>PARK</td>\n",
       "      <td>121</td>\n",
       "      <td>82</td>\n",
       "      <td>82</td>\n",
       "      <td>117.0</td>\n",
       "      <td>0.50</td>\n",
       "    </tr>\n",
       "    <tr>\n",
       "      <td>25</td>\n",
       "      <td>7/25/2016</td>\n",
       "      <td>PARK</td>\n",
       "      <td>156</td>\n",
       "      <td>113</td>\n",
       "      <td>84</td>\n",
       "      <td>135.0</td>\n",
       "      <td>0.50</td>\n",
       "    </tr>\n",
       "    <tr>\n",
       "      <td>26</td>\n",
       "      <td>7/26/2016</td>\n",
       "      <td>PARK</td>\n",
       "      <td>176</td>\n",
       "      <td>129</td>\n",
       "      <td>83</td>\n",
       "      <td>158.0</td>\n",
       "      <td>0.35</td>\n",
       "    </tr>\n",
       "    <tr>\n",
       "      <td>27</td>\n",
       "      <td>7/27/2016</td>\n",
       "      <td>PARK</td>\n",
       "      <td>104</td>\n",
       "      <td>68</td>\n",
       "      <td>80</td>\n",
       "      <td>99.0</td>\n",
       "      <td>0.35</td>\n",
       "    </tr>\n",
       "    <tr>\n",
       "      <td>28</td>\n",
       "      <td>7/28/2016</td>\n",
       "      <td>PARK</td>\n",
       "      <td>96</td>\n",
       "      <td>63</td>\n",
       "      <td>82</td>\n",
       "      <td>90.0</td>\n",
       "      <td>0.35</td>\n",
       "    </tr>\n",
       "    <tr>\n",
       "      <td>29</td>\n",
       "      <td>7/29/2016</td>\n",
       "      <td>PARK</td>\n",
       "      <td>100</td>\n",
       "      <td>66</td>\n",
       "      <td>81</td>\n",
       "      <td>95.0</td>\n",
       "      <td>0.35</td>\n",
       "    </tr>\n",
       "    <tr>\n",
       "      <td>30</td>\n",
       "      <td>7/30/2016</td>\n",
       "      <td>BEACH</td>\n",
       "      <td>88</td>\n",
       "      <td>57</td>\n",
       "      <td>82</td>\n",
       "      <td>81.0</td>\n",
       "      <td>0.35</td>\n",
       "    </tr>\n",
       "    <tr>\n",
       "      <td>31</td>\n",
       "      <td>7/31/2016</td>\n",
       "      <td>BEACH</td>\n",
       "      <td>76</td>\n",
       "      <td>47</td>\n",
       "      <td>82</td>\n",
       "      <td>68.0</td>\n",
       "      <td>0.35</td>\n",
       "    </tr>\n",
       "  </tbody>\n",
       "</table>\n",
       "</div>"
      ],
      "text/plain": [
       "          DATE LOCATION  LEMON  ORANGE  TEMPERATURE  LEAFLETS  PRICE\n",
       "0   07/01/2016     PARK     97      67           70      90.0   0.25\n",
       "1   07/02/2016     PARK     98      67           72      90.0   0.25\n",
       "2   07/03/2016     PARK    110      77           71     104.0   0.25\n",
       "3   07/04/2016    BEACH    134      99           76      98.0   0.25\n",
       "4   07/05/2016    BEACH    159     118           78     135.0   0.25\n",
       "5   07/06/2016    BEACH    103      69           82      90.0   0.25\n",
       "6   07/06/2016    BEACH    103      69           82      90.0   0.25\n",
       "7   07/07/2016    BEACH    143     101           81     135.0   0.25\n",
       "8          NaN    BEACH    123      86           82     113.0   0.25\n",
       "9   07/09/2016    BEACH    134      95           80     126.0   0.25\n",
       "10  07/10/2016    BEACH    140      98           82     131.0   0.25\n",
       "11  07/11/2016    BEACH    162     120           83     135.0   0.25\n",
       "12  07/12/2016    BEACH    130      95           84      99.0   0.25\n",
       "13   7/13/2016    BEACH    109      75           77      99.0   0.25\n",
       "14   7/14/2016    BEACH    122      85           78     113.0   0.25\n",
       "15   7/15/2016    BEACH     98      62           75     108.0   0.50\n",
       "16   7/16/2016    BEACH     81      50           74      90.0   0.50\n",
       "17   7/17/2016    BEACH    115      76           77     126.0   0.50\n",
       "18   7/18/2016     PARK    131      92           81     122.0   0.50\n",
       "19   7/19/2016     PARK    122      85           78     113.0   0.50\n",
       "20   7/20/2016     PARK     71      42           70       NaN   0.50\n",
       "21   7/21/2016     PARK     83      50           77      90.0   0.50\n",
       "22   7/22/2016     PARK    112      75           80     108.0   0.50\n",
       "23   7/23/2016     PARK    120      82           81     117.0   0.50\n",
       "24   7/24/2016     PARK    121      82           82     117.0   0.50\n",
       "25   7/25/2016     PARK    156     113           84     135.0   0.50\n",
       "26   7/26/2016     PARK    176     129           83     158.0   0.35\n",
       "27   7/27/2016     PARK    104      68           80      99.0   0.35\n",
       "28   7/28/2016     PARK     96      63           82      90.0   0.35\n",
       "29   7/29/2016     PARK    100      66           81      95.0   0.35\n",
       "30   7/30/2016    BEACH     88      57           82      81.0   0.35\n",
       "31   7/31/2016    BEACH     76      47           82      68.0   0.35"
      ]
     },
     "execution_count": 1,
     "metadata": {},
     "output_type": "execute_result"
    }
   ],
   "source": [
    "#Resposta 1\n",
    "\n",
    "import pandas as pd # para leitura de base de dados e manipulação de data frame\n",
    "import numpy as np # para álgebra linear\n",
    "import altair as alt # para plotar gráficos\n",
    "import sys\n",
    "import matplotlib.pyplot as plt\n",
    "from matplotlib import animation\n",
    "from mpl_toolkits.mplot3d import Axes3D\n",
    "import altair as alt\n",
    "from pandas import DataFrame\n",
    "from sklearn.model_selection import train_test_split\n",
    "from sklearn import linear_model\n",
    "from sklearn.metrics import mean_squared_error, r2_score\n",
    "from sklearn.model_selection import train_test_split\n",
    "from sklearn.preprocessing import StandardScaler\n",
    "import seaborn as sns\n",
    "import pdb\n",
    "import warnings\n",
    "\n",
    "warnings.filterwarnings(\"ignore\")\n",
    "\n",
    "data = pd.read_csv('Lemonades.csv', sep = ';')\n",
    "data.columns = data.columns.str.upper() #change into upper case\n",
    "\n",
    "data['LOCATION'] = data['LOCATION'].apply(lambda x: x.upper()) # Passando os dados da coluna LOCATION para letra maiscula\n",
    "\n",
    "print('\\033[1;31m Vamos entender nossos dados \\033[0;0m','\\n', data.dtypes, '\\n')\n",
    "data"
   ]
  },
  {
   "cell_type": "markdown",
   "metadata": {
    "colab_type": "text",
    "id": "7VH114hu5PIO"
   },
   "source": [
    "## 2) Retorne as informações sobre as colunas e as principais estatísticas sobre o dataset."
   ]
  },
  {
   "cell_type": "code",
   "execution_count": 2,
   "metadata": {
    "colab": {
     "base_uri": "https://localhost:8080/",
     "height": 0
    },
    "colab_type": "code",
    "id": "cCqGZWoj5PIP",
    "outputId": "f1706f9b-7e8d-4e3c-9193-bf2e819f1265"
   },
   "outputs": [
    {
     "data": {
      "text/html": [
       "<div>\n",
       "<style scoped>\n",
       "    .dataframe tbody tr th:only-of-type {\n",
       "        vertical-align: middle;\n",
       "    }\n",
       "\n",
       "    .dataframe tbody tr th {\n",
       "        vertical-align: top;\n",
       "    }\n",
       "\n",
       "    .dataframe thead th {\n",
       "        text-align: right;\n",
       "    }\n",
       "</style>\n",
       "<table border=\"1\" class=\"dataframe\">\n",
       "  <thead>\n",
       "    <tr style=\"text-align: right;\">\n",
       "      <th></th>\n",
       "      <th>LEMON</th>\n",
       "      <th>ORANGE</th>\n",
       "      <th>TEMPERATURE</th>\n",
       "      <th>LEAFLETS</th>\n",
       "      <th>PRICE</th>\n",
       "    </tr>\n",
       "  </thead>\n",
       "  <tbody>\n",
       "    <tr>\n",
       "      <td>count</td>\n",
       "      <td>32.000000</td>\n",
       "      <td>32.000000</td>\n",
       "      <td>32.000000</td>\n",
       "      <td>31.000000</td>\n",
       "      <td>32.000000</td>\n",
       "    </tr>\n",
       "    <tr>\n",
       "      <td>mean</td>\n",
       "      <td>116.156250</td>\n",
       "      <td>80.000000</td>\n",
       "      <td>78.968750</td>\n",
       "      <td>108.548387</td>\n",
       "      <td>0.354688</td>\n",
       "    </tr>\n",
       "    <tr>\n",
       "      <td>std</td>\n",
       "      <td>25.823357</td>\n",
       "      <td>21.863211</td>\n",
       "      <td>4.067847</td>\n",
       "      <td>20.117718</td>\n",
       "      <td>0.113137</td>\n",
       "    </tr>\n",
       "    <tr>\n",
       "      <td>min</td>\n",
       "      <td>71.000000</td>\n",
       "      <td>42.000000</td>\n",
       "      <td>70.000000</td>\n",
       "      <td>68.000000</td>\n",
       "      <td>0.250000</td>\n",
       "    </tr>\n",
       "    <tr>\n",
       "      <td>25%</td>\n",
       "      <td>98.000000</td>\n",
       "      <td>66.750000</td>\n",
       "      <td>77.000000</td>\n",
       "      <td>90.000000</td>\n",
       "      <td>0.250000</td>\n",
       "    </tr>\n",
       "    <tr>\n",
       "      <td>50%</td>\n",
       "      <td>113.500000</td>\n",
       "      <td>76.500000</td>\n",
       "      <td>80.500000</td>\n",
       "      <td>108.000000</td>\n",
       "      <td>0.350000</td>\n",
       "    </tr>\n",
       "    <tr>\n",
       "      <td>75%</td>\n",
       "      <td>131.750000</td>\n",
       "      <td>95.000000</td>\n",
       "      <td>82.000000</td>\n",
       "      <td>124.000000</td>\n",
       "      <td>0.500000</td>\n",
       "    </tr>\n",
       "    <tr>\n",
       "      <td>max</td>\n",
       "      <td>176.000000</td>\n",
       "      <td>129.000000</td>\n",
       "      <td>84.000000</td>\n",
       "      <td>158.000000</td>\n",
       "      <td>0.500000</td>\n",
       "    </tr>\n",
       "  </tbody>\n",
       "</table>\n",
       "</div>"
      ],
      "text/plain": [
       "            LEMON      ORANGE  TEMPERATURE    LEAFLETS      PRICE\n",
       "count   32.000000   32.000000    32.000000   31.000000  32.000000\n",
       "mean   116.156250   80.000000    78.968750  108.548387   0.354688\n",
       "std     25.823357   21.863211     4.067847   20.117718   0.113137\n",
       "min     71.000000   42.000000    70.000000   68.000000   0.250000\n",
       "25%     98.000000   66.750000    77.000000   90.000000   0.250000\n",
       "50%    113.500000   76.500000    80.500000  108.000000   0.350000\n",
       "75%    131.750000   95.000000    82.000000  124.000000   0.500000\n",
       "max    176.000000  129.000000    84.000000  158.000000   0.500000"
      ]
     },
     "execution_count": 2,
     "metadata": {},
     "output_type": "execute_result"
    }
   ],
   "source": [
    "#Resposta 2\n",
    "\n",
    "data.describe()"
   ]
  },
  {
   "cell_type": "markdown",
   "metadata": {
    "colab_type": "text",
    "id": "OE6qlxn15PIW"
   },
   "source": [
    "## 3) Realize a limpeza do dataset:"
   ]
  },
  {
   "cell_type": "markdown",
   "metadata": {
    "colab_type": "text",
    "id": "4h_Vc8-65PIY"
   },
   "source": [
    "#### a. verifique se existe valores nulos"
   ]
  },
  {
   "cell_type": "code",
   "execution_count": 3,
   "metadata": {
    "colab": {
     "base_uri": "https://localhost:8080/",
     "height": 0
    },
    "colab_type": "code",
    "id": "OYbUAYcB5PIZ",
    "outputId": "b6a84f91-69f6-4fe8-b766-a7d2c3de820d"
   },
   "outputs": [
    {
     "name": "stdout",
     "output_type": "stream",
     "text": [
      "\u001b[1;31m Valores Faltantes antes do tratamento dos dados: \u001b[0;0m \n",
      " DATE           1\n",
      "LOCATION       0\n",
      "LEMON          0\n",
      "ORANGE         0\n",
      "TEMPERATURE    0\n",
      "LEAFLETS       1\n",
      "PRICE          0\n",
      "dtype: int64 \n",
      "\n"
     ]
    }
   ],
   "source": [
    "#Resposta 3a)\n",
    "\n",
    "print('\\033[1;31m Valores Faltantes antes do tratamento dos dados: \\033[0;0m', '\\n',data.isna().sum(), '\\n')"
   ]
  },
  {
   "cell_type": "markdown",
   "metadata": {
    "colab_type": "text",
    "id": "jZYuCmz-5PIc"
   },
   "source": [
    "#### b. verifique e remova, se existir, linhas duplicadas"
   ]
  },
  {
   "cell_type": "code",
   "execution_count": 4,
   "metadata": {
    "colab": {
     "base_uri": "https://localhost:8080/",
     "height": 0
    },
    "colab_type": "code",
    "id": "SkGk2OD15PIe",
    "outputId": "2e075986-dbb2-4d7f-bb28-f716187609e7"
   },
   "outputs": [
    {
     "name": "stdout",
     "output_type": "stream",
     "text": [
      "\u001b[1;31m Valores Duplicados antes do tratamento dos dados: \n",
      " \u001b[0;0m          DATE LOCATION  LEMON  ORANGE  TEMPERATURE  LEAFLETS  PRICE\n",
      "6  07/06/2016    BEACH    103      69           82      90.0   0.25 \n",
      "\n",
      "\u001b[1;31m Valores Duplicados depois do tratamento dos dados: \n",
      " \u001b[0;0m Empty DataFrame\n",
      "Columns: [DATE, LOCATION, LEMON, ORANGE, TEMPERATURE, LEAFLETS, PRICE]\n",
      "Index: [] \n",
      "\n"
     ]
    }
   ],
   "source": [
    "#Resposta 3b)\n",
    "\n",
    "print('\\033[1;31m Valores Duplicados antes do tratamento dos dados:', '\\n \\033[0;0m', data[data.duplicated()], '\\n')\n",
    "data = data.drop_duplicates()\n",
    "# data = data.drop_duplicates().reset_index()\n",
    "print('\\033[1;31m Valores Duplicados depois do tratamento dos dados:', '\\n \\033[0;0m', data[data.duplicated()], '\\n')"
   ]
  },
  {
   "cell_type": "markdown",
   "metadata": {
    "colab_type": "text",
    "id": "RHuvWOjQ5PIh"
   },
   "source": [
    "#### c. trate os elementos faltantes (interpolação (data) e media)"
   ]
  },
  {
   "cell_type": "code",
   "execution_count": 5,
   "metadata": {
    "colab": {
     "base_uri": "https://localhost:8080/",
     "height": 0
    },
    "colab_type": "code",
    "id": "naVmEtIn5PIi",
    "outputId": "401a744f-0e10-410a-d71e-19b3291ed71b"
   },
   "outputs": [
    {
     "name": "stdout",
     "output_type": "stream",
     "text": [
      "\u001b[1;31m Confirmar que a coluna de data está no formato correto, após conversão de string para datetime: \u001b[0;0m \n",
      " datetime64[ns] \n",
      "\n",
      "\u001b[1;31m Valores Faltantes depois de tratar os dados: \u001b[0;0m \n",
      " index          0\n",
      "DATE           0\n",
      "LOCATION       0\n",
      "LEMON          0\n",
      "ORANGE         0\n",
      "TEMPERATURE    0\n",
      "LEAFLETS       0\n",
      "PRICE          0\n",
      "dtype: int64 \n",
      "\n"
     ]
    },
    {
     "data": {
      "text/html": [
       "<div>\n",
       "<style scoped>\n",
       "    .dataframe tbody tr th:only-of-type {\n",
       "        vertical-align: middle;\n",
       "    }\n",
       "\n",
       "    .dataframe tbody tr th {\n",
       "        vertical-align: top;\n",
       "    }\n",
       "\n",
       "    .dataframe thead th {\n",
       "        text-align: right;\n",
       "    }\n",
       "</style>\n",
       "<table border=\"1\" class=\"dataframe\">\n",
       "  <thead>\n",
       "    <tr style=\"text-align: right;\">\n",
       "      <th></th>\n",
       "      <th>index</th>\n",
       "      <th>DATE</th>\n",
       "      <th>LOCATION</th>\n",
       "      <th>LEMON</th>\n",
       "      <th>ORANGE</th>\n",
       "      <th>TEMPERATURE</th>\n",
       "      <th>LEAFLETS</th>\n",
       "      <th>PRICE</th>\n",
       "    </tr>\n",
       "  </thead>\n",
       "  <tbody>\n",
       "    <tr>\n",
       "      <td>0</td>\n",
       "      <td>0</td>\n",
       "      <td>2016-07-01</td>\n",
       "      <td>PARK</td>\n",
       "      <td>97</td>\n",
       "      <td>67</td>\n",
       "      <td>70</td>\n",
       "      <td>90.0</td>\n",
       "      <td>0.25</td>\n",
       "    </tr>\n",
       "    <tr>\n",
       "      <td>1</td>\n",
       "      <td>1</td>\n",
       "      <td>2016-07-02</td>\n",
       "      <td>PARK</td>\n",
       "      <td>98</td>\n",
       "      <td>67</td>\n",
       "      <td>72</td>\n",
       "      <td>90.0</td>\n",
       "      <td>0.25</td>\n",
       "    </tr>\n",
       "    <tr>\n",
       "      <td>2</td>\n",
       "      <td>2</td>\n",
       "      <td>2016-07-03</td>\n",
       "      <td>PARK</td>\n",
       "      <td>110</td>\n",
       "      <td>77</td>\n",
       "      <td>71</td>\n",
       "      <td>104.0</td>\n",
       "      <td>0.25</td>\n",
       "    </tr>\n",
       "    <tr>\n",
       "      <td>3</td>\n",
       "      <td>3</td>\n",
       "      <td>2016-07-04</td>\n",
       "      <td>BEACH</td>\n",
       "      <td>134</td>\n",
       "      <td>99</td>\n",
       "      <td>76</td>\n",
       "      <td>98.0</td>\n",
       "      <td>0.25</td>\n",
       "    </tr>\n",
       "    <tr>\n",
       "      <td>4</td>\n",
       "      <td>4</td>\n",
       "      <td>2016-07-05</td>\n",
       "      <td>BEACH</td>\n",
       "      <td>159</td>\n",
       "      <td>118</td>\n",
       "      <td>78</td>\n",
       "      <td>135.0</td>\n",
       "      <td>0.25</td>\n",
       "    </tr>\n",
       "    <tr>\n",
       "      <td>5</td>\n",
       "      <td>5</td>\n",
       "      <td>2016-07-06</td>\n",
       "      <td>BEACH</td>\n",
       "      <td>103</td>\n",
       "      <td>69</td>\n",
       "      <td>82</td>\n",
       "      <td>90.0</td>\n",
       "      <td>0.25</td>\n",
       "    </tr>\n",
       "    <tr>\n",
       "      <td>6</td>\n",
       "      <td>7</td>\n",
       "      <td>2016-07-07</td>\n",
       "      <td>BEACH</td>\n",
       "      <td>143</td>\n",
       "      <td>101</td>\n",
       "      <td>81</td>\n",
       "      <td>135.0</td>\n",
       "      <td>0.25</td>\n",
       "    </tr>\n",
       "    <tr>\n",
       "      <td>7</td>\n",
       "      <td>8</td>\n",
       "      <td>2016-07-08</td>\n",
       "      <td>BEACH</td>\n",
       "      <td>123</td>\n",
       "      <td>86</td>\n",
       "      <td>82</td>\n",
       "      <td>113.0</td>\n",
       "      <td>0.25</td>\n",
       "    </tr>\n",
       "    <tr>\n",
       "      <td>8</td>\n",
       "      <td>9</td>\n",
       "      <td>2016-07-09</td>\n",
       "      <td>BEACH</td>\n",
       "      <td>134</td>\n",
       "      <td>95</td>\n",
       "      <td>80</td>\n",
       "      <td>126.0</td>\n",
       "      <td>0.25</td>\n",
       "    </tr>\n",
       "    <tr>\n",
       "      <td>9</td>\n",
       "      <td>10</td>\n",
       "      <td>2016-07-10</td>\n",
       "      <td>BEACH</td>\n",
       "      <td>140</td>\n",
       "      <td>98</td>\n",
       "      <td>82</td>\n",
       "      <td>131.0</td>\n",
       "      <td>0.25</td>\n",
       "    </tr>\n",
       "    <tr>\n",
       "      <td>10</td>\n",
       "      <td>11</td>\n",
       "      <td>2016-07-11</td>\n",
       "      <td>BEACH</td>\n",
       "      <td>162</td>\n",
       "      <td>120</td>\n",
       "      <td>83</td>\n",
       "      <td>135.0</td>\n",
       "      <td>0.25</td>\n",
       "    </tr>\n",
       "    <tr>\n",
       "      <td>11</td>\n",
       "      <td>12</td>\n",
       "      <td>2016-07-12</td>\n",
       "      <td>BEACH</td>\n",
       "      <td>130</td>\n",
       "      <td>95</td>\n",
       "      <td>84</td>\n",
       "      <td>99.0</td>\n",
       "      <td>0.25</td>\n",
       "    </tr>\n",
       "    <tr>\n",
       "      <td>12</td>\n",
       "      <td>13</td>\n",
       "      <td>2016-07-13</td>\n",
       "      <td>BEACH</td>\n",
       "      <td>109</td>\n",
       "      <td>75</td>\n",
       "      <td>77</td>\n",
       "      <td>99.0</td>\n",
       "      <td>0.25</td>\n",
       "    </tr>\n",
       "    <tr>\n",
       "      <td>13</td>\n",
       "      <td>14</td>\n",
       "      <td>2016-07-14</td>\n",
       "      <td>BEACH</td>\n",
       "      <td>122</td>\n",
       "      <td>85</td>\n",
       "      <td>78</td>\n",
       "      <td>113.0</td>\n",
       "      <td>0.25</td>\n",
       "    </tr>\n",
       "    <tr>\n",
       "      <td>14</td>\n",
       "      <td>15</td>\n",
       "      <td>2016-07-15</td>\n",
       "      <td>BEACH</td>\n",
       "      <td>98</td>\n",
       "      <td>62</td>\n",
       "      <td>75</td>\n",
       "      <td>108.0</td>\n",
       "      <td>0.50</td>\n",
       "    </tr>\n",
       "    <tr>\n",
       "      <td>15</td>\n",
       "      <td>16</td>\n",
       "      <td>2016-07-16</td>\n",
       "      <td>BEACH</td>\n",
       "      <td>81</td>\n",
       "      <td>50</td>\n",
       "      <td>74</td>\n",
       "      <td>90.0</td>\n",
       "      <td>0.50</td>\n",
       "    </tr>\n",
       "    <tr>\n",
       "      <td>16</td>\n",
       "      <td>17</td>\n",
       "      <td>2016-07-17</td>\n",
       "      <td>BEACH</td>\n",
       "      <td>115</td>\n",
       "      <td>76</td>\n",
       "      <td>77</td>\n",
       "      <td>126.0</td>\n",
       "      <td>0.50</td>\n",
       "    </tr>\n",
       "    <tr>\n",
       "      <td>17</td>\n",
       "      <td>18</td>\n",
       "      <td>2016-07-18</td>\n",
       "      <td>PARK</td>\n",
       "      <td>131</td>\n",
       "      <td>92</td>\n",
       "      <td>81</td>\n",
       "      <td>122.0</td>\n",
       "      <td>0.50</td>\n",
       "    </tr>\n",
       "    <tr>\n",
       "      <td>18</td>\n",
       "      <td>19</td>\n",
       "      <td>2016-07-19</td>\n",
       "      <td>PARK</td>\n",
       "      <td>122</td>\n",
       "      <td>85</td>\n",
       "      <td>78</td>\n",
       "      <td>113.0</td>\n",
       "      <td>0.50</td>\n",
       "    </tr>\n",
       "    <tr>\n",
       "      <td>19</td>\n",
       "      <td>20</td>\n",
       "      <td>2016-07-20</td>\n",
       "      <td>PARK</td>\n",
       "      <td>71</td>\n",
       "      <td>42</td>\n",
       "      <td>70</td>\n",
       "      <td>109.0</td>\n",
       "      <td>0.50</td>\n",
       "    </tr>\n",
       "    <tr>\n",
       "      <td>20</td>\n",
       "      <td>21</td>\n",
       "      <td>2016-07-21</td>\n",
       "      <td>PARK</td>\n",
       "      <td>83</td>\n",
       "      <td>50</td>\n",
       "      <td>77</td>\n",
       "      <td>90.0</td>\n",
       "      <td>0.50</td>\n",
       "    </tr>\n",
       "    <tr>\n",
       "      <td>21</td>\n",
       "      <td>22</td>\n",
       "      <td>2016-07-22</td>\n",
       "      <td>PARK</td>\n",
       "      <td>112</td>\n",
       "      <td>75</td>\n",
       "      <td>80</td>\n",
       "      <td>108.0</td>\n",
       "      <td>0.50</td>\n",
       "    </tr>\n",
       "    <tr>\n",
       "      <td>22</td>\n",
       "      <td>23</td>\n",
       "      <td>2016-07-23</td>\n",
       "      <td>PARK</td>\n",
       "      <td>120</td>\n",
       "      <td>82</td>\n",
       "      <td>81</td>\n",
       "      <td>117.0</td>\n",
       "      <td>0.50</td>\n",
       "    </tr>\n",
       "    <tr>\n",
       "      <td>23</td>\n",
       "      <td>24</td>\n",
       "      <td>2016-07-24</td>\n",
       "      <td>PARK</td>\n",
       "      <td>121</td>\n",
       "      <td>82</td>\n",
       "      <td>82</td>\n",
       "      <td>117.0</td>\n",
       "      <td>0.50</td>\n",
       "    </tr>\n",
       "    <tr>\n",
       "      <td>24</td>\n",
       "      <td>25</td>\n",
       "      <td>2016-07-25</td>\n",
       "      <td>PARK</td>\n",
       "      <td>156</td>\n",
       "      <td>113</td>\n",
       "      <td>84</td>\n",
       "      <td>135.0</td>\n",
       "      <td>0.50</td>\n",
       "    </tr>\n",
       "    <tr>\n",
       "      <td>25</td>\n",
       "      <td>26</td>\n",
       "      <td>2016-07-26</td>\n",
       "      <td>PARK</td>\n",
       "      <td>176</td>\n",
       "      <td>129</td>\n",
       "      <td>83</td>\n",
       "      <td>158.0</td>\n",
       "      <td>0.35</td>\n",
       "    </tr>\n",
       "    <tr>\n",
       "      <td>26</td>\n",
       "      <td>27</td>\n",
       "      <td>2016-07-27</td>\n",
       "      <td>PARK</td>\n",
       "      <td>104</td>\n",
       "      <td>68</td>\n",
       "      <td>80</td>\n",
       "      <td>99.0</td>\n",
       "      <td>0.35</td>\n",
       "    </tr>\n",
       "    <tr>\n",
       "      <td>27</td>\n",
       "      <td>28</td>\n",
       "      <td>2016-07-28</td>\n",
       "      <td>PARK</td>\n",
       "      <td>96</td>\n",
       "      <td>63</td>\n",
       "      <td>82</td>\n",
       "      <td>90.0</td>\n",
       "      <td>0.35</td>\n",
       "    </tr>\n",
       "    <tr>\n",
       "      <td>28</td>\n",
       "      <td>29</td>\n",
       "      <td>2016-07-29</td>\n",
       "      <td>PARK</td>\n",
       "      <td>100</td>\n",
       "      <td>66</td>\n",
       "      <td>81</td>\n",
       "      <td>95.0</td>\n",
       "      <td>0.35</td>\n",
       "    </tr>\n",
       "    <tr>\n",
       "      <td>29</td>\n",
       "      <td>30</td>\n",
       "      <td>2016-07-30</td>\n",
       "      <td>BEACH</td>\n",
       "      <td>88</td>\n",
       "      <td>57</td>\n",
       "      <td>82</td>\n",
       "      <td>81.0</td>\n",
       "      <td>0.35</td>\n",
       "    </tr>\n",
       "    <tr>\n",
       "      <td>30</td>\n",
       "      <td>31</td>\n",
       "      <td>2016-07-31</td>\n",
       "      <td>BEACH</td>\n",
       "      <td>76</td>\n",
       "      <td>47</td>\n",
       "      <td>82</td>\n",
       "      <td>68.0</td>\n",
       "      <td>0.35</td>\n",
       "    </tr>\n",
       "  </tbody>\n",
       "</table>\n",
       "</div>"
      ],
      "text/plain": [
       "    index       DATE LOCATION  LEMON  ORANGE  TEMPERATURE  LEAFLETS  PRICE\n",
       "0       0 2016-07-01     PARK     97      67           70      90.0   0.25\n",
       "1       1 2016-07-02     PARK     98      67           72      90.0   0.25\n",
       "2       2 2016-07-03     PARK    110      77           71     104.0   0.25\n",
       "3       3 2016-07-04    BEACH    134      99           76      98.0   0.25\n",
       "4       4 2016-07-05    BEACH    159     118           78     135.0   0.25\n",
       "5       5 2016-07-06    BEACH    103      69           82      90.0   0.25\n",
       "6       7 2016-07-07    BEACH    143     101           81     135.0   0.25\n",
       "7       8 2016-07-08    BEACH    123      86           82     113.0   0.25\n",
       "8       9 2016-07-09    BEACH    134      95           80     126.0   0.25\n",
       "9      10 2016-07-10    BEACH    140      98           82     131.0   0.25\n",
       "10     11 2016-07-11    BEACH    162     120           83     135.0   0.25\n",
       "11     12 2016-07-12    BEACH    130      95           84      99.0   0.25\n",
       "12     13 2016-07-13    BEACH    109      75           77      99.0   0.25\n",
       "13     14 2016-07-14    BEACH    122      85           78     113.0   0.25\n",
       "14     15 2016-07-15    BEACH     98      62           75     108.0   0.50\n",
       "15     16 2016-07-16    BEACH     81      50           74      90.0   0.50\n",
       "16     17 2016-07-17    BEACH    115      76           77     126.0   0.50\n",
       "17     18 2016-07-18     PARK    131      92           81     122.0   0.50\n",
       "18     19 2016-07-19     PARK    122      85           78     113.0   0.50\n",
       "19     20 2016-07-20     PARK     71      42           70     109.0   0.50\n",
       "20     21 2016-07-21     PARK     83      50           77      90.0   0.50\n",
       "21     22 2016-07-22     PARK    112      75           80     108.0   0.50\n",
       "22     23 2016-07-23     PARK    120      82           81     117.0   0.50\n",
       "23     24 2016-07-24     PARK    121      82           82     117.0   0.50\n",
       "24     25 2016-07-25     PARK    156     113           84     135.0   0.50\n",
       "25     26 2016-07-26     PARK    176     129           83     158.0   0.35\n",
       "26     27 2016-07-27     PARK    104      68           80      99.0   0.35\n",
       "27     28 2016-07-28     PARK     96      63           82      90.0   0.35\n",
       "28     29 2016-07-29     PARK    100      66           81      95.0   0.35\n",
       "29     30 2016-07-30    BEACH     88      57           82      81.0   0.35\n",
       "30     31 2016-07-31    BEACH     76      47           82      68.0   0.35"
      ]
     },
     "execution_count": 5,
     "metadata": {},
     "output_type": "execute_result"
    }
   ],
   "source": [
    "#Resposta 3c)\n",
    "\n",
    "# Complete the call to convert the DATE column from string to datetime:\n",
    "data['DATE'] =  pd.to_datetime(data['DATE'],format = '%m/%d/%Y')\n",
    "print('\\033[1;31m Confirmar que a coluna de data está no formato correto,\\\n",
    " após conversão de string para datetime: \\033[0;0m', '\\n', data['DATE'].dtypes,'\\n')\n",
    "\n",
    "# Converting datatime to float, interpolate it and then convert it back to datetime:\n",
    "u = data['DATE'].astype('i8').astype('f8') # 64-bit signed integer and 64-bit floating-point number, respectively.\n",
    "u[data['DATE'].isnull()] = np.nan\n",
    "data['DATE'] = pd.to_datetime(u.interpolate())\n",
    "\n",
    "#Fill missed numerical data with mean:\n",
    "data.update(data['LEAFLETS'].fillna((np.around(np.mean(data['LEAFLETS']),0))))\n",
    "\n",
    "#Reset Index\n",
    "data = data.reset_index()\n",
    "\n",
    "print('\\033[1;31m Valores Faltantes depois de tratar os dados: \\033[0;0m', '\\n',data.isna().sum(), '\\n')\n",
    "data"
   ]
  },
  {
   "cell_type": "markdown",
   "metadata": {
    "colab_type": "text",
    "id": "b4z7f-Jn5PIm"
   },
   "source": [
    "## 4) Adicione uma coluna chamada \"Sales\" que contém o total de vendas de limão e laranja"
   ]
  },
  {
   "cell_type": "code",
   "execution_count": 6,
   "metadata": {
    "colab": {
     "base_uri": "https://localhost:8080/",
     "height": 0
    },
    "colab_type": "code",
    "id": "VklE49rl5PIn",
    "outputId": "3e4721c6-49ce-41e9-f8a3-93aee4cb58ba"
   },
   "outputs": [
    {
     "data": {
      "text/html": [
       "<div>\n",
       "<style scoped>\n",
       "    .dataframe tbody tr th:only-of-type {\n",
       "        vertical-align: middle;\n",
       "    }\n",
       "\n",
       "    .dataframe tbody tr th {\n",
       "        vertical-align: top;\n",
       "    }\n",
       "\n",
       "    .dataframe thead th {\n",
       "        text-align: right;\n",
       "    }\n",
       "</style>\n",
       "<table border=\"1\" class=\"dataframe\">\n",
       "  <thead>\n",
       "    <tr style=\"text-align: right;\">\n",
       "      <th></th>\n",
       "      <th>index</th>\n",
       "      <th>DATE</th>\n",
       "      <th>LOCATION</th>\n",
       "      <th>LEMON</th>\n",
       "      <th>ORANGE</th>\n",
       "      <th>TEMPERATURE</th>\n",
       "      <th>LEAFLETS</th>\n",
       "      <th>SALES</th>\n",
       "      <th>PRICE</th>\n",
       "    </tr>\n",
       "  </thead>\n",
       "  <tbody>\n",
       "    <tr>\n",
       "      <td>0</td>\n",
       "      <td>0</td>\n",
       "      <td>2016-07-01</td>\n",
       "      <td>PARK</td>\n",
       "      <td>97</td>\n",
       "      <td>67</td>\n",
       "      <td>70</td>\n",
       "      <td>90.0</td>\n",
       "      <td>164</td>\n",
       "      <td>0.25</td>\n",
       "    </tr>\n",
       "    <tr>\n",
       "      <td>1</td>\n",
       "      <td>1</td>\n",
       "      <td>2016-07-02</td>\n",
       "      <td>PARK</td>\n",
       "      <td>98</td>\n",
       "      <td>67</td>\n",
       "      <td>72</td>\n",
       "      <td>90.0</td>\n",
       "      <td>165</td>\n",
       "      <td>0.25</td>\n",
       "    </tr>\n",
       "    <tr>\n",
       "      <td>2</td>\n",
       "      <td>2</td>\n",
       "      <td>2016-07-03</td>\n",
       "      <td>PARK</td>\n",
       "      <td>110</td>\n",
       "      <td>77</td>\n",
       "      <td>71</td>\n",
       "      <td>104.0</td>\n",
       "      <td>187</td>\n",
       "      <td>0.25</td>\n",
       "    </tr>\n",
       "    <tr>\n",
       "      <td>3</td>\n",
       "      <td>3</td>\n",
       "      <td>2016-07-04</td>\n",
       "      <td>BEACH</td>\n",
       "      <td>134</td>\n",
       "      <td>99</td>\n",
       "      <td>76</td>\n",
       "      <td>98.0</td>\n",
       "      <td>233</td>\n",
       "      <td>0.25</td>\n",
       "    </tr>\n",
       "    <tr>\n",
       "      <td>4</td>\n",
       "      <td>4</td>\n",
       "      <td>2016-07-05</td>\n",
       "      <td>BEACH</td>\n",
       "      <td>159</td>\n",
       "      <td>118</td>\n",
       "      <td>78</td>\n",
       "      <td>135.0</td>\n",
       "      <td>277</td>\n",
       "      <td>0.25</td>\n",
       "    </tr>\n",
       "  </tbody>\n",
       "</table>\n",
       "</div>"
      ],
      "text/plain": [
       "   index       DATE LOCATION  LEMON  ORANGE  TEMPERATURE  LEAFLETS  SALES  \\\n",
       "0      0 2016-07-01     PARK     97      67           70      90.0    164   \n",
       "1      1 2016-07-02     PARK     98      67           72      90.0    165   \n",
       "2      2 2016-07-03     PARK    110      77           71     104.0    187   \n",
       "3      3 2016-07-04    BEACH    134      99           76      98.0    233   \n",
       "4      4 2016-07-05    BEACH    159     118           78     135.0    277   \n",
       "\n",
       "   PRICE  \n",
       "0   0.25  \n",
       "1   0.25  \n",
       "2   0.25  \n",
       "3   0.25  \n",
       "4   0.25  "
      ]
     },
     "execution_count": 6,
     "metadata": {},
     "output_type": "execute_result"
    }
   ],
   "source": [
    "#Resposta 4\n",
    "\n",
    "data.insert(len(data.columns)-1,'SALES', (data['LEMON'] + data['ORANGE']))\n",
    "data.head()"
   ]
  },
  {
   "cell_type": "markdown",
   "metadata": {
    "colab_type": "text",
    "id": "MulE3foo5PIr"
   },
   "source": [
    "## 5) Adicione uma coluna chamada \"Revenue\" que calcula o lucro (venda*preço)"
   ]
  },
  {
   "cell_type": "code",
   "execution_count": 7,
   "metadata": {
    "colab": {
     "base_uri": "https://localhost:8080/",
     "height": 0
    },
    "colab_type": "code",
    "id": "xtZ9HCNF5PIs",
    "outputId": "82c51c8c-b192-4f01-c6b6-fceb6b290a72"
   },
   "outputs": [
    {
     "data": {
      "text/html": [
       "<div>\n",
       "<style scoped>\n",
       "    .dataframe tbody tr th:only-of-type {\n",
       "        vertical-align: middle;\n",
       "    }\n",
       "\n",
       "    .dataframe tbody tr th {\n",
       "        vertical-align: top;\n",
       "    }\n",
       "\n",
       "    .dataframe thead th {\n",
       "        text-align: right;\n",
       "    }\n",
       "</style>\n",
       "<table border=\"1\" class=\"dataframe\">\n",
       "  <thead>\n",
       "    <tr style=\"text-align: right;\">\n",
       "      <th></th>\n",
       "      <th>index</th>\n",
       "      <th>DATE</th>\n",
       "      <th>LOCATION</th>\n",
       "      <th>LEMON</th>\n",
       "      <th>ORANGE</th>\n",
       "      <th>TEMPERATURE</th>\n",
       "      <th>LEAFLETS</th>\n",
       "      <th>SALES</th>\n",
       "      <th>PRICE</th>\n",
       "      <th>REVENUE</th>\n",
       "    </tr>\n",
       "  </thead>\n",
       "  <tbody>\n",
       "    <tr>\n",
       "      <td>0</td>\n",
       "      <td>0</td>\n",
       "      <td>2016-07-01</td>\n",
       "      <td>PARK</td>\n",
       "      <td>97</td>\n",
       "      <td>67</td>\n",
       "      <td>70</td>\n",
       "      <td>90.0</td>\n",
       "      <td>164</td>\n",
       "      <td>0.25</td>\n",
       "      <td>41.00</td>\n",
       "    </tr>\n",
       "    <tr>\n",
       "      <td>1</td>\n",
       "      <td>1</td>\n",
       "      <td>2016-07-02</td>\n",
       "      <td>PARK</td>\n",
       "      <td>98</td>\n",
       "      <td>67</td>\n",
       "      <td>72</td>\n",
       "      <td>90.0</td>\n",
       "      <td>165</td>\n",
       "      <td>0.25</td>\n",
       "      <td>41.25</td>\n",
       "    </tr>\n",
       "    <tr>\n",
       "      <td>2</td>\n",
       "      <td>2</td>\n",
       "      <td>2016-07-03</td>\n",
       "      <td>PARK</td>\n",
       "      <td>110</td>\n",
       "      <td>77</td>\n",
       "      <td>71</td>\n",
       "      <td>104.0</td>\n",
       "      <td>187</td>\n",
       "      <td>0.25</td>\n",
       "      <td>46.75</td>\n",
       "    </tr>\n",
       "    <tr>\n",
       "      <td>3</td>\n",
       "      <td>3</td>\n",
       "      <td>2016-07-04</td>\n",
       "      <td>BEACH</td>\n",
       "      <td>134</td>\n",
       "      <td>99</td>\n",
       "      <td>76</td>\n",
       "      <td>98.0</td>\n",
       "      <td>233</td>\n",
       "      <td>0.25</td>\n",
       "      <td>58.25</td>\n",
       "    </tr>\n",
       "    <tr>\n",
       "      <td>4</td>\n",
       "      <td>4</td>\n",
       "      <td>2016-07-05</td>\n",
       "      <td>BEACH</td>\n",
       "      <td>159</td>\n",
       "      <td>118</td>\n",
       "      <td>78</td>\n",
       "      <td>135.0</td>\n",
       "      <td>277</td>\n",
       "      <td>0.25</td>\n",
       "      <td>69.25</td>\n",
       "    </tr>\n",
       "  </tbody>\n",
       "</table>\n",
       "</div>"
      ],
      "text/plain": [
       "   index       DATE LOCATION  LEMON  ORANGE  TEMPERATURE  LEAFLETS  SALES  \\\n",
       "0      0 2016-07-01     PARK     97      67           70      90.0    164   \n",
       "1      1 2016-07-02     PARK     98      67           72      90.0    165   \n",
       "2      2 2016-07-03     PARK    110      77           71     104.0    187   \n",
       "3      3 2016-07-04    BEACH    134      99           76      98.0    233   \n",
       "4      4 2016-07-05    BEACH    159     118           78     135.0    277   \n",
       "\n",
       "   PRICE  REVENUE  \n",
       "0   0.25    41.00  \n",
       "1   0.25    41.25  \n",
       "2   0.25    46.75  \n",
       "3   0.25    58.25  \n",
       "4   0.25    69.25  "
      ]
     },
     "execution_count": 7,
     "metadata": {},
     "output_type": "execute_result"
    }
   ],
   "source": [
    "#Resposta 5\n",
    "\n",
    "data.insert(len(data.columns),'REVENUE', data['PRICE'] * data['SALES'])\n",
    "data.head()"
   ]
  },
  {
   "cell_type": "markdown",
   "metadata": {
    "colab_type": "text",
    "id": "oO3nSRMR5PIv"
   },
   "source": [
    "## 6)Escreva uma função que retorne o lucro total"
   ]
  },
  {
   "cell_type": "code",
   "execution_count": 8,
   "metadata": {
    "colab": {
     "base_uri": "https://localhost:8080/",
     "height": 0
    },
    "colab_type": "code",
    "id": "AVxDjF3G5PIx",
    "outputId": "2b8ea461-b9a5-4e3b-f1be-85e47920aefc"
   },
   "outputs": [
    {
     "name": "stdout",
     "output_type": "stream",
     "text": [
      "\u001b[1;31mLucro total (Alt1):\u001b[0;0m 2138.0\n",
      "\u001b[1;31m O lucro total (Alt2):\u001b[0;0m 2138.0\n"
     ]
    }
   ],
   "source": [
    "#Resposta 6\n",
    "\n",
    "# Temos duas altenativas para resolver essa questão\n",
    "\n",
    "#Alternativa 1:\n",
    "\n",
    "# Função para calcular o valor total da coluna REVENUE linha a linha\n",
    "def lucro_total(valor):\n",
    "    total = 0\n",
    "    for x in valor:\n",
    "        total = total + x\n",
    "    return total\n",
    "    \n",
    "print('\\033[1;31mLucro total (Alt1):\\033[0;0m', lucro_total(valor = data['REVENUE']))\n",
    "\n",
    "#Alternativa 2:\n",
    "profit = np.sum(data['REVENUE'])\n",
    "print('\\033[1;31m O lucro total (Alt2):\\033[0;0m', profit)"
   ]
  },
  {
   "cell_type": "markdown",
   "metadata": {
    "colab_type": "text",
    "id": "jLrM4jDG5PI0"
   },
   "source": [
    "## 7) Escreva uma função que receba dois parâmetros, dataset e temp(int). Se temp for 1, ele retorna a máxima temperatura observada no conjunto de dados; se 0, retorna a média do período observado; se -1, retorna a temperatura mínima."
   ]
  },
  {
   "cell_type": "code",
   "execution_count": 9,
   "metadata": {
    "colab": {
     "base_uri": "https://localhost:8080/",
     "height": 0
    },
    "colab_type": "code",
    "id": "rA_EmNh05PI1",
    "outputId": "1b85d2bc-6547-4ba7-f592-571951912f38"
   },
   "outputs": [
    {
     "name": "stdout",
     "output_type": "stream",
     "text": [
      "temp_med = 78.87096774193549\n",
      "temp_max = 84\n",
      "temp_min = 70\n"
     ]
    }
   ],
   "source": [
    "#Resposta 7\n",
    "\n",
    "def temperatura(dataset, temp):\n",
    "    \n",
    "    d = dataset\n",
    "    \n",
    "    try:\n",
    "        t = int(temp)\n",
    "    except UnboundLocalError:\n",
    "        print(\"Escolha entre '-1', '0' ou '1'\")\n",
    "    \n",
    "    if t == 1:\n",
    "        return np.max(d['TEMPERATURE'])\n",
    "    elif t == 0:\n",
    "        return np.mean(d['TEMPERATURE'])\n",
    "    elif t == -1:\n",
    "        return np.min(d['TEMPERATURE'])\n",
    "    else:\n",
    "        print(\"Escolha entre '-1', '0' ou '1'\")\n",
    "        sys.exit()\n",
    "    \n",
    "# temperatura(data, input(\"Entre com '1' para temperatura máxima, '0' para temperatura média ou '-1' para temperatura mínima:\"))\n",
    "temp_med = temperatura(data, \"0\")\n",
    "print('temp_med = {}'.format(temp_med))\n",
    "\n",
    "temp_max = temperatura(data, \"1\")\n",
    "print('temp_max = {}'.format(temp_max))\n",
    "\n",
    "temp_min = temperatura(data, \"-1\")\n",
    "print('temp_min = {}'.format(temp_min))"
   ]
  },
  {
   "cell_type": "markdown",
   "metadata": {
    "colab_type": "text",
    "id": "OjMNvElB5PI5"
   },
   "source": [
    "## 8)Escreva uma função que receba dois parâmetros (dataset, localização) e retorne o dataset com o preço do limão e laranja ajustados em 15% se a localização for 'Park' ou ajustados em 10% se a localização for 'Beach'."
   ]
  },
  {
   "cell_type": "code",
   "execution_count": 10,
   "metadata": {
    "colab": {
     "base_uri": "https://localhost:8080/",
     "height": 0
    },
    "colab_type": "code",
    "id": "_D5RTFYz5PI6",
    "outputId": "14337aed-844d-433e-80e0-5527cbe46f10"
   },
   "outputs": [
    {
     "data": {
      "text/html": [
       "<div>\n",
       "<style scoped>\n",
       "    .dataframe tbody tr th:only-of-type {\n",
       "        vertical-align: middle;\n",
       "    }\n",
       "\n",
       "    .dataframe tbody tr th {\n",
       "        vertical-align: top;\n",
       "    }\n",
       "\n",
       "    .dataframe thead th {\n",
       "        text-align: right;\n",
       "    }\n",
       "</style>\n",
       "<table border=\"1\" class=\"dataframe\">\n",
       "  <thead>\n",
       "    <tr style=\"text-align: right;\">\n",
       "      <th></th>\n",
       "      <th>index</th>\n",
       "      <th>DATE</th>\n",
       "      <th>LOCATION</th>\n",
       "      <th>LEMON</th>\n",
       "      <th>ORANGE</th>\n",
       "      <th>TEMPERATURE</th>\n",
       "      <th>LEAFLETS</th>\n",
       "      <th>SALES</th>\n",
       "      <th>PRICE</th>\n",
       "      <th>REVENUE</th>\n",
       "    </tr>\n",
       "  </thead>\n",
       "  <tbody>\n",
       "    <tr>\n",
       "      <td>0</td>\n",
       "      <td>0</td>\n",
       "      <td>2016-07-01</td>\n",
       "      <td>PARK</td>\n",
       "      <td>97</td>\n",
       "      <td>67</td>\n",
       "      <td>70</td>\n",
       "      <td>90.0</td>\n",
       "      <td>164</td>\n",
       "      <td>0.2875</td>\n",
       "      <td>41.00</td>\n",
       "    </tr>\n",
       "    <tr>\n",
       "      <td>1</td>\n",
       "      <td>1</td>\n",
       "      <td>2016-07-02</td>\n",
       "      <td>PARK</td>\n",
       "      <td>98</td>\n",
       "      <td>67</td>\n",
       "      <td>72</td>\n",
       "      <td>90.0</td>\n",
       "      <td>165</td>\n",
       "      <td>0.2875</td>\n",
       "      <td>41.25</td>\n",
       "    </tr>\n",
       "    <tr>\n",
       "      <td>2</td>\n",
       "      <td>2</td>\n",
       "      <td>2016-07-03</td>\n",
       "      <td>PARK</td>\n",
       "      <td>110</td>\n",
       "      <td>77</td>\n",
       "      <td>71</td>\n",
       "      <td>104.0</td>\n",
       "      <td>187</td>\n",
       "      <td>0.2875</td>\n",
       "      <td>46.75</td>\n",
       "    </tr>\n",
       "    <tr>\n",
       "      <td>3</td>\n",
       "      <td>3</td>\n",
       "      <td>2016-07-04</td>\n",
       "      <td>BEACH</td>\n",
       "      <td>134</td>\n",
       "      <td>99</td>\n",
       "      <td>76</td>\n",
       "      <td>98.0</td>\n",
       "      <td>233</td>\n",
       "      <td>0.2750</td>\n",
       "      <td>58.25</td>\n",
       "    </tr>\n",
       "    <tr>\n",
       "      <td>4</td>\n",
       "      <td>4</td>\n",
       "      <td>2016-07-05</td>\n",
       "      <td>BEACH</td>\n",
       "      <td>159</td>\n",
       "      <td>118</td>\n",
       "      <td>78</td>\n",
       "      <td>135.0</td>\n",
       "      <td>277</td>\n",
       "      <td>0.2750</td>\n",
       "      <td>69.25</td>\n",
       "    </tr>\n",
       "    <tr>\n",
       "      <td>5</td>\n",
       "      <td>5</td>\n",
       "      <td>2016-07-06</td>\n",
       "      <td>BEACH</td>\n",
       "      <td>103</td>\n",
       "      <td>69</td>\n",
       "      <td>82</td>\n",
       "      <td>90.0</td>\n",
       "      <td>172</td>\n",
       "      <td>0.2750</td>\n",
       "      <td>43.00</td>\n",
       "    </tr>\n",
       "    <tr>\n",
       "      <td>6</td>\n",
       "      <td>7</td>\n",
       "      <td>2016-07-07</td>\n",
       "      <td>BEACH</td>\n",
       "      <td>143</td>\n",
       "      <td>101</td>\n",
       "      <td>81</td>\n",
       "      <td>135.0</td>\n",
       "      <td>244</td>\n",
       "      <td>0.2750</td>\n",
       "      <td>61.00</td>\n",
       "    </tr>\n",
       "    <tr>\n",
       "      <td>7</td>\n",
       "      <td>8</td>\n",
       "      <td>2016-07-08</td>\n",
       "      <td>BEACH</td>\n",
       "      <td>123</td>\n",
       "      <td>86</td>\n",
       "      <td>82</td>\n",
       "      <td>113.0</td>\n",
       "      <td>209</td>\n",
       "      <td>0.2750</td>\n",
       "      <td>52.25</td>\n",
       "    </tr>\n",
       "    <tr>\n",
       "      <td>8</td>\n",
       "      <td>9</td>\n",
       "      <td>2016-07-09</td>\n",
       "      <td>BEACH</td>\n",
       "      <td>134</td>\n",
       "      <td>95</td>\n",
       "      <td>80</td>\n",
       "      <td>126.0</td>\n",
       "      <td>229</td>\n",
       "      <td>0.2750</td>\n",
       "      <td>57.25</td>\n",
       "    </tr>\n",
       "    <tr>\n",
       "      <td>9</td>\n",
       "      <td>10</td>\n",
       "      <td>2016-07-10</td>\n",
       "      <td>BEACH</td>\n",
       "      <td>140</td>\n",
       "      <td>98</td>\n",
       "      <td>82</td>\n",
       "      <td>131.0</td>\n",
       "      <td>238</td>\n",
       "      <td>0.2750</td>\n",
       "      <td>59.50</td>\n",
       "    </tr>\n",
       "    <tr>\n",
       "      <td>10</td>\n",
       "      <td>11</td>\n",
       "      <td>2016-07-11</td>\n",
       "      <td>BEACH</td>\n",
       "      <td>162</td>\n",
       "      <td>120</td>\n",
       "      <td>83</td>\n",
       "      <td>135.0</td>\n",
       "      <td>282</td>\n",
       "      <td>0.2750</td>\n",
       "      <td>70.50</td>\n",
       "    </tr>\n",
       "    <tr>\n",
       "      <td>11</td>\n",
       "      <td>12</td>\n",
       "      <td>2016-07-12</td>\n",
       "      <td>BEACH</td>\n",
       "      <td>130</td>\n",
       "      <td>95</td>\n",
       "      <td>84</td>\n",
       "      <td>99.0</td>\n",
       "      <td>225</td>\n",
       "      <td>0.2750</td>\n",
       "      <td>56.25</td>\n",
       "    </tr>\n",
       "    <tr>\n",
       "      <td>12</td>\n",
       "      <td>13</td>\n",
       "      <td>2016-07-13</td>\n",
       "      <td>BEACH</td>\n",
       "      <td>109</td>\n",
       "      <td>75</td>\n",
       "      <td>77</td>\n",
       "      <td>99.0</td>\n",
       "      <td>184</td>\n",
       "      <td>0.2750</td>\n",
       "      <td>46.00</td>\n",
       "    </tr>\n",
       "    <tr>\n",
       "      <td>13</td>\n",
       "      <td>14</td>\n",
       "      <td>2016-07-14</td>\n",
       "      <td>BEACH</td>\n",
       "      <td>122</td>\n",
       "      <td>85</td>\n",
       "      <td>78</td>\n",
       "      <td>113.0</td>\n",
       "      <td>207</td>\n",
       "      <td>0.2750</td>\n",
       "      <td>51.75</td>\n",
       "    </tr>\n",
       "    <tr>\n",
       "      <td>14</td>\n",
       "      <td>15</td>\n",
       "      <td>2016-07-15</td>\n",
       "      <td>BEACH</td>\n",
       "      <td>98</td>\n",
       "      <td>62</td>\n",
       "      <td>75</td>\n",
       "      <td>108.0</td>\n",
       "      <td>160</td>\n",
       "      <td>0.5500</td>\n",
       "      <td>80.00</td>\n",
       "    </tr>\n",
       "    <tr>\n",
       "      <td>15</td>\n",
       "      <td>16</td>\n",
       "      <td>2016-07-16</td>\n",
       "      <td>BEACH</td>\n",
       "      <td>81</td>\n",
       "      <td>50</td>\n",
       "      <td>74</td>\n",
       "      <td>90.0</td>\n",
       "      <td>131</td>\n",
       "      <td>0.5500</td>\n",
       "      <td>65.50</td>\n",
       "    </tr>\n",
       "    <tr>\n",
       "      <td>16</td>\n",
       "      <td>17</td>\n",
       "      <td>2016-07-17</td>\n",
       "      <td>BEACH</td>\n",
       "      <td>115</td>\n",
       "      <td>76</td>\n",
       "      <td>77</td>\n",
       "      <td>126.0</td>\n",
       "      <td>191</td>\n",
       "      <td>0.5500</td>\n",
       "      <td>95.50</td>\n",
       "    </tr>\n",
       "    <tr>\n",
       "      <td>17</td>\n",
       "      <td>18</td>\n",
       "      <td>2016-07-18</td>\n",
       "      <td>PARK</td>\n",
       "      <td>131</td>\n",
       "      <td>92</td>\n",
       "      <td>81</td>\n",
       "      <td>122.0</td>\n",
       "      <td>223</td>\n",
       "      <td>0.5750</td>\n",
       "      <td>111.50</td>\n",
       "    </tr>\n",
       "    <tr>\n",
       "      <td>18</td>\n",
       "      <td>19</td>\n",
       "      <td>2016-07-19</td>\n",
       "      <td>PARK</td>\n",
       "      <td>122</td>\n",
       "      <td>85</td>\n",
       "      <td>78</td>\n",
       "      <td>113.0</td>\n",
       "      <td>207</td>\n",
       "      <td>0.5750</td>\n",
       "      <td>103.50</td>\n",
       "    </tr>\n",
       "    <tr>\n",
       "      <td>19</td>\n",
       "      <td>20</td>\n",
       "      <td>2016-07-20</td>\n",
       "      <td>PARK</td>\n",
       "      <td>71</td>\n",
       "      <td>42</td>\n",
       "      <td>70</td>\n",
       "      <td>109.0</td>\n",
       "      <td>113</td>\n",
       "      <td>0.5750</td>\n",
       "      <td>56.50</td>\n",
       "    </tr>\n",
       "    <tr>\n",
       "      <td>20</td>\n",
       "      <td>21</td>\n",
       "      <td>2016-07-21</td>\n",
       "      <td>PARK</td>\n",
       "      <td>83</td>\n",
       "      <td>50</td>\n",
       "      <td>77</td>\n",
       "      <td>90.0</td>\n",
       "      <td>133</td>\n",
       "      <td>0.5750</td>\n",
       "      <td>66.50</td>\n",
       "    </tr>\n",
       "    <tr>\n",
       "      <td>21</td>\n",
       "      <td>22</td>\n",
       "      <td>2016-07-22</td>\n",
       "      <td>PARK</td>\n",
       "      <td>112</td>\n",
       "      <td>75</td>\n",
       "      <td>80</td>\n",
       "      <td>108.0</td>\n",
       "      <td>187</td>\n",
       "      <td>0.5750</td>\n",
       "      <td>93.50</td>\n",
       "    </tr>\n",
       "    <tr>\n",
       "      <td>22</td>\n",
       "      <td>23</td>\n",
       "      <td>2016-07-23</td>\n",
       "      <td>PARK</td>\n",
       "      <td>120</td>\n",
       "      <td>82</td>\n",
       "      <td>81</td>\n",
       "      <td>117.0</td>\n",
       "      <td>202</td>\n",
       "      <td>0.5750</td>\n",
       "      <td>101.00</td>\n",
       "    </tr>\n",
       "    <tr>\n",
       "      <td>23</td>\n",
       "      <td>24</td>\n",
       "      <td>2016-07-24</td>\n",
       "      <td>PARK</td>\n",
       "      <td>121</td>\n",
       "      <td>82</td>\n",
       "      <td>82</td>\n",
       "      <td>117.0</td>\n",
       "      <td>203</td>\n",
       "      <td>0.5750</td>\n",
       "      <td>101.50</td>\n",
       "    </tr>\n",
       "    <tr>\n",
       "      <td>24</td>\n",
       "      <td>25</td>\n",
       "      <td>2016-07-25</td>\n",
       "      <td>PARK</td>\n",
       "      <td>156</td>\n",
       "      <td>113</td>\n",
       "      <td>84</td>\n",
       "      <td>135.0</td>\n",
       "      <td>269</td>\n",
       "      <td>0.5750</td>\n",
       "      <td>134.50</td>\n",
       "    </tr>\n",
       "    <tr>\n",
       "      <td>25</td>\n",
       "      <td>26</td>\n",
       "      <td>2016-07-26</td>\n",
       "      <td>PARK</td>\n",
       "      <td>176</td>\n",
       "      <td>129</td>\n",
       "      <td>83</td>\n",
       "      <td>158.0</td>\n",
       "      <td>305</td>\n",
       "      <td>0.4025</td>\n",
       "      <td>106.75</td>\n",
       "    </tr>\n",
       "    <tr>\n",
       "      <td>26</td>\n",
       "      <td>27</td>\n",
       "      <td>2016-07-27</td>\n",
       "      <td>PARK</td>\n",
       "      <td>104</td>\n",
       "      <td>68</td>\n",
       "      <td>80</td>\n",
       "      <td>99.0</td>\n",
       "      <td>172</td>\n",
       "      <td>0.4025</td>\n",
       "      <td>60.20</td>\n",
       "    </tr>\n",
       "    <tr>\n",
       "      <td>27</td>\n",
       "      <td>28</td>\n",
       "      <td>2016-07-28</td>\n",
       "      <td>PARK</td>\n",
       "      <td>96</td>\n",
       "      <td>63</td>\n",
       "      <td>82</td>\n",
       "      <td>90.0</td>\n",
       "      <td>159</td>\n",
       "      <td>0.4025</td>\n",
       "      <td>55.65</td>\n",
       "    </tr>\n",
       "    <tr>\n",
       "      <td>28</td>\n",
       "      <td>29</td>\n",
       "      <td>2016-07-29</td>\n",
       "      <td>PARK</td>\n",
       "      <td>100</td>\n",
       "      <td>66</td>\n",
       "      <td>81</td>\n",
       "      <td>95.0</td>\n",
       "      <td>166</td>\n",
       "      <td>0.4025</td>\n",
       "      <td>58.10</td>\n",
       "    </tr>\n",
       "    <tr>\n",
       "      <td>29</td>\n",
       "      <td>30</td>\n",
       "      <td>2016-07-30</td>\n",
       "      <td>BEACH</td>\n",
       "      <td>88</td>\n",
       "      <td>57</td>\n",
       "      <td>82</td>\n",
       "      <td>81.0</td>\n",
       "      <td>145</td>\n",
       "      <td>0.3850</td>\n",
       "      <td>50.75</td>\n",
       "    </tr>\n",
       "    <tr>\n",
       "      <td>30</td>\n",
       "      <td>31</td>\n",
       "      <td>2016-07-31</td>\n",
       "      <td>BEACH</td>\n",
       "      <td>76</td>\n",
       "      <td>47</td>\n",
       "      <td>82</td>\n",
       "      <td>68.0</td>\n",
       "      <td>123</td>\n",
       "      <td>0.3850</td>\n",
       "      <td>43.05</td>\n",
       "    </tr>\n",
       "  </tbody>\n",
       "</table>\n",
       "</div>"
      ],
      "text/plain": [
       "    index       DATE LOCATION  LEMON  ORANGE  TEMPERATURE  LEAFLETS  SALES  \\\n",
       "0       0 2016-07-01     PARK     97      67           70      90.0    164   \n",
       "1       1 2016-07-02     PARK     98      67           72      90.0    165   \n",
       "2       2 2016-07-03     PARK    110      77           71     104.0    187   \n",
       "3       3 2016-07-04    BEACH    134      99           76      98.0    233   \n",
       "4       4 2016-07-05    BEACH    159     118           78     135.0    277   \n",
       "5       5 2016-07-06    BEACH    103      69           82      90.0    172   \n",
       "6       7 2016-07-07    BEACH    143     101           81     135.0    244   \n",
       "7       8 2016-07-08    BEACH    123      86           82     113.0    209   \n",
       "8       9 2016-07-09    BEACH    134      95           80     126.0    229   \n",
       "9      10 2016-07-10    BEACH    140      98           82     131.0    238   \n",
       "10     11 2016-07-11    BEACH    162     120           83     135.0    282   \n",
       "11     12 2016-07-12    BEACH    130      95           84      99.0    225   \n",
       "12     13 2016-07-13    BEACH    109      75           77      99.0    184   \n",
       "13     14 2016-07-14    BEACH    122      85           78     113.0    207   \n",
       "14     15 2016-07-15    BEACH     98      62           75     108.0    160   \n",
       "15     16 2016-07-16    BEACH     81      50           74      90.0    131   \n",
       "16     17 2016-07-17    BEACH    115      76           77     126.0    191   \n",
       "17     18 2016-07-18     PARK    131      92           81     122.0    223   \n",
       "18     19 2016-07-19     PARK    122      85           78     113.0    207   \n",
       "19     20 2016-07-20     PARK     71      42           70     109.0    113   \n",
       "20     21 2016-07-21     PARK     83      50           77      90.0    133   \n",
       "21     22 2016-07-22     PARK    112      75           80     108.0    187   \n",
       "22     23 2016-07-23     PARK    120      82           81     117.0    202   \n",
       "23     24 2016-07-24     PARK    121      82           82     117.0    203   \n",
       "24     25 2016-07-25     PARK    156     113           84     135.0    269   \n",
       "25     26 2016-07-26     PARK    176     129           83     158.0    305   \n",
       "26     27 2016-07-27     PARK    104      68           80      99.0    172   \n",
       "27     28 2016-07-28     PARK     96      63           82      90.0    159   \n",
       "28     29 2016-07-29     PARK    100      66           81      95.0    166   \n",
       "29     30 2016-07-30    BEACH     88      57           82      81.0    145   \n",
       "30     31 2016-07-31    BEACH     76      47           82      68.0    123   \n",
       "\n",
       "     PRICE  REVENUE  \n",
       "0   0.2875    41.00  \n",
       "1   0.2875    41.25  \n",
       "2   0.2875    46.75  \n",
       "3   0.2750    58.25  \n",
       "4   0.2750    69.25  \n",
       "5   0.2750    43.00  \n",
       "6   0.2750    61.00  \n",
       "7   0.2750    52.25  \n",
       "8   0.2750    57.25  \n",
       "9   0.2750    59.50  \n",
       "10  0.2750    70.50  \n",
       "11  0.2750    56.25  \n",
       "12  0.2750    46.00  \n",
       "13  0.2750    51.75  \n",
       "14  0.5500    80.00  \n",
       "15  0.5500    65.50  \n",
       "16  0.5500    95.50  \n",
       "17  0.5750   111.50  \n",
       "18  0.5750   103.50  \n",
       "19  0.5750    56.50  \n",
       "20  0.5750    66.50  \n",
       "21  0.5750    93.50  \n",
       "22  0.5750   101.00  \n",
       "23  0.5750   101.50  \n",
       "24  0.5750   134.50  \n",
       "25  0.4025   106.75  \n",
       "26  0.4025    60.20  \n",
       "27  0.4025    55.65  \n",
       "28  0.4025    58.10  \n",
       "29  0.3850    50.75  \n",
       "30  0.3850    43.05  "
      ]
     },
     "execution_count": 10,
     "metadata": {},
     "output_type": "execute_result"
    }
   ],
   "source": [
    "# Resposta 8\n",
    "\n",
    "def locprice(dataset, loc):\n",
    "    \n",
    "    l = loc.upper()\n",
    "    \n",
    "    if l == \"PARK\":\n",
    "         dataset.loc[dataset['LOCATION']=='PARK',['PRICE']] *= 1.15\n",
    "        \n",
    "    elif l == \"BEACH\":\n",
    "         dataset.loc[dataset['LOCATION']=='BEACH',['PRICE']] *= 1.10\n",
    "\n",
    "    else:\n",
    "        print(\"Escolha entre 'Park' ou 'Beach'\")\n",
    "        sys.exit()\n",
    "\n",
    "    return dataset\n",
    "        \n",
    "# locprice(data, input(\"Escolha entre 'Park' ou 'Beach':\"))\n",
    "locprice(data, 'park')\n",
    "locprice(data, 'Beach')\n",
    "data"
   ]
  },
  {
   "cell_type": "markdown",
   "metadata": {
    "colab_type": "text",
    "id": "OZ25qT4f5PI9"
   },
   "source": [
    "## 9)Escreva uma função que receba o dataset como parâmetro e retorne o dataset com uma coluna a mais que mostre o rank de temperatura. O dataset retornado precisa estar ordenado de acordo com rank (descendente)"
   ]
  },
  {
   "cell_type": "code",
   "execution_count": 11,
   "metadata": {
    "colab": {
     "base_uri": "https://localhost:8080/",
     "height": 0
    },
    "colab_type": "code",
    "id": "gi-3UaX65PI-",
    "outputId": "165213c1-2493-4298-e438-4820875fd690"
   },
   "outputs": [
    {
     "data": {
      "text/html": [
       "<div>\n",
       "<style scoped>\n",
       "    .dataframe tbody tr th:only-of-type {\n",
       "        vertical-align: middle;\n",
       "    }\n",
       "\n",
       "    .dataframe tbody tr th {\n",
       "        vertical-align: top;\n",
       "    }\n",
       "\n",
       "    .dataframe thead th {\n",
       "        text-align: right;\n",
       "    }\n",
       "</style>\n",
       "<table border=\"1\" class=\"dataframe\">\n",
       "  <thead>\n",
       "    <tr style=\"text-align: right;\">\n",
       "      <th></th>\n",
       "      <th>index</th>\n",
       "      <th>DATE</th>\n",
       "      <th>LOCATION</th>\n",
       "      <th>LEMON</th>\n",
       "      <th>ORANGE</th>\n",
       "      <th>TEMPERATURE</th>\n",
       "      <th>LEAFLETS</th>\n",
       "      <th>SALES</th>\n",
       "      <th>PRICE</th>\n",
       "      <th>REVENUE</th>\n",
       "      <th>RANK</th>\n",
       "    </tr>\n",
       "  </thead>\n",
       "  <tbody>\n",
       "    <tr>\n",
       "      <td>24</td>\n",
       "      <td>25</td>\n",
       "      <td>2016-07-25</td>\n",
       "      <td>PARK</td>\n",
       "      <td>156</td>\n",
       "      <td>113</td>\n",
       "      <td>84</td>\n",
       "      <td>135.0</td>\n",
       "      <td>269</td>\n",
       "      <td>0.5750</td>\n",
       "      <td>134.50</td>\n",
       "      <td>30.5</td>\n",
       "    </tr>\n",
       "    <tr>\n",
       "      <td>11</td>\n",
       "      <td>12</td>\n",
       "      <td>2016-07-12</td>\n",
       "      <td>BEACH</td>\n",
       "      <td>130</td>\n",
       "      <td>95</td>\n",
       "      <td>84</td>\n",
       "      <td>99.0</td>\n",
       "      <td>225</td>\n",
       "      <td>0.2750</td>\n",
       "      <td>56.25</td>\n",
       "      <td>30.5</td>\n",
       "    </tr>\n",
       "    <tr>\n",
       "      <td>25</td>\n",
       "      <td>26</td>\n",
       "      <td>2016-07-26</td>\n",
       "      <td>PARK</td>\n",
       "      <td>176</td>\n",
       "      <td>129</td>\n",
       "      <td>83</td>\n",
       "      <td>158.0</td>\n",
       "      <td>305</td>\n",
       "      <td>0.4025</td>\n",
       "      <td>106.75</td>\n",
       "      <td>28.5</td>\n",
       "    </tr>\n",
       "    <tr>\n",
       "      <td>10</td>\n",
       "      <td>11</td>\n",
       "      <td>2016-07-11</td>\n",
       "      <td>BEACH</td>\n",
       "      <td>162</td>\n",
       "      <td>120</td>\n",
       "      <td>83</td>\n",
       "      <td>135.0</td>\n",
       "      <td>282</td>\n",
       "      <td>0.2750</td>\n",
       "      <td>70.50</td>\n",
       "      <td>28.5</td>\n",
       "    </tr>\n",
       "    <tr>\n",
       "      <td>9</td>\n",
       "      <td>10</td>\n",
       "      <td>2016-07-10</td>\n",
       "      <td>BEACH</td>\n",
       "      <td>140</td>\n",
       "      <td>98</td>\n",
       "      <td>82</td>\n",
       "      <td>131.0</td>\n",
       "      <td>238</td>\n",
       "      <td>0.2750</td>\n",
       "      <td>59.50</td>\n",
       "      <td>24.0</td>\n",
       "    </tr>\n",
       "    <tr>\n",
       "      <td>23</td>\n",
       "      <td>24</td>\n",
       "      <td>2016-07-24</td>\n",
       "      <td>PARK</td>\n",
       "      <td>121</td>\n",
       "      <td>82</td>\n",
       "      <td>82</td>\n",
       "      <td>117.0</td>\n",
       "      <td>203</td>\n",
       "      <td>0.5750</td>\n",
       "      <td>101.50</td>\n",
       "      <td>24.0</td>\n",
       "    </tr>\n",
       "    <tr>\n",
       "      <td>27</td>\n",
       "      <td>28</td>\n",
       "      <td>2016-07-28</td>\n",
       "      <td>PARK</td>\n",
       "      <td>96</td>\n",
       "      <td>63</td>\n",
       "      <td>82</td>\n",
       "      <td>90.0</td>\n",
       "      <td>159</td>\n",
       "      <td>0.4025</td>\n",
       "      <td>55.65</td>\n",
       "      <td>24.0</td>\n",
       "    </tr>\n",
       "    <tr>\n",
       "      <td>30</td>\n",
       "      <td>31</td>\n",
       "      <td>2016-07-31</td>\n",
       "      <td>BEACH</td>\n",
       "      <td>76</td>\n",
       "      <td>47</td>\n",
       "      <td>82</td>\n",
       "      <td>68.0</td>\n",
       "      <td>123</td>\n",
       "      <td>0.3850</td>\n",
       "      <td>43.05</td>\n",
       "      <td>24.0</td>\n",
       "    </tr>\n",
       "    <tr>\n",
       "      <td>7</td>\n",
       "      <td>8</td>\n",
       "      <td>2016-07-08</td>\n",
       "      <td>BEACH</td>\n",
       "      <td>123</td>\n",
       "      <td>86</td>\n",
       "      <td>82</td>\n",
       "      <td>113.0</td>\n",
       "      <td>209</td>\n",
       "      <td>0.2750</td>\n",
       "      <td>52.25</td>\n",
       "      <td>24.0</td>\n",
       "    </tr>\n",
       "    <tr>\n",
       "      <td>5</td>\n",
       "      <td>5</td>\n",
       "      <td>2016-07-06</td>\n",
       "      <td>BEACH</td>\n",
       "      <td>103</td>\n",
       "      <td>69</td>\n",
       "      <td>82</td>\n",
       "      <td>90.0</td>\n",
       "      <td>172</td>\n",
       "      <td>0.2750</td>\n",
       "      <td>43.00</td>\n",
       "      <td>24.0</td>\n",
       "    </tr>\n",
       "    <tr>\n",
       "      <td>29</td>\n",
       "      <td>30</td>\n",
       "      <td>2016-07-30</td>\n",
       "      <td>BEACH</td>\n",
       "      <td>88</td>\n",
       "      <td>57</td>\n",
       "      <td>82</td>\n",
       "      <td>81.0</td>\n",
       "      <td>145</td>\n",
       "      <td>0.3850</td>\n",
       "      <td>50.75</td>\n",
       "      <td>24.0</td>\n",
       "    </tr>\n",
       "    <tr>\n",
       "      <td>17</td>\n",
       "      <td>18</td>\n",
       "      <td>2016-07-18</td>\n",
       "      <td>PARK</td>\n",
       "      <td>131</td>\n",
       "      <td>92</td>\n",
       "      <td>81</td>\n",
       "      <td>122.0</td>\n",
       "      <td>223</td>\n",
       "      <td>0.5750</td>\n",
       "      <td>111.50</td>\n",
       "      <td>18.5</td>\n",
       "    </tr>\n",
       "    <tr>\n",
       "      <td>6</td>\n",
       "      <td>7</td>\n",
       "      <td>2016-07-07</td>\n",
       "      <td>BEACH</td>\n",
       "      <td>143</td>\n",
       "      <td>101</td>\n",
       "      <td>81</td>\n",
       "      <td>135.0</td>\n",
       "      <td>244</td>\n",
       "      <td>0.2750</td>\n",
       "      <td>61.00</td>\n",
       "      <td>18.5</td>\n",
       "    </tr>\n",
       "    <tr>\n",
       "      <td>22</td>\n",
       "      <td>23</td>\n",
       "      <td>2016-07-23</td>\n",
       "      <td>PARK</td>\n",
       "      <td>120</td>\n",
       "      <td>82</td>\n",
       "      <td>81</td>\n",
       "      <td>117.0</td>\n",
       "      <td>202</td>\n",
       "      <td>0.5750</td>\n",
       "      <td>101.00</td>\n",
       "      <td>18.5</td>\n",
       "    </tr>\n",
       "    <tr>\n",
       "      <td>28</td>\n",
       "      <td>29</td>\n",
       "      <td>2016-07-29</td>\n",
       "      <td>PARK</td>\n",
       "      <td>100</td>\n",
       "      <td>66</td>\n",
       "      <td>81</td>\n",
       "      <td>95.0</td>\n",
       "      <td>166</td>\n",
       "      <td>0.4025</td>\n",
       "      <td>58.10</td>\n",
       "      <td>18.5</td>\n",
       "    </tr>\n",
       "    <tr>\n",
       "      <td>21</td>\n",
       "      <td>22</td>\n",
       "      <td>2016-07-22</td>\n",
       "      <td>PARK</td>\n",
       "      <td>112</td>\n",
       "      <td>75</td>\n",
       "      <td>80</td>\n",
       "      <td>108.0</td>\n",
       "      <td>187</td>\n",
       "      <td>0.5750</td>\n",
       "      <td>93.50</td>\n",
       "      <td>15.0</td>\n",
       "    </tr>\n",
       "    <tr>\n",
       "      <td>8</td>\n",
       "      <td>9</td>\n",
       "      <td>2016-07-09</td>\n",
       "      <td>BEACH</td>\n",
       "      <td>134</td>\n",
       "      <td>95</td>\n",
       "      <td>80</td>\n",
       "      <td>126.0</td>\n",
       "      <td>229</td>\n",
       "      <td>0.2750</td>\n",
       "      <td>57.25</td>\n",
       "      <td>15.0</td>\n",
       "    </tr>\n",
       "    <tr>\n",
       "      <td>26</td>\n",
       "      <td>27</td>\n",
       "      <td>2016-07-27</td>\n",
       "      <td>PARK</td>\n",
       "      <td>104</td>\n",
       "      <td>68</td>\n",
       "      <td>80</td>\n",
       "      <td>99.0</td>\n",
       "      <td>172</td>\n",
       "      <td>0.4025</td>\n",
       "      <td>60.20</td>\n",
       "      <td>15.0</td>\n",
       "    </tr>\n",
       "    <tr>\n",
       "      <td>18</td>\n",
       "      <td>19</td>\n",
       "      <td>2016-07-19</td>\n",
       "      <td>PARK</td>\n",
       "      <td>122</td>\n",
       "      <td>85</td>\n",
       "      <td>78</td>\n",
       "      <td>113.0</td>\n",
       "      <td>207</td>\n",
       "      <td>0.5750</td>\n",
       "      <td>103.50</td>\n",
       "      <td>12.0</td>\n",
       "    </tr>\n",
       "    <tr>\n",
       "      <td>4</td>\n",
       "      <td>4</td>\n",
       "      <td>2016-07-05</td>\n",
       "      <td>BEACH</td>\n",
       "      <td>159</td>\n",
       "      <td>118</td>\n",
       "      <td>78</td>\n",
       "      <td>135.0</td>\n",
       "      <td>277</td>\n",
       "      <td>0.2750</td>\n",
       "      <td>69.25</td>\n",
       "      <td>12.0</td>\n",
       "    </tr>\n",
       "    <tr>\n",
       "      <td>13</td>\n",
       "      <td>14</td>\n",
       "      <td>2016-07-14</td>\n",
       "      <td>BEACH</td>\n",
       "      <td>122</td>\n",
       "      <td>85</td>\n",
       "      <td>78</td>\n",
       "      <td>113.0</td>\n",
       "      <td>207</td>\n",
       "      <td>0.2750</td>\n",
       "      <td>51.75</td>\n",
       "      <td>12.0</td>\n",
       "    </tr>\n",
       "    <tr>\n",
       "      <td>16</td>\n",
       "      <td>17</td>\n",
       "      <td>2016-07-17</td>\n",
       "      <td>BEACH</td>\n",
       "      <td>115</td>\n",
       "      <td>76</td>\n",
       "      <td>77</td>\n",
       "      <td>126.0</td>\n",
       "      <td>191</td>\n",
       "      <td>0.5500</td>\n",
       "      <td>95.50</td>\n",
       "      <td>9.0</td>\n",
       "    </tr>\n",
       "    <tr>\n",
       "      <td>20</td>\n",
       "      <td>21</td>\n",
       "      <td>2016-07-21</td>\n",
       "      <td>PARK</td>\n",
       "      <td>83</td>\n",
       "      <td>50</td>\n",
       "      <td>77</td>\n",
       "      <td>90.0</td>\n",
       "      <td>133</td>\n",
       "      <td>0.5750</td>\n",
       "      <td>66.50</td>\n",
       "      <td>9.0</td>\n",
       "    </tr>\n",
       "    <tr>\n",
       "      <td>12</td>\n",
       "      <td>13</td>\n",
       "      <td>2016-07-13</td>\n",
       "      <td>BEACH</td>\n",
       "      <td>109</td>\n",
       "      <td>75</td>\n",
       "      <td>77</td>\n",
       "      <td>99.0</td>\n",
       "      <td>184</td>\n",
       "      <td>0.2750</td>\n",
       "      <td>46.00</td>\n",
       "      <td>9.0</td>\n",
       "    </tr>\n",
       "    <tr>\n",
       "      <td>3</td>\n",
       "      <td>3</td>\n",
       "      <td>2016-07-04</td>\n",
       "      <td>BEACH</td>\n",
       "      <td>134</td>\n",
       "      <td>99</td>\n",
       "      <td>76</td>\n",
       "      <td>98.0</td>\n",
       "      <td>233</td>\n",
       "      <td>0.2750</td>\n",
       "      <td>58.25</td>\n",
       "      <td>7.0</td>\n",
       "    </tr>\n",
       "    <tr>\n",
       "      <td>14</td>\n",
       "      <td>15</td>\n",
       "      <td>2016-07-15</td>\n",
       "      <td>BEACH</td>\n",
       "      <td>98</td>\n",
       "      <td>62</td>\n",
       "      <td>75</td>\n",
       "      <td>108.0</td>\n",
       "      <td>160</td>\n",
       "      <td>0.5500</td>\n",
       "      <td>80.00</td>\n",
       "      <td>6.0</td>\n",
       "    </tr>\n",
       "    <tr>\n",
       "      <td>15</td>\n",
       "      <td>16</td>\n",
       "      <td>2016-07-16</td>\n",
       "      <td>BEACH</td>\n",
       "      <td>81</td>\n",
       "      <td>50</td>\n",
       "      <td>74</td>\n",
       "      <td>90.0</td>\n",
       "      <td>131</td>\n",
       "      <td>0.5500</td>\n",
       "      <td>65.50</td>\n",
       "      <td>5.0</td>\n",
       "    </tr>\n",
       "    <tr>\n",
       "      <td>1</td>\n",
       "      <td>1</td>\n",
       "      <td>2016-07-02</td>\n",
       "      <td>PARK</td>\n",
       "      <td>98</td>\n",
       "      <td>67</td>\n",
       "      <td>72</td>\n",
       "      <td>90.0</td>\n",
       "      <td>165</td>\n",
       "      <td>0.2875</td>\n",
       "      <td>41.25</td>\n",
       "      <td>4.0</td>\n",
       "    </tr>\n",
       "    <tr>\n",
       "      <td>2</td>\n",
       "      <td>2</td>\n",
       "      <td>2016-07-03</td>\n",
       "      <td>PARK</td>\n",
       "      <td>110</td>\n",
       "      <td>77</td>\n",
       "      <td>71</td>\n",
       "      <td>104.0</td>\n",
       "      <td>187</td>\n",
       "      <td>0.2875</td>\n",
       "      <td>46.75</td>\n",
       "      <td>3.0</td>\n",
       "    </tr>\n",
       "    <tr>\n",
       "      <td>19</td>\n",
       "      <td>20</td>\n",
       "      <td>2016-07-20</td>\n",
       "      <td>PARK</td>\n",
       "      <td>71</td>\n",
       "      <td>42</td>\n",
       "      <td>70</td>\n",
       "      <td>109.0</td>\n",
       "      <td>113</td>\n",
       "      <td>0.5750</td>\n",
       "      <td>56.50</td>\n",
       "      <td>1.5</td>\n",
       "    </tr>\n",
       "    <tr>\n",
       "      <td>0</td>\n",
       "      <td>0</td>\n",
       "      <td>2016-07-01</td>\n",
       "      <td>PARK</td>\n",
       "      <td>97</td>\n",
       "      <td>67</td>\n",
       "      <td>70</td>\n",
       "      <td>90.0</td>\n",
       "      <td>164</td>\n",
       "      <td>0.2875</td>\n",
       "      <td>41.00</td>\n",
       "      <td>1.5</td>\n",
       "    </tr>\n",
       "  </tbody>\n",
       "</table>\n",
       "</div>"
      ],
      "text/plain": [
       "    index       DATE LOCATION  LEMON  ORANGE  TEMPERATURE  LEAFLETS  SALES  \\\n",
       "24     25 2016-07-25     PARK    156     113           84     135.0    269   \n",
       "11     12 2016-07-12    BEACH    130      95           84      99.0    225   \n",
       "25     26 2016-07-26     PARK    176     129           83     158.0    305   \n",
       "10     11 2016-07-11    BEACH    162     120           83     135.0    282   \n",
       "9      10 2016-07-10    BEACH    140      98           82     131.0    238   \n",
       "23     24 2016-07-24     PARK    121      82           82     117.0    203   \n",
       "27     28 2016-07-28     PARK     96      63           82      90.0    159   \n",
       "30     31 2016-07-31    BEACH     76      47           82      68.0    123   \n",
       "7       8 2016-07-08    BEACH    123      86           82     113.0    209   \n",
       "5       5 2016-07-06    BEACH    103      69           82      90.0    172   \n",
       "29     30 2016-07-30    BEACH     88      57           82      81.0    145   \n",
       "17     18 2016-07-18     PARK    131      92           81     122.0    223   \n",
       "6       7 2016-07-07    BEACH    143     101           81     135.0    244   \n",
       "22     23 2016-07-23     PARK    120      82           81     117.0    202   \n",
       "28     29 2016-07-29     PARK    100      66           81      95.0    166   \n",
       "21     22 2016-07-22     PARK    112      75           80     108.0    187   \n",
       "8       9 2016-07-09    BEACH    134      95           80     126.0    229   \n",
       "26     27 2016-07-27     PARK    104      68           80      99.0    172   \n",
       "18     19 2016-07-19     PARK    122      85           78     113.0    207   \n",
       "4       4 2016-07-05    BEACH    159     118           78     135.0    277   \n",
       "13     14 2016-07-14    BEACH    122      85           78     113.0    207   \n",
       "16     17 2016-07-17    BEACH    115      76           77     126.0    191   \n",
       "20     21 2016-07-21     PARK     83      50           77      90.0    133   \n",
       "12     13 2016-07-13    BEACH    109      75           77      99.0    184   \n",
       "3       3 2016-07-04    BEACH    134      99           76      98.0    233   \n",
       "14     15 2016-07-15    BEACH     98      62           75     108.0    160   \n",
       "15     16 2016-07-16    BEACH     81      50           74      90.0    131   \n",
       "1       1 2016-07-02     PARK     98      67           72      90.0    165   \n",
       "2       2 2016-07-03     PARK    110      77           71     104.0    187   \n",
       "19     20 2016-07-20     PARK     71      42           70     109.0    113   \n",
       "0       0 2016-07-01     PARK     97      67           70      90.0    164   \n",
       "\n",
       "     PRICE  REVENUE  RANK  \n",
       "24  0.5750   134.50  30.5  \n",
       "11  0.2750    56.25  30.5  \n",
       "25  0.4025   106.75  28.5  \n",
       "10  0.2750    70.50  28.5  \n",
       "9   0.2750    59.50  24.0  \n",
       "23  0.5750   101.50  24.0  \n",
       "27  0.4025    55.65  24.0  \n",
       "30  0.3850    43.05  24.0  \n",
       "7   0.2750    52.25  24.0  \n",
       "5   0.2750    43.00  24.0  \n",
       "29  0.3850    50.75  24.0  \n",
       "17  0.5750   111.50  18.5  \n",
       "6   0.2750    61.00  18.5  \n",
       "22  0.5750   101.00  18.5  \n",
       "28  0.4025    58.10  18.5  \n",
       "21  0.5750    93.50  15.0  \n",
       "8   0.2750    57.25  15.0  \n",
       "26  0.4025    60.20  15.0  \n",
       "18  0.5750   103.50  12.0  \n",
       "4   0.2750    69.25  12.0  \n",
       "13  0.2750    51.75  12.0  \n",
       "16  0.5500    95.50   9.0  \n",
       "20  0.5750    66.50   9.0  \n",
       "12  0.2750    46.00   9.0  \n",
       "3   0.2750    58.25   7.0  \n",
       "14  0.5500    80.00   6.0  \n",
       "15  0.5500    65.50   5.0  \n",
       "1   0.2875    41.25   4.0  \n",
       "2   0.2875    46.75   3.0  \n",
       "19  0.5750    56.50   1.5  \n",
       "0   0.2875    41.00   1.5  "
      ]
     },
     "execution_count": 11,
     "metadata": {},
     "output_type": "execute_result"
    }
   ],
   "source": [
    "# RESPOSTA 9\n",
    "\n",
    "def ranking(dataset):\n",
    "    data['RANK'] = data['TEMPERATURE'].rank(ascending=1)\n",
    "    return data.sort_values('RANK', ascending=False)\n",
    "\n",
    "ranking(data)"
   ]
  },
  {
   "cell_type": "markdown",
   "metadata": {
    "colab_type": "text",
    "id": "lHAGRt515PJC"
   },
   "source": [
    "## 10) Imprima um gráfico de linha que retorne o lucro ao longo do tempo"
   ]
  },
  {
   "cell_type": "code",
   "execution_count": 12,
   "metadata": {
    "colab": {
     "base_uri": "https://localhost:8080/",
     "height": 0
    },
    "colab_type": "code",
    "id": "FgzX7Eqs5PJD",
    "outputId": "04f2f72e-ea74-419c-ac93-7aa34af809a8"
   },
   "outputs": [
    {
     "data": {
      "application/vnd.vegalite.v3+json": {
       "$schema": "https://vega.github.io/schema/vega-lite/v3.4.0.json",
       "config": {
        "mark": {
         "tooltip": null
        },
        "view": {
         "height": 300,
         "width": 400
        }
       },
       "data": {
        "name": "data-7c9c25387a9d54591e2e015aee5156b2"
       },
       "datasets": {
        "data-7c9c25387a9d54591e2e015aee5156b2": [
         {
          "DATE": "2016-07-01T00:00:00",
          "LEAFLETS": 90,
          "LEMON": 97,
          "LOCATION": "PARK",
          "ORANGE": 67,
          "PRICE": 0.2875,
          "RANK": 1.5,
          "REVENUE": 41,
          "SALES": 164,
          "TEMPERATURE": 70,
          "index": 0
         },
         {
          "DATE": "2016-07-02T00:00:00",
          "LEAFLETS": 90,
          "LEMON": 98,
          "LOCATION": "PARK",
          "ORANGE": 67,
          "PRICE": 0.2875,
          "RANK": 4,
          "REVENUE": 41.25,
          "SALES": 165,
          "TEMPERATURE": 72,
          "index": 1
         },
         {
          "DATE": "2016-07-03T00:00:00",
          "LEAFLETS": 104,
          "LEMON": 110,
          "LOCATION": "PARK",
          "ORANGE": 77,
          "PRICE": 0.2875,
          "RANK": 3,
          "REVENUE": 46.75,
          "SALES": 187,
          "TEMPERATURE": 71,
          "index": 2
         },
         {
          "DATE": "2016-07-04T00:00:00",
          "LEAFLETS": 98,
          "LEMON": 134,
          "LOCATION": "BEACH",
          "ORANGE": 99,
          "PRICE": 0.275,
          "RANK": 7,
          "REVENUE": 58.25,
          "SALES": 233,
          "TEMPERATURE": 76,
          "index": 3
         },
         {
          "DATE": "2016-07-05T00:00:00",
          "LEAFLETS": 135,
          "LEMON": 159,
          "LOCATION": "BEACH",
          "ORANGE": 118,
          "PRICE": 0.275,
          "RANK": 12,
          "REVENUE": 69.25,
          "SALES": 277,
          "TEMPERATURE": 78,
          "index": 4
         },
         {
          "DATE": "2016-07-06T00:00:00",
          "LEAFLETS": 90,
          "LEMON": 103,
          "LOCATION": "BEACH",
          "ORANGE": 69,
          "PRICE": 0.275,
          "RANK": 24,
          "REVENUE": 43,
          "SALES": 172,
          "TEMPERATURE": 82,
          "index": 5
         },
         {
          "DATE": "2016-07-07T00:00:00",
          "LEAFLETS": 135,
          "LEMON": 143,
          "LOCATION": "BEACH",
          "ORANGE": 101,
          "PRICE": 0.275,
          "RANK": 18.5,
          "REVENUE": 61,
          "SALES": 244,
          "TEMPERATURE": 81,
          "index": 7
         },
         {
          "DATE": "2016-07-08T00:00:00",
          "LEAFLETS": 113,
          "LEMON": 123,
          "LOCATION": "BEACH",
          "ORANGE": 86,
          "PRICE": 0.275,
          "RANK": 24,
          "REVENUE": 52.25,
          "SALES": 209,
          "TEMPERATURE": 82,
          "index": 8
         },
         {
          "DATE": "2016-07-09T00:00:00",
          "LEAFLETS": 126,
          "LEMON": 134,
          "LOCATION": "BEACH",
          "ORANGE": 95,
          "PRICE": 0.275,
          "RANK": 15,
          "REVENUE": 57.25,
          "SALES": 229,
          "TEMPERATURE": 80,
          "index": 9
         },
         {
          "DATE": "2016-07-10T00:00:00",
          "LEAFLETS": 131,
          "LEMON": 140,
          "LOCATION": "BEACH",
          "ORANGE": 98,
          "PRICE": 0.275,
          "RANK": 24,
          "REVENUE": 59.5,
          "SALES": 238,
          "TEMPERATURE": 82,
          "index": 10
         },
         {
          "DATE": "2016-07-11T00:00:00",
          "LEAFLETS": 135,
          "LEMON": 162,
          "LOCATION": "BEACH",
          "ORANGE": 120,
          "PRICE": 0.275,
          "RANK": 28.5,
          "REVENUE": 70.5,
          "SALES": 282,
          "TEMPERATURE": 83,
          "index": 11
         },
         {
          "DATE": "2016-07-12T00:00:00",
          "LEAFLETS": 99,
          "LEMON": 130,
          "LOCATION": "BEACH",
          "ORANGE": 95,
          "PRICE": 0.275,
          "RANK": 30.5,
          "REVENUE": 56.25,
          "SALES": 225,
          "TEMPERATURE": 84,
          "index": 12
         },
         {
          "DATE": "2016-07-13T00:00:00",
          "LEAFLETS": 99,
          "LEMON": 109,
          "LOCATION": "BEACH",
          "ORANGE": 75,
          "PRICE": 0.275,
          "RANK": 9,
          "REVENUE": 46,
          "SALES": 184,
          "TEMPERATURE": 77,
          "index": 13
         },
         {
          "DATE": "2016-07-14T00:00:00",
          "LEAFLETS": 113,
          "LEMON": 122,
          "LOCATION": "BEACH",
          "ORANGE": 85,
          "PRICE": 0.275,
          "RANK": 12,
          "REVENUE": 51.75,
          "SALES": 207,
          "TEMPERATURE": 78,
          "index": 14
         },
         {
          "DATE": "2016-07-15T00:00:00",
          "LEAFLETS": 108,
          "LEMON": 98,
          "LOCATION": "BEACH",
          "ORANGE": 62,
          "PRICE": 0.55,
          "RANK": 6,
          "REVENUE": 80,
          "SALES": 160,
          "TEMPERATURE": 75,
          "index": 15
         },
         {
          "DATE": "2016-07-16T00:00:00",
          "LEAFLETS": 90,
          "LEMON": 81,
          "LOCATION": "BEACH",
          "ORANGE": 50,
          "PRICE": 0.55,
          "RANK": 5,
          "REVENUE": 65.5,
          "SALES": 131,
          "TEMPERATURE": 74,
          "index": 16
         },
         {
          "DATE": "2016-07-17T00:00:00",
          "LEAFLETS": 126,
          "LEMON": 115,
          "LOCATION": "BEACH",
          "ORANGE": 76,
          "PRICE": 0.55,
          "RANK": 9,
          "REVENUE": 95.5,
          "SALES": 191,
          "TEMPERATURE": 77,
          "index": 17
         },
         {
          "DATE": "2016-07-18T00:00:00",
          "LEAFLETS": 122,
          "LEMON": 131,
          "LOCATION": "PARK",
          "ORANGE": 92,
          "PRICE": 0.575,
          "RANK": 18.5,
          "REVENUE": 111.5,
          "SALES": 223,
          "TEMPERATURE": 81,
          "index": 18
         },
         {
          "DATE": "2016-07-19T00:00:00",
          "LEAFLETS": 113,
          "LEMON": 122,
          "LOCATION": "PARK",
          "ORANGE": 85,
          "PRICE": 0.575,
          "RANK": 12,
          "REVENUE": 103.5,
          "SALES": 207,
          "TEMPERATURE": 78,
          "index": 19
         },
         {
          "DATE": "2016-07-20T00:00:00",
          "LEAFLETS": 109,
          "LEMON": 71,
          "LOCATION": "PARK",
          "ORANGE": 42,
          "PRICE": 0.575,
          "RANK": 1.5,
          "REVENUE": 56.5,
          "SALES": 113,
          "TEMPERATURE": 70,
          "index": 20
         },
         {
          "DATE": "2016-07-21T00:00:00",
          "LEAFLETS": 90,
          "LEMON": 83,
          "LOCATION": "PARK",
          "ORANGE": 50,
          "PRICE": 0.575,
          "RANK": 9,
          "REVENUE": 66.5,
          "SALES": 133,
          "TEMPERATURE": 77,
          "index": 21
         },
         {
          "DATE": "2016-07-22T00:00:00",
          "LEAFLETS": 108,
          "LEMON": 112,
          "LOCATION": "PARK",
          "ORANGE": 75,
          "PRICE": 0.575,
          "RANK": 15,
          "REVENUE": 93.5,
          "SALES": 187,
          "TEMPERATURE": 80,
          "index": 22
         },
         {
          "DATE": "2016-07-23T00:00:00",
          "LEAFLETS": 117,
          "LEMON": 120,
          "LOCATION": "PARK",
          "ORANGE": 82,
          "PRICE": 0.575,
          "RANK": 18.5,
          "REVENUE": 101,
          "SALES": 202,
          "TEMPERATURE": 81,
          "index": 23
         },
         {
          "DATE": "2016-07-24T00:00:00",
          "LEAFLETS": 117,
          "LEMON": 121,
          "LOCATION": "PARK",
          "ORANGE": 82,
          "PRICE": 0.575,
          "RANK": 24,
          "REVENUE": 101.5,
          "SALES": 203,
          "TEMPERATURE": 82,
          "index": 24
         },
         {
          "DATE": "2016-07-25T00:00:00",
          "LEAFLETS": 135,
          "LEMON": 156,
          "LOCATION": "PARK",
          "ORANGE": 113,
          "PRICE": 0.575,
          "RANK": 30.5,
          "REVENUE": 134.5,
          "SALES": 269,
          "TEMPERATURE": 84,
          "index": 25
         },
         {
          "DATE": "2016-07-26T00:00:00",
          "LEAFLETS": 158,
          "LEMON": 176,
          "LOCATION": "PARK",
          "ORANGE": 129,
          "PRICE": 0.40249999999999997,
          "RANK": 28.5,
          "REVENUE": 106.75,
          "SALES": 305,
          "TEMPERATURE": 83,
          "index": 26
         },
         {
          "DATE": "2016-07-27T00:00:00",
          "LEAFLETS": 99,
          "LEMON": 104,
          "LOCATION": "PARK",
          "ORANGE": 68,
          "PRICE": 0.40249999999999997,
          "RANK": 15,
          "REVENUE": 60.199999999999996,
          "SALES": 172,
          "TEMPERATURE": 80,
          "index": 27
         },
         {
          "DATE": "2016-07-28T00:00:00",
          "LEAFLETS": 90,
          "LEMON": 96,
          "LOCATION": "PARK",
          "ORANGE": 63,
          "PRICE": 0.40249999999999997,
          "RANK": 24,
          "REVENUE": 55.65,
          "SALES": 159,
          "TEMPERATURE": 82,
          "index": 28
         },
         {
          "DATE": "2016-07-29T00:00:00",
          "LEAFLETS": 95,
          "LEMON": 100,
          "LOCATION": "PARK",
          "ORANGE": 66,
          "PRICE": 0.40249999999999997,
          "RANK": 18.5,
          "REVENUE": 58.099999999999994,
          "SALES": 166,
          "TEMPERATURE": 81,
          "index": 29
         },
         {
          "DATE": "2016-07-30T00:00:00",
          "LEAFLETS": 81,
          "LEMON": 88,
          "LOCATION": "BEACH",
          "ORANGE": 57,
          "PRICE": 0.385,
          "RANK": 24,
          "REVENUE": 50.75,
          "SALES": 145,
          "TEMPERATURE": 82,
          "index": 30
         },
         {
          "DATE": "2016-07-31T00:00:00",
          "LEAFLETS": 68,
          "LEMON": 76,
          "LOCATION": "BEACH",
          "ORANGE": 47,
          "PRICE": 0.385,
          "RANK": 24,
          "REVENUE": 43.05,
          "SALES": 123,
          "TEMPERATURE": 82,
          "index": 31
         }
        ]
       },
       "encoding": {
        "x": {
         "field": "DATE",
         "type": "temporal"
        },
        "y": {
         "field": "REVENUE",
         "type": "quantitative"
        }
       },
       "mark": "line"
      },
      "image/png": "[encoded data removed]",
      "text/plain": [
       "<VegaLite 3 object>\n",
       "\n",
       "If you see this message, it means the renderer has not been properly enabled\n",
       "for the frontend that you are using. For more information, see\n",
       "https://altair-viz.github.io/user_guide/troubleshooting.html\n"
      ]
     },
     "execution_count": 12,
     "metadata": {},
     "output_type": "execute_result"
    }
   ],
   "source": [
    "# RESPOSTA 10\n",
    "\n",
    "alt.Chart(data).mark_line().encode(\n",
    "    x='DATE',\n",
    "    y='REVENUE',\n",
    ")"
   ]
  },
  {
   "cell_type": "markdown",
   "metadata": {
    "colab_type": "text",
    "id": "5zK-YLaB5PJG"
   },
   "source": [
    "## 11) Crie um scatter-plot leaflets x sales. Existe alguma correlação entre os dados? (Use a correlação de Pearson e explique o significado do valor obtido por ela)"
   ]
  },
  {
   "cell_type": "code",
   "execution_count": 13,
   "metadata": {
    "colab": {
     "base_uri": "https://localhost:8080/",
     "height": 0
    },
    "colab_type": "code",
    "id": "uqj9dytr5PJH",
    "outputId": "f9d633c4-649a-4315-bdff-2d95e4c04c8d"
   },
   "outputs": [
    {
     "data": {
      "application/vnd.vegalite.v3+json": {
       "$schema": "https://vega.github.io/schema/vega-lite/v3.4.0.json",
       "config": {
        "mark": {
         "tooltip": null
        },
        "view": {
         "height": 300,
         "width": 400
        }
       },
       "data": {
        "name": "data-7c9c25387a9d54591e2e015aee5156b2"
       },
       "datasets": {
        "data-7c9c25387a9d54591e2e015aee5156b2": [
         {
          "DATE": "2016-07-01T00:00:00",
          "LEAFLETS": 90,
          "LEMON": 97,
          "LOCATION": "PARK",
          "ORANGE": 67,
          "PRICE": 0.2875,
          "RANK": 1.5,
          "REVENUE": 41,
          "SALES": 164,
          "TEMPERATURE": 70,
          "index": 0
         },
         {
          "DATE": "2016-07-02T00:00:00",
          "LEAFLETS": 90,
          "LEMON": 98,
          "LOCATION": "PARK",
          "ORANGE": 67,
          "PRICE": 0.2875,
          "RANK": 4,
          "REVENUE": 41.25,
          "SALES": 165,
          "TEMPERATURE": 72,
          "index": 1
         },
         {
          "DATE": "2016-07-03T00:00:00",
          "LEAFLETS": 104,
          "LEMON": 110,
          "LOCATION": "PARK",
          "ORANGE": 77,
          "PRICE": 0.2875,
          "RANK": 3,
          "REVENUE": 46.75,
          "SALES": 187,
          "TEMPERATURE": 71,
          "index": 2
         },
         {
          "DATE": "2016-07-04T00:00:00",
          "LEAFLETS": 98,
          "LEMON": 134,
          "LOCATION": "BEACH",
          "ORANGE": 99,
          "PRICE": 0.275,
          "RANK": 7,
          "REVENUE": 58.25,
          "SALES": 233,
          "TEMPERATURE": 76,
          "index": 3
         },
         {
          "DATE": "2016-07-05T00:00:00",
          "LEAFLETS": 135,
          "LEMON": 159,
          "LOCATION": "BEACH",
          "ORANGE": 118,
          "PRICE": 0.275,
          "RANK": 12,
          "REVENUE": 69.25,
          "SALES": 277,
          "TEMPERATURE": 78,
          "index": 4
         },
         {
          "DATE": "2016-07-06T00:00:00",
          "LEAFLETS": 90,
          "LEMON": 103,
          "LOCATION": "BEACH",
          "ORANGE": 69,
          "PRICE": 0.275,
          "RANK": 24,
          "REVENUE": 43,
          "SALES": 172,
          "TEMPERATURE": 82,
          "index": 5
         },
         {
          "DATE": "2016-07-07T00:00:00",
          "LEAFLETS": 135,
          "LEMON": 143,
          "LOCATION": "BEACH",
          "ORANGE": 101,
          "PRICE": 0.275,
          "RANK": 18.5,
          "REVENUE": 61,
          "SALES": 244,
          "TEMPERATURE": 81,
          "index": 7
         },
         {
          "DATE": "2016-07-08T00:00:00",
          "LEAFLETS": 113,
          "LEMON": 123,
          "LOCATION": "BEACH",
          "ORANGE": 86,
          "PRICE": 0.275,
          "RANK": 24,
          "REVENUE": 52.25,
          "SALES": 209,
          "TEMPERATURE": 82,
          "index": 8
         },
         {
          "DATE": "2016-07-09T00:00:00",
          "LEAFLETS": 126,
          "LEMON": 134,
          "LOCATION": "BEACH",
          "ORANGE": 95,
          "PRICE": 0.275,
          "RANK": 15,
          "REVENUE": 57.25,
          "SALES": 229,
          "TEMPERATURE": 80,
          "index": 9
         },
         {
          "DATE": "2016-07-10T00:00:00",
          "LEAFLETS": 131,
          "LEMON": 140,
          "LOCATION": "BEACH",
          "ORANGE": 98,
          "PRICE": 0.275,
          "RANK": 24,
          "REVENUE": 59.5,
          "SALES": 238,
          "TEMPERATURE": 82,
          "index": 10
         },
         {
          "DATE": "2016-07-11T00:00:00",
          "LEAFLETS": 135,
          "LEMON": 162,
          "LOCATION": "BEACH",
          "ORANGE": 120,
          "PRICE": 0.275,
          "RANK": 28.5,
          "REVENUE": 70.5,
          "SALES": 282,
          "TEMPERATURE": 83,
          "index": 11
         },
         {
          "DATE": "2016-07-12T00:00:00",
          "LEAFLETS": 99,
          "LEMON": 130,
          "LOCATION": "BEACH",
          "ORANGE": 95,
          "PRICE": 0.275,
          "RANK": 30.5,
          "REVENUE": 56.25,
          "SALES": 225,
          "TEMPERATURE": 84,
          "index": 12
         },
         {
          "DATE": "2016-07-13T00:00:00",
          "LEAFLETS": 99,
          "LEMON": 109,
          "LOCATION": "BEACH",
          "ORANGE": 75,
          "PRICE": 0.275,
          "RANK": 9,
          "REVENUE": 46,
          "SALES": 184,
          "TEMPERATURE": 77,
          "index": 13
         },
         {
          "DATE": "2016-07-14T00:00:00",
          "LEAFLETS": 113,
          "LEMON": 122,
          "LOCATION": "BEACH",
          "ORANGE": 85,
          "PRICE": 0.275,
          "RANK": 12,
          "REVENUE": 51.75,
          "SALES": 207,
          "TEMPERATURE": 78,
          "index": 14
         },
         {
          "DATE": "2016-07-15T00:00:00",
          "LEAFLETS": 108,
          "LEMON": 98,
          "LOCATION": "BEACH",
          "ORANGE": 62,
          "PRICE": 0.55,
          "RANK": 6,
          "REVENUE": 80,
          "SALES": 160,
          "TEMPERATURE": 75,
          "index": 15
         },
         {
          "DATE": "2016-07-16T00:00:00",
          "LEAFLETS": 90,
          "LEMON": 81,
          "LOCATION": "BEACH",
          "ORANGE": 50,
          "PRICE": 0.55,
          "RANK": 5,
          "REVENUE": 65.5,
          "SALES": 131,
          "TEMPERATURE": 74,
          "index": 16
         },
         {
          "DATE": "2016-07-17T00:00:00",
          "LEAFLETS": 126,
          "LEMON": 115,
          "LOCATION": "BEACH",
          "ORANGE": 76,
          "PRICE": 0.55,
          "RANK": 9,
          "REVENUE": 95.5,
          "SALES": 191,
          "TEMPERATURE": 77,
          "index": 17
         },
         {
          "DATE": "2016-07-18T00:00:00",
          "LEAFLETS": 122,
          "LEMON": 131,
          "LOCATION": "PARK",
          "ORANGE": 92,
          "PRICE": 0.575,
          "RANK": 18.5,
          "REVENUE": 111.5,
          "SALES": 223,
          "TEMPERATURE": 81,
          "index": 18
         },
         {
          "DATE": "2016-07-19T00:00:00",
          "LEAFLETS": 113,
          "LEMON": 122,
          "LOCATION": "PARK",
          "ORANGE": 85,
          "PRICE": 0.575,
          "RANK": 12,
          "REVENUE": 103.5,
          "SALES": 207,
          "TEMPERATURE": 78,
          "index": 19
         },
         {
          "DATE": "2016-07-20T00:00:00",
          "LEAFLETS": 109,
          "LEMON": 71,
          "LOCATION": "PARK",
          "ORANGE": 42,
          "PRICE": 0.575,
          "RANK": 1.5,
          "REVENUE": 56.5,
          "SALES": 113,
          "TEMPERATURE": 70,
          "index": 20
         },
         {
          "DATE": "2016-07-21T00:00:00",
          "LEAFLETS": 90,
          "LEMON": 83,
          "LOCATION": "PARK",
          "ORANGE": 50,
          "PRICE": 0.575,
          "RANK": 9,
          "REVENUE": 66.5,
          "SALES": 133,
          "TEMPERATURE": 77,
          "index": 21
         },
         {
          "DATE": "2016-07-22T00:00:00",
          "LEAFLETS": 108,
          "LEMON": 112,
          "LOCATION": "PARK",
          "ORANGE": 75,
          "PRICE": 0.575,
          "RANK": 15,
          "REVENUE": 93.5,
          "SALES": 187,
          "TEMPERATURE": 80,
          "index": 22
         },
         {
          "DATE": "2016-07-23T00:00:00",
          "LEAFLETS": 117,
          "LEMON": 120,
          "LOCATION": "PARK",
          "ORANGE": 82,
          "PRICE": 0.575,
          "RANK": 18.5,
          "REVENUE": 101,
          "SALES": 202,
          "TEMPERATURE": 81,
          "index": 23
         },
         {
          "DATE": "2016-07-24T00:00:00",
          "LEAFLETS": 117,
          "LEMON": 121,
          "LOCATION": "PARK",
          "ORANGE": 82,
          "PRICE": 0.575,
          "RANK": 24,
          "REVENUE": 101.5,
          "SALES": 203,
          "TEMPERATURE": 82,
          "index": 24
         },
         {
          "DATE": "2016-07-25T00:00:00",
          "LEAFLETS": 135,
          "LEMON": 156,
          "LOCATION": "PARK",
          "ORANGE": 113,
          "PRICE": 0.575,
          "RANK": 30.5,
          "REVENUE": 134.5,
          "SALES": 269,
          "TEMPERATURE": 84,
          "index": 25
         },
         {
          "DATE": "2016-07-26T00:00:00",
          "LEAFLETS": 158,
          "LEMON": 176,
          "LOCATION": "PARK",
          "ORANGE": 129,
          "PRICE": 0.40249999999999997,
          "RANK": 28.5,
          "REVENUE": 106.75,
          "SALES": 305,
          "TEMPERATURE": 83,
          "index": 26
         },
         {
          "DATE": "2016-07-27T00:00:00",
          "LEAFLETS": 99,
          "LEMON": 104,
          "LOCATION": "PARK",
          "ORANGE": 68,
          "PRICE": 0.40249999999999997,
          "RANK": 15,
          "REVENUE": 60.199999999999996,
          "SALES": 172,
          "TEMPERATURE": 80,
          "index": 27
         },
         {
          "DATE": "2016-07-28T00:00:00",
          "LEAFLETS": 90,
          "LEMON": 96,
          "LOCATION": "PARK",
          "ORANGE": 63,
          "PRICE": 0.40249999999999997,
          "RANK": 24,
          "REVENUE": 55.65,
          "SALES": 159,
          "TEMPERATURE": 82,
          "index": 28
         },
         {
          "DATE": "2016-07-29T00:00:00",
          "LEAFLETS": 95,
          "LEMON": 100,
          "LOCATION": "PARK",
          "ORANGE": 66,
          "PRICE": 0.40249999999999997,
          "RANK": 18.5,
          "REVENUE": 58.099999999999994,
          "SALES": 166,
          "TEMPERATURE": 81,
          "index": 29
         },
         {
          "DATE": "2016-07-30T00:00:00",
          "LEAFLETS": 81,
          "LEMON": 88,
          "LOCATION": "BEACH",
          "ORANGE": 57,
          "PRICE": 0.385,
          "RANK": 24,
          "REVENUE": 50.75,
          "SALES": 145,
          "TEMPERATURE": 82,
          "index": 30
         },
         {
          "DATE": "2016-07-31T00:00:00",
          "LEAFLETS": 68,
          "LEMON": 76,
          "LOCATION": "BEACH",
          "ORANGE": 47,
          "PRICE": 0.385,
          "RANK": 24,
          "REVENUE": 43.05,
          "SALES": 123,
          "TEMPERATURE": 82,
          "index": 31
         }
        ]
       },
       "encoding": {
        "size": {
         "field": "SALES",
         "type": "quantitative"
        },
        "x": {
         "field": "LEAFLETS",
         "scale": {
          "zero": false
         },
         "type": "quantitative"
        },
        "y": {
         "field": "SALES",
         "scale": {
          "padding": 1,
          "zero": false
         },
         "type": "quantitative"
        }
       },
       "mark": "circle",
       "title": "LEAFLETS X SALES:"
      },
      "image/png": "[encoded data removed]",
      "text/plain": [
       "<VegaLite 3 object>\n",
       "\n",
       "If you see this message, it means the renderer has not been properly enabled\n",
       "for the frontend that you are using. For more information, see\n",
       "https://altair-viz.github.io/user_guide/troubleshooting.html\n"
      ]
     },
     "execution_count": 13,
     "metadata": {},
     "output_type": "execute_result"
    }
   ],
   "source": [
    "# Resposta 11\n",
    "\n",
    "alt.Chart(data).mark_circle().encode(\n",
    "        alt.X('LEAFLETS', scale=alt.Scale(zero=False)),\n",
    "        alt.Y('SALES', scale=alt.Scale(zero=False, padding=1)),\n",
    "        size='SALES'\n",
    "        ).properties(\n",
    "        title='LEAFLETS X SALES:'\n",
    "        )"
   ]
  },
  {
   "cell_type": "code",
   "execution_count": 14,
   "metadata": {
    "colab": {
     "base_uri": "https://localhost:8080/",
     "height": 0
    },
    "colab_type": "code",
    "id": "wvvFD84W5PJL",
    "outputId": "91d83228-5393-403f-e29b-09aa5a67499f"
   },
   "outputs": [
    {
     "name": "stdout",
     "output_type": "stream",
     "text": [
      "          LEAFLETS     SALES\n",
      "LEAFLETS  1.000000  0.843905\n",
      "SALES     0.843905  1.000000 \n",
      "\n",
      "\u001b[1;92m Pelo resultado da correlação de Pearson, podemos afirmar que há uma forte correlação entre as variáveis \"LEAFLETS\" e \"SALES\", pois seu valor 0.84 está entre +0.75 e +1. \u001b[0;92m \n",
      "\n"
     ]
    }
   ],
   "source": [
    "# Resposta 11 (continuação)\n",
    "\n",
    "lxp = data.iloc[:,[6,7]]\n",
    "lxp = lxp.corr(method='pearson')\n",
    "print(lxp, '\\n')\n",
    "print('\\033[1;92m Pelo resultado da correlação de Pearson, podemos afirmar que há uma forte \\\n",
    "correlação entre as variáveis \"LEAFLETS\" e \"SALES\", pois seu valor %.2f está entre +0.75 e +1. \\033[0;92m' % (lxp.iloc[0,1]), '\\n',)\n"
   ]
  },
  {
   "cell_type": "markdown",
   "metadata": {
    "colab_type": "text",
    "id": "1N9ThOdS5PJP"
   },
   "source": [
    "## 12) Crie um histograma com 10 bins que mostre o lucro (revenue)."
   ]
  },
  {
   "cell_type": "code",
   "execution_count": 15,
   "metadata": {
    "colab": {
     "base_uri": "https://localhost:8080/",
     "height": 0
    },
    "colab_type": "code",
    "id": "9LrvzzAT5PJQ",
    "outputId": "38bf40d9-3242-45c9-f1a9-e5c119a8415f"
   },
   "outputs": [
    {
     "data": {
      "text/plain": [
       "array([[<matplotlib.axes._subplots.AxesSubplot object at 0x1a1b837390>]],\n",
       "      dtype=object)"
      ]
     },
     "execution_count": 15,
     "metadata": {},
     "output_type": "execute_result"
    },
    {
     "data": {
      "image/png": "[encoded data removed]",
      "text/plain": [
       "<Figure size 432x288 with 1 Axes>"
      ]
     },
     "metadata": {},
     "output_type": "display_data"
    }
   ],
   "source": [
    "# Resposta 12\n",
    "\n",
    "data.hist(['REVENUE'], bins=10, color='g', alpha=1)"
   ]
  },
  {
   "cell_type": "markdown",
   "metadata": {
    "colab_type": "text",
    "id": "ZMlQaJuu5PJT"
   },
   "source": [
    "## 13) Crie um gráfico de linha que mostre o lucro (Revenue) por tipo de fruta ao longo do tempo."
   ]
  },
  {
   "cell_type": "code",
   "execution_count": 16,
   "metadata": {
    "colab": {
     "base_uri": "https://localhost:8080/",
     "height": 0
    },
    "colab_type": "code",
    "id": "nUNOrZLv5PJU",
    "outputId": "ce4a7a3e-9e5a-4bb8-886f-6431fdcf705e"
   },
   "outputs": [
    {
     "data": {
      "application/vnd.vegalite.v3+json": {
       "$schema": "https://vega.github.io/schema/vega-lite/v3.4.0.json",
       "config": {
        "mark": {
         "tooltip": null
        },
        "view": {
         "height": 300,
         "width": 400
        }
       },
       "data": {
        "name": "data-c15bc5a980d5b78fe42ef8ae089ac7a9"
       },
       "datasets": {
        "data-c15bc5a980d5b78fe42ef8ae089ac7a9": [
         {
          "DATE": "2016-07-01T00:00:00",
          "REVENUE": 27.8875,
          "index": 0,
          "symbol": "Revenue_Lemon"
         },
         {
          "DATE": "2016-07-02T00:00:00",
          "REVENUE": 28.174999999999997,
          "index": 1,
          "symbol": "Revenue_Lemon"
         },
         {
          "DATE": "2016-07-03T00:00:00",
          "REVENUE": 31.624999999999996,
          "index": 2,
          "symbol": "Revenue_Lemon"
         },
         {
          "DATE": "2016-07-04T00:00:00",
          "REVENUE": 36.85,
          "index": 3,
          "symbol": "Revenue_Lemon"
         },
         {
          "DATE": "2016-07-05T00:00:00",
          "REVENUE": 43.725,
          "index": 4,
          "symbol": "Revenue_Lemon"
         },
         {
          "DATE": "2016-07-06T00:00:00",
          "REVENUE": 28.325000000000003,
          "index": 5,
          "symbol": "Revenue_Lemon"
         },
         {
          "DATE": "2016-07-07T00:00:00",
          "REVENUE": 39.325,
          "index": 6,
          "symbol": "Revenue_Lemon"
         },
         {
          "DATE": "2016-07-08T00:00:00",
          "REVENUE": 33.825,
          "index": 7,
          "symbol": "Revenue_Lemon"
         },
         {
          "DATE": "2016-07-09T00:00:00",
          "REVENUE": 36.85,
          "index": 8,
          "symbol": "Revenue_Lemon"
         },
         {
          "DATE": "2016-07-10T00:00:00",
          "REVENUE": 38.5,
          "index": 9,
          "symbol": "Revenue_Lemon"
         },
         {
          "DATE": "2016-07-11T00:00:00",
          "REVENUE": 44.550000000000004,
          "index": 10,
          "symbol": "Revenue_Lemon"
         },
         {
          "DATE": "2016-07-12T00:00:00",
          "REVENUE": 35.75,
          "index": 11,
          "symbol": "Revenue_Lemon"
         },
         {
          "DATE": "2016-07-13T00:00:00",
          "REVENUE": 29.975,
          "index": 12,
          "symbol": "Revenue_Lemon"
         },
         {
          "DATE": "2016-07-14T00:00:00",
          "REVENUE": 33.550000000000004,
          "index": 13,
          "symbol": "Revenue_Lemon"
         },
         {
          "DATE": "2016-07-15T00:00:00",
          "REVENUE": 53.900000000000006,
          "index": 14,
          "symbol": "Revenue_Lemon"
         },
         {
          "DATE": "2016-07-16T00:00:00",
          "REVENUE": 44.550000000000004,
          "index": 15,
          "symbol": "Revenue_Lemon"
         },
         {
          "DATE": "2016-07-17T00:00:00",
          "REVENUE": 63.25000000000001,
          "index": 16,
          "symbol": "Revenue_Lemon"
         },
         {
          "DATE": "2016-07-18T00:00:00",
          "REVENUE": 75.32499999999999,
          "index": 17,
          "symbol": "Revenue_Lemon"
         },
         {
          "DATE": "2016-07-19T00:00:00",
          "REVENUE": 70.14999999999999,
          "index": 18,
          "symbol": "Revenue_Lemon"
         },
         {
          "DATE": "2016-07-20T00:00:00",
          "REVENUE": 40.824999999999996,
          "index": 19,
          "symbol": "Revenue_Lemon"
         },
         {
          "DATE": "2016-07-21T00:00:00",
          "REVENUE": 47.724999999999994,
          "index": 20,
          "symbol": "Revenue_Lemon"
         },
         {
          "DATE": "2016-07-22T00:00:00",
          "REVENUE": 64.39999999999999,
          "index": 21,
          "symbol": "Revenue_Lemon"
         },
         {
          "DATE": "2016-07-23T00:00:00",
          "REVENUE": 69,
          "index": 22,
          "symbol": "Revenue_Lemon"
         },
         {
          "DATE": "2016-07-24T00:00:00",
          "REVENUE": 69.57499999999999,
          "index": 23,
          "symbol": "Revenue_Lemon"
         },
         {
          "DATE": "2016-07-25T00:00:00",
          "REVENUE": 89.69999999999999,
          "index": 24,
          "symbol": "Revenue_Lemon"
         },
         {
          "DATE": "2016-07-26T00:00:00",
          "REVENUE": 70.83999999999999,
          "index": 25,
          "symbol": "Revenue_Lemon"
         },
         {
          "DATE": "2016-07-27T00:00:00",
          "REVENUE": 41.86,
          "index": 26,
          "symbol": "Revenue_Lemon"
         },
         {
          "DATE": "2016-07-28T00:00:00",
          "REVENUE": 38.64,
          "index": 27,
          "symbol": "Revenue_Lemon"
         },
         {
          "DATE": "2016-07-29T00:00:00",
          "REVENUE": 40.25,
          "index": 28,
          "symbol": "Revenue_Lemon"
         },
         {
          "DATE": "2016-07-30T00:00:00",
          "REVENUE": 33.88,
          "index": 29,
          "symbol": "Revenue_Lemon"
         },
         {
          "DATE": "2016-07-31T00:00:00",
          "REVENUE": 29.26,
          "index": 30,
          "symbol": "Revenue_Lemon"
         },
         {
          "DATE": "2016-07-01T00:00:00",
          "REVENUE": 19.2625,
          "index": 31,
          "symbol": "Revenue_Orange"
         },
         {
          "DATE": "2016-07-02T00:00:00",
          "REVENUE": 19.2625,
          "index": 32,
          "symbol": "Revenue_Orange"
         },
         {
          "DATE": "2016-07-03T00:00:00",
          "REVENUE": 22.1375,
          "index": 33,
          "symbol": "Revenue_Orange"
         },
         {
          "DATE": "2016-07-04T00:00:00",
          "REVENUE": 27.225,
          "index": 34,
          "symbol": "Revenue_Orange"
         },
         {
          "DATE": "2016-07-05T00:00:00",
          "REVENUE": 32.45,
          "index": 35,
          "symbol": "Revenue_Orange"
         },
         {
          "DATE": "2016-07-06T00:00:00",
          "REVENUE": 18.975,
          "index": 36,
          "symbol": "Revenue_Orange"
         },
         {
          "DATE": "2016-07-07T00:00:00",
          "REVENUE": 27.775000000000002,
          "index": 37,
          "symbol": "Revenue_Orange"
         },
         {
          "DATE": "2016-07-08T00:00:00",
          "REVENUE": 23.650000000000002,
          "index": 38,
          "symbol": "Revenue_Orange"
         },
         {
          "DATE": "2016-07-09T00:00:00",
          "REVENUE": 26.125000000000004,
          "index": 39,
          "symbol": "Revenue_Orange"
         },
         {
          "DATE": "2016-07-10T00:00:00",
          "REVENUE": 26.950000000000003,
          "index": 40,
          "symbol": "Revenue_Orange"
         },
         {
          "DATE": "2016-07-11T00:00:00",
          "REVENUE": 33,
          "index": 41,
          "symbol": "Revenue_Orange"
         },
         {
          "DATE": "2016-07-12T00:00:00",
          "REVENUE": 26.125000000000004,
          "index": 42,
          "symbol": "Revenue_Orange"
         },
         {
          "DATE": "2016-07-13T00:00:00",
          "REVENUE": 20.625,
          "index": 43,
          "symbol": "Revenue_Orange"
         },
         {
          "DATE": "2016-07-14T00:00:00",
          "REVENUE": 23.375000000000004,
          "index": 44,
          "symbol": "Revenue_Orange"
         },
         {
          "DATE": "2016-07-15T00:00:00",
          "REVENUE": 34.1,
          "index": 45,
          "symbol": "Revenue_Orange"
         },
         {
          "DATE": "2016-07-16T00:00:00",
          "REVENUE": 27.500000000000004,
          "index": 46,
          "symbol": "Revenue_Orange"
         },
         {
          "DATE": "2016-07-17T00:00:00",
          "REVENUE": 41.800000000000004,
          "index": 47,
          "symbol": "Revenue_Orange"
         },
         {
          "DATE": "2016-07-18T00:00:00",
          "REVENUE": 52.9,
          "index": 48,
          "symbol": "Revenue_Orange"
         },
         {
          "DATE": "2016-07-19T00:00:00",
          "REVENUE": 48.87499999999999,
          "index": 49,
          "symbol": "Revenue_Orange"
         },
         {
          "DATE": "2016-07-20T00:00:00",
          "REVENUE": 24.15,
          "index": 50,
          "symbol": "Revenue_Orange"
         },
         {
          "DATE": "2016-07-21T00:00:00",
          "REVENUE": 28.749999999999996,
          "index": 51,
          "symbol": "Revenue_Orange"
         },
         {
          "DATE": "2016-07-22T00:00:00",
          "REVENUE": 43.125,
          "index": 52,
          "symbol": "Revenue_Orange"
         },
         {
          "DATE": "2016-07-23T00:00:00",
          "REVENUE": 47.15,
          "index": 53,
          "symbol": "Revenue_Orange"
         },
         {
          "DATE": "2016-07-24T00:00:00",
          "REVENUE": 47.15,
          "index": 54,
          "symbol": "Revenue_Orange"
         },
         {
          "DATE": "2016-07-25T00:00:00",
          "REVENUE": 64.975,
          "index": 55,
          "symbol": "Revenue_Orange"
         },
         {
          "DATE": "2016-07-26T00:00:00",
          "REVENUE": 51.9225,
          "index": 56,
          "symbol": "Revenue_Orange"
         },
         {
          "DATE": "2016-07-27T00:00:00",
          "REVENUE": 27.369999999999997,
          "index": 57,
          "symbol": "Revenue_Orange"
         },
         {
          "DATE": "2016-07-28T00:00:00",
          "REVENUE": 25.357499999999998,
          "index": 58,
          "symbol": "Revenue_Orange"
         },
         {
          "DATE": "2016-07-29T00:00:00",
          "REVENUE": 26.564999999999998,
          "index": 59,
          "symbol": "Revenue_Orange"
         },
         {
          "DATE": "2016-07-30T00:00:00",
          "REVENUE": 21.945,
          "index": 60,
          "symbol": "Revenue_Orange"
         },
         {
          "DATE": "2016-07-31T00:00:00",
          "REVENUE": 18.095,
          "index": 61,
          "symbol": "Revenue_Orange"
         }
        ]
       },
       "encoding": {
        "color": {
         "field": "symbol",
         "type": "nominal"
        },
        "x": {
         "field": "DATE",
         "type": "temporal"
        },
        "y": {
         "field": "REVENUE",
         "type": "quantitative"
        }
       },
       "mark": "line"
      },
      "image/png": "[encoded data removed]",
      "text/plain": [
       "<VegaLite 3 object>\n",
       "\n",
       "If you see this message, it means the renderer has not been properly enabled\n",
       "for the frontend that you are using. For more information, see\n",
       "https://altair-viz.github.io/user_guide/troubleshooting.html\n"
      ]
     },
     "execution_count": 16,
     "metadata": {},
     "output_type": "execute_result"
    }
   ],
   "source": [
    "# Resposta 13\n",
    "\n",
    "df = data.loc[:,['DATE','LEMON','ORANGE','PRICE','REVENUE']]\n",
    "df.insert(len(df.columns),'Revenue_Lemon', df['LEMON'] * df['PRICE'])\n",
    "df.insert(len(df.columns),'Revenue_Orange', df['ORANGE'] * df['PRICE'])\n",
    "\n",
    "\n",
    "# plt.plot(df['DATE'], df['Revenue_Lemon'], label='Lemons')\n",
    "# plt.plot(df['DATE'], df['Revenue_Orange'], label='Oranges')\n",
    "\n",
    "\n",
    "# plt.xlabel('Tempo')\n",
    "# plt.ylabel('Revenue')\n",
    "# plt.title(\"Revenue por tipo de fruta ao longo do tempo\")\n",
    "\n",
    "# plt.legend()\n",
    "# plt.show()\n",
    "\n",
    "df1 = df.loc[:,['Revenue_Lemon', 'Revenue_Orange', 'DATE']]\n",
    "df1\n",
    "\n",
    "df2 = df1.melt('DATE').reset_index()\n",
    "df2 = df2.rename(columns={'value':'REVENUE', 'variable':'symbol' })\n",
    "alt.Chart(df2).mark_line().encode(\n",
    "    x='DATE',\n",
    "    y='REVENUE',\n",
    "    color='symbol'\n",
    ")\n"
   ]
  },
  {
   "cell_type": "markdown",
   "metadata": {
    "colab_type": "text",
    "id": "oIRUgSGv5PJa"
   },
   "source": [
    "## 14) Ajuste uma Regressão Linear aos dados para predizer vendas usando cada uma das features abaixo:"
   ]
  },
  {
   "cell_type": "markdown",
   "metadata": {
    "colab_type": "text",
    "id": "B541o_sC5PJc"
   },
   "source": [
    "### a.Temperature"
   ]
  },
  {
   "cell_type": "code",
   "execution_count": 17,
   "metadata": {
    "colab": {
     "base_uri": "https://localhost:8080/",
     "height": 0
    },
    "colab_type": "code",
    "id": "HE4RBPYm5PJj",
    "outputId": "10884202-f46a-440e-9b6c-9d546e00819d"
   },
   "outputs": [
    {
     "name": "stdout",
     "output_type": "stream",
     "text": [
      "\u001b[1;92m TRAINING: \u001b[0;92m\n",
      "\u001b[1;31m Mean squared error from Training Step: \u001b[0;0m 1968.77  \n",
      "\n",
      "\n",
      " \u001b[1;92m TEST: \u001b[0;92m\n",
      "\u001b[1;31m Mean squared error from Test Step: \u001b[0;0m 1344.65  \n",
      "\n"
     ]
    }
   ],
   "source": [
    "#Resposta 14a\n",
    "\n",
    "feature_col = ['TEMPERATURE']\n",
    "meta_col = ['SALES']\n",
    "\n",
    "X = data[feature_col].values\n",
    "y = data[meta_col].values\n",
    "split_test_size = 0.30 # 30% da amostra é para treino\n",
    "\n",
    "X_train, X_test, y_train, y_test = train_test_split(X, y, test_size=split_test_size, random_state=42)\n",
    "\n",
    "\n",
    "# Training\n",
    "\n",
    "print('\\033[1;92m TRAINING: \\033[0;92m')\n",
    "lr_model = linear_model.LinearRegression()\n",
    "lr_model.fit(X_train, y_train.ravel()) #training the algorithm\n",
    "y_pred1 = lr_model.predict(X_train)\n",
    "print(\"\\033[1;31m Mean squared error from Training Step: \\033[0;0m %.2f \" % mean_squared_error(y_train, y_pred1), '\\n')\n",
    "\n",
    "# Test\n",
    "\n",
    "print('\\n','\\033[1;92m TEST: \\033[0;92m')\n",
    "y_pred2 = lr_model.predict(X_test)\n",
    "print(\"\\033[1;31m Mean squared error from Test Step: \\033[0;0m %.2f \" % mean_squared_error(y_test, y_pred2),'\\n')"
   ]
  },
  {
   "cell_type": "markdown",
   "metadata": {
    "colab_type": "text",
    "id": "VXgbdKe05PJm"
   },
   "source": [
    "### b. Leaflets"
   ]
  },
  {
   "cell_type": "code",
   "execution_count": 18,
   "metadata": {
    "colab": {
     "base_uri": "https://localhost:8080/",
     "height": 0
    },
    "colab_type": "code",
    "id": "QpT7f7aC5PJn",
    "outputId": "292b6e08-2896-495a-986e-4b05f1460d31"
   },
   "outputs": [
    {
     "name": "stdout",
     "output_type": "stream",
     "text": [
      "\u001b[1;92m TRAINING: \u001b[0;92m\n",
      "\u001b[1;31m Mean squared error from Training Step: \u001b[0;0m 892.08  \n",
      "\n",
      "\n",
      " \u001b[1;92m TEST: \u001b[0;92m\n",
      "\u001b[1;31m Mean squared error from Test Step: \u001b[0;0m 137.91  \n",
      "\n"
     ]
    }
   ],
   "source": [
    "#Resposta 14b\n",
    "\n",
    "feature_col = ['LEAFLETS']\n",
    "meta_col = ['SALES']\n",
    "\n",
    "X = data[feature_col].values\n",
    "y = data[meta_col].values\n",
    "split_test_size = 0.30 # 30% da amostra é para treino\n",
    "\n",
    "X_train, X_test, y_train, y_test = train_test_split(X, y, test_size=split_test_size, random_state=42)\n",
    "\n",
    "\n",
    "# Training\n",
    "\n",
    "print('\\033[1;92m TRAINING: \\033[0;92m')\n",
    "lr_model = linear_model.LinearRegression()\n",
    "lr_model.fit(X_train, y_train.ravel()) #training the algorithm\n",
    "y_pred3 = lr_model.predict(X_train)\n",
    "print(\"\\033[1;31m Mean squared error from Training Step: \\033[0;0m %.2f \" % mean_squared_error(y_train, y_pred3), '\\n')\n",
    "\n",
    "# Test\n",
    "\n",
    "print('\\n','\\033[1;92m TEST: \\033[0;92m')\n",
    "y_pred4 = lr_model.predict(X_test)\n",
    "print(\"\\033[1;31m Mean squared error from Test Step: \\033[0;0m %.2f \" % mean_squared_error(y_test, y_pred4),'\\n')"
   ]
  },
  {
   "cell_type": "markdown",
   "metadata": {
    "colab_type": "text",
    "id": "BmyKuLnG5PJs"
   },
   "source": [
    "### c. Price"
   ]
  },
  {
   "cell_type": "code",
   "execution_count": 19,
   "metadata": {
    "colab": {
     "base_uri": "https://localhost:8080/",
     "height": 0
    },
    "colab_type": "code",
    "id": "vAuHxrAN5PJt",
    "outputId": "46403960-dfac-4708-b705-43db262e1907"
   },
   "outputs": [
    {
     "name": "stdout",
     "output_type": "stream",
     "text": [
      "\u001b[1;92m TRAINING: \u001b[0;92m\n",
      "\u001b[1;31m Mean squared error from Training Step: \u001b[0;0m 1962.26  \n",
      "\n",
      "\n",
      " \u001b[1;92m TEST: \u001b[0;92m\n",
      "\u001b[1;31m Mean squared error from Test Step: \u001b[0;0m 2522.51  \n",
      "\n"
     ]
    }
   ],
   "source": [
    "#Resposta 14c\n",
    "\n",
    "feature_col = ['PRICE']\n",
    "meta_col = ['SALES']\n",
    "\n",
    "X = data[feature_col].values\n",
    "y = data[meta_col].values\n",
    "split_test_size = 0.30 # 30% da amostra é para treino\n",
    "\n",
    "\n",
    "X_train, X_test, y_train, y_test = train_test_split(X, y, test_size=split_test_size, random_state=42)\n",
    "\n",
    "\n",
    "# Training\n",
    "\n",
    "print('\\033[1;92m TRAINING: \\033[0;92m')\n",
    "lr_model = linear_model.LinearRegression()\n",
    "lr_model.fit(X_train, y_train.ravel()) #training the algorithm\n",
    "y_pred5 = lr_model.predict(X_train)\n",
    "print(\"\\033[1;31m Mean squared error from Training Step: \\033[0;0m %.2f \" % mean_squared_error(y_train, y_pred5), '\\n')\n",
    "\n",
    "\n",
    "# Test\n",
    "\n",
    "print('\\n','\\033[1;92m TEST: \\033[0;92m')\n",
    "y_pred6 = lr_model.predict(X_test)\n",
    "print(\"\\033[1;31m Mean squared error from Test Step: \\033[0;0m %.2f \" % mean_squared_error(y_test, y_pred6),'\\n')"
   ]
  },
  {
   "cell_type": "markdown",
   "metadata": {
    "colab_type": "text",
    "id": "DIElkKQv5PJw"
   },
   "source": [
    "### d. Retorne um gráfico com a reta ajustada aos dados para cada feature e diga se ela é uma variável boa ou não para predizer vendas."
   ]
  },
  {
   "cell_type": "code",
   "execution_count": 20,
   "metadata": {
    "colab": {
     "base_uri": "https://localhost:8080/",
     "height": 0
    },
    "colab_type": "code",
    "id": "UBewPdce5PJx",
    "outputId": "8a61419f-14bb-412b-e11f-d9de7684a857"
   },
   "outputs": [
    {
     "data": {
      "image/png": "[encoded data removed]",
      "text/plain": [
       "<Figure size 720x504 with 1 Axes>"
      ]
     },
     "metadata": {},
     "output_type": "display_data"
    },
    {
     "name": "stdout",
     "output_type": "stream",
     "text": [
      "\n",
      " \u001b[1;96m COMMENTS: \u001b[1;96m\n",
      "\u001b[0;96m TEMPERATURE MSE from Test Step: \u001b[0;96m 1344.65 \n",
      "\u001b[0;96m LEAFLETS MSE from Test Step: \u001b[0;96m 137.91 \n",
      "\u001b[0;96m PRICE MSE from Test Step: \u001b[0;96m 2522.51 \n",
      "\u001b[1;96m Podemos concluir que a única variável boa para predizer vendas é a 'LEAFLETS',dado o seu baixo MSE = 137.9. \u001b[0;96m\n"
     ]
    }
   ],
   "source": [
    "#Resposta 14d\n",
    "\n",
    "# Regression plot using seaborn.\n",
    "fig = plt.figure(figsize=(10,7))\n",
    "sns.regplot(x=y_test,y=y_pred2,color='blue', marker='+')\n",
    "sns.regplot(x=y_test,y=y_pred4,color='magenta', marker='*')\n",
    "sns.regplot(x=y_test,y=y_pred6,color='green', marker='o')\n",
    "\n",
    "# Legend, title and labels.\n",
    "plt.legend(labels=['TEMPERATURE', 'LEAFLETS', 'PRICE'], bbox_to_anchor=(0.25, 0.95))\n",
    "plt.title('Relação entre Vendas (SALES) e Características (\"TEMPERATURE\", \"LEAFLETS\", \"PRICE\")', size=16)\n",
    "plt.xlabel('Features', size=14)\n",
    "plt.ylabel('Vendas', size=14);\n",
    "plt.show()\n",
    "\n",
    "print('\\n', '\\033[1;96m COMMENTS: \\033[1;96m')\n",
    "print(\"\\033[0;96m TEMPERATURE MSE from Test Step: \\033[0;96m %.2f \" % mean_squared_error(y_test, y_pred2))\n",
    "print(\"\\033[0;96m LEAFLETS MSE from Test Step: \\033[0;96m %.2f \" % mean_squared_error(y_test, y_pred4))\n",
    "print(\"\\033[0;96m PRICE MSE from Test Step: \\033[0;96m %.2f \" % mean_squared_error(y_test, y_pred6))\n",
    "\n",
    "print(\"\\033[1;96m Podemos concluir que a única variável boa para predizer vendas é a 'LEAFLETS',\\\n",
    "dado o seu baixo MSE = %.1f. \\033[0;96m\" % mean_squared_error(y_test, y_pred4))"
   ]
  },
  {
   "cell_type": "markdown",
   "metadata": {
    "colab_type": "text",
    "id": "6Dh2y3Hq5PJ1"
   },
   "source": [
    "## 15) Ajuste uma Regressão Linear aos dados para predizer vendas usando as três features juntas. Comente o resultado obtido."
   ]
  },
  {
   "cell_type": "code",
   "execution_count": 21,
   "metadata": {
    "colab": {
     "base_uri": "https://localhost:8080/",
     "height": 0
    },
    "colab_type": "code",
    "id": "rMy2J43F5PJ2",
    "outputId": "41bfdca9-8fcd-44d5-d40b-4f90dd7810e5"
   },
   "outputs": [
    {
     "name": "stdout",
     "output_type": "stream",
     "text": [
      "\n",
      "\n",
      "                            OLS Regression Results                            \n",
      "==============================================================================\n",
      "Dep. Variable:                      y   R-squared:                       0.767\n",
      "Model:                            OLS   Adj. R-squared:                  0.750\n",
      "Method:                 Least Squares   F-statistic:                     46.08\n",
      "Date:                Sun, 27 Oct 2019   Prob (F-statistic):           1.39e-09\n",
      "Time:                        20:50:27   Log-Likelihood:                -141.06\n",
      "No. Observations:                  31   AIC:                             288.1\n",
      "Df Residuals:                      28   BIC:                             292.4\n",
      "Df Model:                           2                                         \n",
      "Covariance Type:            nonrobust                                         \n",
      "==============================================================================\n",
      "                 coef    std err          t      P>|t|      [0.025      0.975]\n",
      "------------------------------------------------------------------------------\n",
      "const       -235.4938     84.814     -2.777      0.010    -409.228     -61.760\n",
      "x1             2.8772      1.121      2.566      0.016       0.581       5.174\n",
      "x2             1.8826      0.232      8.124      0.000       1.408       2.357\n",
      "==============================================================================\n",
      "Omnibus:                        3.895   Durbin-Watson:                   0.866\n",
      "Prob(Omnibus):                  0.143   Jarque-Bera (JB):                2.563\n",
      "Skew:                           0.386   Prob(JB):                        0.278\n",
      "Kurtosis:                       4.178   Cond. No.                     2.66e+03\n",
      "==============================================================================\n",
      "\n",
      "Warnings:\n",
      "[1] Standard Errors assume that the covariance matrix of the errors is correctly specified.\n",
      "[2] The condition number is large, 2.66e+03. This might indicate that there are\n",
      "strong multicollinearity or other numerical problems.\n",
      "\n",
      " \n",
      "\n",
      "\u001b[1;92m TRAINING: \u001b[0;92m\n",
      "\u001b[1;31m Mean squared error from Training Step: \u001b[0;0m 337.41  \n",
      "\n",
      "\n",
      " \u001b[1;92m TEST: \u001b[0;92m\n",
      "\u001b[1;31m Mean squared error from Test Step: \u001b[0;0m 327.81  \n",
      "\n"
     ]
    },
    {
     "data": {
      "image/png": "[encoded data removed]",
      "text/plain": [
       "<Figure size 648x432 with 1 Axes>"
      ]
     },
     "metadata": {},
     "output_type": "display_data"
    },
    {
     "name": "stdout",
     "output_type": "stream",
     "text": [
      "\n",
      " \u001b[1;96m COMMENTS: \u001b[1;96m\n",
      "\u001b[1;96m Podemos concluir que o uso de todas as características juntas ajudou o modelo a ficar com um MSE menor quando comparado ao obtido com as variáveis 'TEMPERATURE' e 'PRICE' sozinhas. Entretanto, o MSE da característica'LEAFLETS' ainda é menor sozinho do que quando combinado com as demais features.Outro ponto observado é que o P-value de 'PRICE' é zero e, portanto, não influencia significativamente 'SALES'.\u001b[0;96m\n"
     ]
    }
   ],
   "source": [
    "#Resposta 15\n",
    "\n",
    "     \n",
    "def resultado_estatistico(X, y):\n",
    "    import statsmodels.api as sm\n",
    "\n",
    "    X = np.insert(X, 0, 1, axis=1)\n",
    "\n",
    "    XOtimo = X[:,[0, 1, 2]]\n",
    "    regressor = sm.OLS(y, XOtimo.astype(float)).fit()\n",
    "    print(regressor.summary())\n",
    "    \n",
    "\n",
    "col_caract = ['TEMPERATURE', 'LEAFLETS', 'PRICE']\n",
    "col_meta   = ['SALES']\n",
    "X = data[col_caract].values\n",
    "y = data[col_meta].values\n",
    "\n",
    "\n",
    "print('\\n')\n",
    "#P-Value para cada categoria - todos os conjunstos de informação estatistica para essa regressão\n",
    "# Mostra que a terceira carateristica não existe relação. Valor valor não é bom 0.05% - 0.000 não influencia\n",
    "resultado_estatistico(X, y)\n",
    "\n",
    "print('\\n', '\\n')\n",
    "\n",
    "\n",
    "feature_col = ['TEMPERATURE', 'LEAFLETS', 'PRICE']\n",
    "meta_col = ['SALES']\n",
    "\n",
    "X = data[feature_col].values\n",
    "y = data[meta_col].values\n",
    "split_test_size = 0.30 # 30% da amostra é para treino\n",
    "\n",
    "X_train, X_test, y_train, y_test = train_test_split(X, y, test_size=split_test_size, random_state=42)\n",
    "\n",
    "\n",
    "# Training\n",
    "\n",
    "print('\\033[1;92m TRAINING: \\033[0;92m')\n",
    "lr_model = linear_model.LinearRegression()\n",
    "lr_model.fit(X_train, y_train.ravel()) #training the algorithm\n",
    "y_pred7 = lr_model.predict(X_train)\n",
    "\n",
    "print(\"\\033[1;31m Mean squared error from Training Step: \\033[0;0m %.2f \" % mean_squared_error(y_train, y_pred7), '\\n')\n",
    "\n",
    "\n",
    "# Test\n",
    "\n",
    "y_pred8 = lr_model.predict(X_test)\n",
    "\n",
    "print('\\n','\\033[1;92m TEST: \\033[0;92m')\n",
    "print(\"\\033[1;31m Mean squared error from Test Step: \\033[0;0m %.2f \" % mean_squared_error(y_test, y_pred8),'\\n')\n",
    "\n",
    "# Regression plot using seaborn.\n",
    "fig = plt.figure(figsize=(9,6))\n",
    "sns.regplot(x=y_test,y=y_pred8,color='blue', marker='*')\n",
    "\n",
    "# Legend, title and labels.\n",
    "plt.legend(labels=['Características'], bbox_to_anchor=(0.25, 0.95))\n",
    "plt.title('Relação entre Vendas (SALES) e Características (TEMPERATURE, LEAFLETS, PRICE)', size=16)\n",
    "plt.xlabel('FEATURES', size=14)\n",
    "plt.ylabel('SALES', size=14);\n",
    "plt.show()\n",
    "\n",
    "print('\\n', '\\033[1;96m COMMENTS: \\033[1;96m')\n",
    "\n",
    "print(\"\\033[1;96m Podemos concluir que o uso de todas as características juntas ajudou o modelo a ficar com um MSE menor quando\\\n",
    " comparado ao obtido com as variáveis 'TEMPERATURE' e 'PRICE' sozinhas. Entretanto, o MSE da característica\\\n",
    "'LEAFLETS' ainda é menor sozinho do que quando combinado com as demais features.\\\n",
    "Outro ponto observado é que o P-value de 'PRICE' é zero e, portanto, não influencia significativamente 'SALES'.\\033[0;96m\")"
   ]
  },
  {
   "cell_type": "markdown",
   "metadata": {
    "colab_type": "text",
    "id": "kAZwzcbt5PJ5"
   },
   "source": [
    "## 16) Generalize o algoritmo de Regressão Linear implementada em sala para que ele possa ser usado para regressão multivariada."
   ]
  },
  {
   "cell_type": "markdown",
   "metadata": {
    "colab_type": "text",
    "id": "K-796Mak5PJ6"
   },
   "source": [
    "### Cost Function & Gradients\n",
    "\n",
    "<h4> The equation for calculating cost function and gradients are as shown below. Please note the cost function is for Linear regression. For other algorithms the cost function will be different and the gradients would have  to be derived from the cost functions"
   ]
  },
  {
   "cell_type": "markdown",
   "metadata": {
    "colab_type": "text",
    "id": "BlFrYd2a5PJ7"
   },
   "source": [
    "### <b>Notation</b>\n",
    "* $x_1$, $x_2$, ..., $x_n$ denote the n features\n",
    "* $y$ denotes the output variable to be predicted\n",
    "* $m$ is number of training examples or samples\n",
    "* $n = |x^{i}|$ is number of features\n",
    "* $x^{i}$ is the column vector of all the feature inputs of the $i^{th}$ training example\n",
    "* $x_j^{i}$ is the value of feature $j$ in the $i{th}$ training example\n",
    "\n",
    "### <b>Hypothesis</b>\n",
    "\n",
    "The hypothesis in case of simple linear regression was,\n",
    "$h_{\\theta}(x) = \\theta_0 + \\theta_1 \\cdot x$\n",
    "\n",
    "\n",
    "Extending the above function to multiple features, hypothesis of multivariate linear regression is given by,\n",
    "$$h_{\\theta}(x) = \\theta_0 + \\theta_1 \\cdot x_1 + \\theta_2 \\cdot x_2 + \\cdots + \\theta_n \\cdot x_n =$$ \n",
    "\n",
    "$$ = \\theta_0 \\cdot x_0 + \\theta_1 \\cdot x_1 + \\theta_2 \\cdot x_2 + \\cdots + \\theta_n \\cdot x_n$$ , where $x_0 = 1$\n",
    "\n",
    "<b>Note:</b> So that we can do matrix operations with $\\theta$ and $x$, we will set $x^{(i)}_0 = 1$, for all values of $i$. This makes the two vectors '$\\theta$' and '$x_{(i)}$' match each other element-wise (that is, have the same number of elements: $n+1$).\n",
    "\n",
    "* Para desenvolver uma intuição sobre essa função, nós podemos pensar sobre $\\theta_0$ como as vendas variando de acordo com a temperatura ('TEMPERATURA'), $\\theta_1$ como as vendas variando de acordo com a quantidade de panfletos ('LEAFLETS'), etc. Por outro lado, $x_1$ será a temperatura da limonada, $x_2$ o número de panfletos distribuídos, etc. \n",
    "\n",
    "<b>Vectorizing above equation:</b>\n",
    "\n",
    "* Where,\n",
    "$\\theta = \\begin{bmatrix} \\theta_0 \\\\ \\theta_1 \\\\ \\vdots \\\\ \\theta_n \\end{bmatrix} \\in {\\rm I\\!R}^{n+1}$ and $x = \\begin{bmatrix} x_0^{1} &  x_1^{1} & \\ldots & x_n^{1} \\\\ x_0^{2} &  x_1^{2} & \\ldots & x_n^{2} \\\\ \\vdots \\\\ x_0^{i} &  x_1^{i} & \\ldots & x_n^{i} \\end{bmatrix} \\in {\\rm I\\!R}^{n+1}$\n",
    "\n",
    "* Usando a definição de multiplicação de matrizes, nossa função de hipotese multivariável pode ser concisamente representado como:\n",
    "\n",
    "\n",
    "$h_{\\theta}= \\begin{bmatrix}\\theta_0 & \\theta_1 & \\ldots & \\theta_n \\end{bmatrix}\\begin{bmatrix} x_0^{1} &  x_1^{1} & \\ldots & x_n^{1} \\\\ x_0^{2} &  x_1^{2} & \\ldots & x_n^{2} \\\\ \\vdots \\\\ x_0^{i} &  x_1^{i} & \\ldots & x_n^{i} \\end{bmatrix} =  \\theta^{T}x$\n",
    "\n",
    ", onde $\\theta^{T}$ é a matriz transposta de $\\theta$ para tornar possível a multiplicação entre matrizes (Existe AB se A é do tipo $m$x$n$ e B é do tipo $n$x$p$). This is a vectorization of our hypothesis function for one training example.\n",
    "\n",
    "\n",
    "\n",
    "### <b>Cost Function</b>\n",
    "\n",
    "The cost function for univariate linear regression was, $$J(\\theta_0, \\theta_1) = \\frac{1}{2m} \\sum_{i=1}^{m} \\Big(h_{\\theta}(x^{(i)}) - y^{(i)} \\Big)^2$$\n",
    "\n",
    "Extending the above function to multiple features, the cost function for multiple features is given by,\n",
    "\\begin{equation}\n",
    "J(\\theta) = \\frac{1}{2m} \\sum_{i=1}^{m} \\Big(h_{\\theta}(x^{(i)}) - y^{(i)} \\Big)^2 \n",
    "\\end{equation}\n",
    "\n",
    "\\begin{equation}\n",
    "= \\frac{1}{2m} \\sum_{i=1}^{m} \\Big(\\theta^{T}.(x^{(i)}) - y^{(i)} \\Big)^2 \n",
    "\\end{equation}\n",
    "\n",
    "\\begin{equation}\n",
    "= \\frac{1}{2m} \\sum_{i=1}^{m} \\Bigg( \\bigg(\\sum_{j=0}^{n} \\big(\\theta_j.x_j^{(i)}) \\bigg) - y^{(i)} \\Bigg)^2 \n",
    "\\end{equation}\n",
    "\n",
    "For the parameter vector $\\theta$ of type ${\\rm I\\!R}^{n+1}$ or ${\\rm I\\!R}^{(n+1)x1}$\n",
    "\n",
    "* Where, $\\theta$ is a vector given by $\\theta = \\begin{bmatrix}\\theta_0 \\\\ \\theta_1 \\\\ \\vdots \\\\ \\theta_n\\end{bmatrix}$\n",
    "\n",
    "The vectorized version is :\n",
    "\\begin{equation}\n",
    "J(\\theta) = \\frac{1}{2m} (X \\theta - \\vec{y}^{\\,})^T (X \\theta - \\vec{y}^{\\,}) \n",
    "\\end{equation}\n",
    "where $\\vec{y}^{\\,}$ denotes the vector of all y values.\n",
    "\n",
    "### <b>Gradient</b>\n",
    "\n",
    "\\begin{equation}\n",
    "\\frac{\\partial J(\\theta)}{\\partial \\theta_j} = \\frac{1}{m}\\sum_{i=1}^{m} \\big(h_{\\theta}(x^{(i)}) - y^{(i)} \\big).x_j^{(i)}\n",
    "\\end{equation}\n",
    "\n",
    "### <b>Gradients</b>\n",
    "\\begin{equation}\n",
    "\\theta_0: = \\theta_0 -\\alpha \\cdot \\bigg(\\frac{1}{m} \\cdot \\sum_{i=1}^{m} \\big(h_{\\theta}(x^{(i)}) - y^{(i)} \\big) \\cdot x_0^{(i)} \\bigg)\n",
    "\\end{equation}\n",
    "\\begin{equation}\n",
    "\\theta_1: = \\theta_1 -\\alpha \\cdot \\bigg(\\frac{1}{m} \\cdot \\sum_{i=1}^{m} \\big(h_{\\theta}(x^{(i)}) - y^{(i)} \\big) \\cdot x_1^{(i)} \\bigg)\n",
    "\\end{equation}\n",
    "\\begin{equation}\n",
    "\\theta_2: = \\theta_2 -\\alpha \\cdot \\bigg(\\frac{1}{m} \\cdot \\sum_{i=1}^{m} \\big(h_{\\theta}(x^{(i)}) - y^{(i)} \\big) \\cdot x_2^{(i)} \\bigg)\n",
    "\\end{equation}\n",
    "\n",
    "$$\\vdots$$ \n",
    "\n",
    "\\begin{equation}\n",
    "\\theta_j: = \\theta_j -\\alpha \\cdot \\bigg(\\frac{1}{m} \\cdot \\sum_{i=1}^{m} \\big(h_{\\theta}(x^{(i)})- y^{(i)} \\big) \\cdot x_j^{(i)} \\bigg)\n",
    "\\end{equation}\n",
    "\\begin{equation}\n",
    "\\theta_j: = \\theta_j -\\alpha \\cdot \\Bigg(\\frac{1}{m} \\cdot \\sum_{i=1}^{m} \\bigg(\\sum_{j=0}^{n} \\big(h_{\\theta}(x_j^{(i)}) \\big) - y^{(i)} \\bigg) \\cdot x_j^{(i)} \\Bigg)\n",
    "\\end{equation}\n",
    "\\begin{equation}\n",
    "\\theta_j: = \\theta_j -\\alpha \\cdot \\Bigg(\\frac{1}{m} \\cdot \\sum_{i=1}^{m} \\bigg(\\sum_{j=0}^{n} \\big(\\sum_{j=0}^{n} \\big(\\theta_j(x_j^{(i)}) \\big) - y^{(i)} \\bigg) \\cdot x_j^{(i)} \\Bigg)\n",
    "\\end{equation}\n",
    "\n",
    "### Matrix Notation\n",
    "\n",
    "The Gradient Descedent rule can be expressed as:\n",
    "$\\theta := \\theta - \\alpha \\nabla J(\\theta)$, where $\\nabla J(\\theta)$ is a column vector of the form:\n",
    "\n",
    "\n",
    "\\begin{equation}\n",
    "\\nabla J(\\theta) = \\begin{bmatrix}\\frac{\\partial J(\\theta)}{\\partial \\theta_0} \\\\ \\frac{\\partial J(\\theta)}{\\partial \\theta_1} \\\\ \\vdots \\\\ \\frac{\\partial J(\\theta)}{\\partial \\theta_n} \\end{bmatrix}\n",
    "\\end{equation}\n",
    "\n",
    "\n",
    "The j-th component of the gradient is the summation of the product of two terms:\n",
    "$$\\frac{\\partial J(\\theta)}{\\partial \\theta_j} = \\frac{1}{m} \\sum_{i=1}^{m}(h_\\theta(x^{(i)}) - y^{(i)}) \\cdot x_j^{(i)}$$\n",
    "$$\\frac{\\partial J(\\theta)}{\\partial \\theta_j} = \\frac{1}{m} \\sum_{i=1}^{m} x_j^{(i)} \\cdot (h_\\theta(x^{(i)}) - y^{(i)}) $$\n",
    "\n",
    "Sometimes, the summation of the product of two terms can be expressed as the product of two vectors.\n",
    "Here, $x_j^{(i)}$, for $i = 1, \\ldots, m$, represents the $m$ element of the j-th column, $\\vec{x_j}^{\\,}$, of the training set $X$.\n",
    "\n",
    "The other term $\\big(h_\\theta(x^{(i)}) - y^{(i)} \\big)$ is the vector of the deviations between the predictions $h_\\theta(x^{(i)})$ and the true values $y^{(i)}$. \n",
    "\n",
    "Re-writing $\\frac{\\partial J(\\theta)}{\\partial \\theta_j}$, we have:\n",
    "$$\\frac{\\partial J(\\theta)}{\\partial \\theta_j} = \\frac{1}{m} \\vec{x_j}^{\\,T} (X \\theta - \\vec{y}^{\\,})$$\n",
    "\n",
    "$$\\nabla J(\\theta) = \\frac{1}{m} X^T (X \\theta - \\vec{y}^{\\,}) $$\n",
    "\n",
    "\n",
    "Finally, the matrix notation (vectorized) of the Gradient Descent rule is:\n",
    "$$ \\theta := \\theta - \\frac{\\alpha}{m} X^T(X \\theta - \\vec{y}{\\,})$$"
   ]
  },
  {
   "cell_type": "code",
   "execution_count": 22,
   "metadata": {
    "colab": {},
    "colab_type": "code",
    "id": "jKXDuomb5PJ9"
   },
   "outputs": [],
   "source": [
    "## Resposta 16)\n",
    "\n",
    "class MultiLinearRegression():\n",
    "    \n",
    "    def hypo (self, X, theta):\n",
    "#         print('theta = {}, X = {}'.format(theta,X), '\\n')\n",
    "        return np.matmul(theta.T,X)\n",
    "    \n",
    "    def cost_function(self,X,y,theta): # X é vetor de características, Y é a meta e theta é o vetor inicial.\n",
    "\n",
    "        m = len(y)          #número de amostras\n",
    "        J = 0               # custo\n",
    "        \n",
    "        for i in range(m):  # Funçao que implementa o MSE\n",
    "            J = 1/(2*m) * np.sum(np.power(self.hypo(X[i], theta) - y[i], 2))\n",
    "        \n",
    "        return J\n",
    "\n",
    "   \n",
    "\n",
    "    def gradient_descent(self,X, y, theta, alpha, iterations):\n",
    "        m = len(y) #número de amostras\n",
    "        J_history = np.zeros(iterations) # Cria um vetor preenchido com zeros do tamanho das interações\n",
    "        theta_history = np.zeros((iterations,np.size(X,1)))\n",
    "\n",
    "        for k in range(iterations):\n",
    "            for j in range(len(theta)):\n",
    "                grad = 0\n",
    "                for i in range(m):\n",
    "                    grad = 1/m * np.sum((self.hypo(X[i], theta) - y[i]) * X[i][j])\n",
    "                theta[j] = theta[j] -  alpha * grad\n",
    "            theta_history[k,:] =theta.T\n",
    "            J_history[k] = self.cost_function(X,y,theta)\n",
    "\n",
    "        return theta, J_history"
   ]
  },
  {
   "cell_type": "code",
   "execution_count": 23,
   "metadata": {
    "colab": {
     "base_uri": "https://localhost:8080/",
     "height": 0
    },
    "colab_type": "code",
    "id": "9KP3i_715PKA",
    "outputId": "ffb0b1f9-de5c-4a0a-a649-eb7286b89802"
   },
   "outputs": [
    {
     "name": "stdout",
     "output_type": "stream",
     "text": [
      "   TEMPERATURE  LEAFLETS  SALES   PRICE\n",
      "0           70      90.0    164  0.2875\n",
      "1           72      90.0    165  0.2875\n",
      "2           71     104.0    187  0.2875\n",
      "3           76      98.0    233  0.2750\n",
      "4           78     135.0    277  0.2750\n",
      "xl.head() \n",
      "      0   1      2       3\n",
      "0  1.0  70   90.0  0.2875\n",
      "1  1.0  72   90.0  0.2875\n",
      "2  1.0  71  104.0  0.2875\n",
      "3  1.0  76   98.0  0.2750\n",
      "4  1.0  78  135.0  0.2750 \n",
      "\n",
      "yl.head() \n",
      " 0    164\n",
      "1    165\n",
      "2    187\n",
      "3    233\n",
      "4    277\n",
      "Name: SALES, dtype: int64 \n",
      "\n",
      "thetal \n",
      " [0. 0. 0. 0.] \n",
      "\n",
      "lx.shape \n",
      " (31, 4) \n",
      "\n",
      "yl.shape \n",
      " (31,) \n",
      "\n",
      "thetal.shape \n",
      " (4,) \n",
      "\n"
     ]
    }
   ],
   "source": [
    "\n",
    "data1 = data.iloc[0:,[-6, -5, -4, -3 ]]\n",
    "# data1 = StandardScaler().fit_transform(data1)\n",
    "data1 = pd.DataFrame(data=data1,      # values\n",
    "            columns=['TEMPERATURE','LEAFLETS', 'SALES', 'PRICE']    # 1st row as the column names\n",
    "               )\n",
    "print(data1.head())\n",
    "\n",
    "# x = data.iloc[0:,[5, 6, 8]]\n",
    "xl = data1.iloc[0:,[-4, -3, -1]]\n",
    "\n",
    "ones = np.ones(len(data)) \n",
    "xl.insert(0,len(xl.columns) + 1, ones)\n",
    "\n",
    "# y = data.iloc[:,-4]\n",
    "yl = data1.iloc[:,-2]\n",
    "\n",
    "thetal = np.zeros(len(xl.columns))\n",
    "\n",
    "xl.columns = range(xl.shape[1])\n",
    "\n",
    "\n",
    "print('xl.head()','\\n',xl.head(),'\\n')\n",
    "print('yl.head()','\\n', yl.head(),'\\n')\n",
    "print('thetal','\\n', thetal,'\\n')\n",
    "\n",
    "xl = xl.to_numpy()\n",
    "yl = yl.to_numpy()\n",
    "\n",
    "print('lx.shape','\\n',xl.shape,'\\n')\n",
    "print('yl.shape','\\n', yl.shape,'\\n')\n",
    "print('thetal.shape','\\n', thetal.shape,'\\n')\n",
    "\n",
    "\n",
    "iterationsl = 1500\n",
    "alphal = 0.00001 # não normalizado\n",
    "# alpha = 0.1 #normalizado"
   ]
  },
  {
   "cell_type": "code",
   "execution_count": 24,
   "metadata": {
    "colab": {
     "base_uri": "https://localhost:8080/",
     "height": 0
    },
    "colab_type": "code",
    "id": "AZzPJSs15PKI",
    "outputId": "d1ba66ee-4c42-4a65-e18c-bb2113308b70"
   },
   "outputs": [
    {
     "name": "stdout",
     "output_type": "stream",
     "text": [
      "244.01612903225805\n"
     ]
    }
   ],
   "source": [
    "mlr = MultiLinearRegression()\n",
    "# vec_custo_mlr = mlr.vector_multi_cost_function(x, y, theta)\n",
    "# print(vec_custo_mlr)\n",
    "\n",
    "custo_mlrl = mlr.cost_function(xl, yl, thetal)\n",
    "print(custo_mlrl)"
   ]
  },
  {
   "cell_type": "code",
   "execution_count": 25,
   "metadata": {
    "colab": {
     "base_uri": "https://localhost:8080/",
     "height": 0
    },
    "colab_type": "code",
    "id": "MgOg6i-a5PKK",
    "outputId": "9d74edbd-0f92-4b2b-fb5b-dc35d4e1e297"
   },
   "outputs": [
    {
     "data": {
      "text/plain": [
       "array([0.01080293, 0.88584012, 0.73300575, 0.00414392])"
      ]
     },
     "execution_count": 25,
     "metadata": {},
     "output_type": "execute_result"
    }
   ],
   "source": [
    "theta_lrl, custo_hl = mlr.gradient_descent(xl, yl, thetal, alphal, iterationsl)\n",
    "theta_lrl"
   ]
  },
  {
   "cell_type": "code",
   "execution_count": 26,
   "metadata": {
    "colab": {
     "base_uri": "https://localhost:8080/",
     "height": 0
    },
    "colab_type": "code",
    "id": "fQip6jrX5PKN",
    "outputId": "8fe4aca9-64ba-446e-df07-bd9f63bd5e9c"
   },
   "outputs": [
    {
     "data": {
      "text/plain": [
       "(4,)"
      ]
     },
     "execution_count": 26,
     "metadata": {},
     "output_type": "execute_result"
    }
   ],
   "source": [
    "theta_lrl.shape"
   ]
  },
  {
   "cell_type": "code",
   "execution_count": 27,
   "metadata": {
    "colab": {
     "base_uri": "https://localhost:8080/",
     "height": 0
    },
    "colab_type": "code",
    "id": "69bWo3Kz5PKQ",
    "outputId": "ee6f0680-fc69-4975-d38f-1557d9cede1d"
   },
   "outputs": [
    {
     "data": {
      "text/plain": [
       "array([127.99132045, 129.76300069, 139.13924112, 139.17035539,\n",
       "       168.06324852, 138.62135008, 170.72076887, 155.48048241,\n",
       "       163.23787697, 168.67458598, 172.49244911, 146.9900821 ,\n",
       "       140.78920127, 151.93712194, 145.61571239, 131.5357687 ,\n",
       "       160.58149619, 161.19293725, 151.93836511, 141.91962115,\n",
       "       134.19339266, 150.04501658, 157.52790848, 158.4137486 ,\n",
       "       173.37953241, 189.3521098 , 143.44724997, 138.62187843,\n",
       "       141.40106708, 132.02475413, 122.49567933])"
      ]
     },
     "execution_count": 27,
     "metadata": {},
     "output_type": "execute_result"
    }
   ],
   "source": [
    "Yfitl = np.matmul(xl,theta_lrl) #acessando apenas os valores no df, np.matmul = Matrix product of two arrays.\n",
    "Yfitl"
   ]
  },
  {
   "cell_type": "code",
   "execution_count": 28,
   "metadata": {
    "colab": {
     "base_uri": "https://localhost:8080/",
     "height": 0
    },
    "colab_type": "code",
    "id": "_ymz4Oax5PKS",
    "outputId": "a92d9708-5cb1-4f6d-f328-9053e5c67674"
   },
   "outputs": [
    {
     "data": {
      "text/plain": [
       "Text(0.5, 1.0, 'Error vs. Training Epoch')"
      ]
     },
     "execution_count": 28,
     "metadata": {},
     "output_type": "execute_result"
    },
    {
     "data": {
      "image/png": "[encoded data removed]",
      "text/plain": [
       "<Figure size 432x288 with 1 Axes>"
      ]
     },
     "metadata": {},
     "output_type": "display_data"
    }
   ],
   "source": [
    "#plot the cost\n",
    "fig, ax = plt.subplots()  \n",
    "ax.plot(np.arange(iterationsl), custo_hl, 'r')  \n",
    "ax.set_xlabel('Iterations')  \n",
    "ax.set_ylabel('Cost')  \n",
    "ax.set_title('Error vs. Training Epoch')"
   ]
  },
  {
   "cell_type": "code",
   "execution_count": 29,
   "metadata": {
    "colab": {
     "base_uri": "https://localhost:8080/",
     "height": 0
    },
    "colab_type": "code",
    "id": "mKoOP-Zo5PKV",
    "outputId": "cb994bda-e243-4650-cf51-9d47f6f28d1d"
   },
   "outputs": [
    {
     "data": {
      "image/png": "[encoded data removed]",
      "text/plain": [
       "<Figure size 1152x720 with 1 Axes>"
      ]
     },
     "metadata": {},
     "output_type": "display_data"
    }
   ],
   "source": [
    "df = pd.DataFrame({'Predicted': Yfitl, 'Actual': yl})\n",
    "# df1 = df.head(41)\n",
    "df.plot(kind='bar',figsize=(16,10))\n",
    "plt.grid(which='major', linestyle='-', linewidth='0.5', color='green')\n",
    "plt.grid(which='minor', linestyle=':', linewidth='0.5', color='black')\n",
    "plt.show()"
   ]
  },
  {
   "cell_type": "code",
   "execution_count": 30,
   "metadata": {
    "colab": {
     "base_uri": "https://localhost:8080/",
     "height": 0
    },
    "colab_type": "code",
    "id": "M7QEZRcB5PKX",
    "outputId": "b077e947-ab89-4421-a2c5-67ac34d13231"
   },
   "outputs": [
    {
     "data": {
      "image/png": "[encoded data removed]",
      "text/plain": [
       "<Figure size 648x432 with 1 Axes>"
      ]
     },
     "metadata": {},
     "output_type": "display_data"
    }
   ],
   "source": [
    "fig = plt.figure(figsize=(9,6))\n",
    "sns.regplot(x=yl,y=Yfitl,color='blue', marker='*')\n",
    "\n",
    "# Legend, title and labels.\n",
    "plt.legend(labels=['Características'], bbox_to_anchor=(0.25, 0.95))\n",
    "plt.title('Q16 - Relação entre Vendas (SALES) e Características (TEMPERATURE, LEAFLETS, PRICE)', size=16)\n",
    "plt.xlabel('FEATURES', size=14)\n",
    "plt.ylabel('SALES', size=14);\n",
    "plt.show() "
   ]
  },
  {
   "cell_type": "code",
   "execution_count": 31,
   "metadata": {
    "colab": {
     "base_uri": "https://localhost:8080/",
     "height": 0
    },
    "colab_type": "code",
    "id": "VT8GC1yf5PKa",
    "outputId": "ceb37e5d-19ca-454e-d4c1-0f0990f8cba5"
   },
   "outputs": [
    {
     "data": {
      "image/png": "[encoded data removed]",
      "text/plain": [
       "<Figure size 648x432 with 1 Axes>"
      ]
     },
     "metadata": {},
     "output_type": "display_data"
    }
   ],
   "source": [
    "# Regression plot using seaborn.\n",
    "fig = plt.figure(figsize=(9,6))\n",
    "sns.regplot(x=y_test,y=y_pred8,color='blue', marker='*')\n",
    "\n",
    "# Legend, title and labels.\n",
    "plt.legend(labels=['Características'], bbox_to_anchor=(0.25, 0.95))\n",
    "plt.title('Q15 - Relação entre Vendas (SALES) e Características (TEMPERATURE, LEAFLETS, PRICE)', size=16)\n",
    "plt.xlabel('FEATURES', size=14)\n",
    "plt.ylabel('SALES', size=14);\n",
    "plt.show()"
   ]
  },
  {
   "cell_type": "markdown",
   "metadata": {
    "colab_type": "text",
    "id": "WNVQRSxv5PKe"
   },
   "source": [
    "## 17) Aplique o algoritmo implementado na questão 16 no conjunto de dados consumo_cerveja.csv usando as mesmas features para treinamento."
   ]
  },
  {
   "cell_type": "code",
   "execution_count": 32,
   "metadata": {
    "colab": {
     "base_uri": "https://localhost:8080/",
     "height": 391
    },
    "colab_type": "code",
    "id": "nxsJcUUg5PKf",
    "outputId": "228c3502-c30f-4523-e093-7a2da29e7643"
   },
   "outputs": [
    {
     "name": "stdout",
     "output_type": "stream",
     "text": [
      "\u001b[1;31m Vamos entender nossos dados \u001b[0;0m \n",
      " Data                            object\n",
      "Temperatura Media (C)          float64\n",
      "Temperatura Minima (C)         float64\n",
      "Temperatura Maxima (C)         float64\n",
      "Precipitacao (mm)              float64\n",
      "Final de Semana                  int64\n",
      "Consumo de cerveja (litros)    float64\n",
      "dtype: object \n",
      "\n"
     ]
    },
    {
     "data": {
      "text/html": [
       "<div>\n",
       "<style scoped>\n",
       "    .dataframe tbody tr th:only-of-type {\n",
       "        vertical-align: middle;\n",
       "    }\n",
       "\n",
       "    .dataframe tbody tr th {\n",
       "        vertical-align: top;\n",
       "    }\n",
       "\n",
       "    .dataframe thead th {\n",
       "        text-align: right;\n",
       "    }\n",
       "</style>\n",
       "<table border=\"1\" class=\"dataframe\">\n",
       "  <thead>\n",
       "    <tr style=\"text-align: right;\">\n",
       "      <th></th>\n",
       "      <th>Data</th>\n",
       "      <th>Temperatura Media (C)</th>\n",
       "      <th>Temperatura Minima (C)</th>\n",
       "      <th>Temperatura Maxima (C)</th>\n",
       "      <th>Precipitacao (mm)</th>\n",
       "      <th>Final de Semana</th>\n",
       "      <th>Consumo de cerveja (litros)</th>\n",
       "    </tr>\n",
       "  </thead>\n",
       "  <tbody>\n",
       "    <tr>\n",
       "      <td>0</td>\n",
       "      <td>01/01/2015</td>\n",
       "      <td>27.30</td>\n",
       "      <td>23.9</td>\n",
       "      <td>32.5</td>\n",
       "      <td>0.0</td>\n",
       "      <td>0</td>\n",
       "      <td>25.461</td>\n",
       "    </tr>\n",
       "    <tr>\n",
       "      <td>1</td>\n",
       "      <td>02/01/2015</td>\n",
       "      <td>27.02</td>\n",
       "      <td>24.5</td>\n",
       "      <td>33.5</td>\n",
       "      <td>0.0</td>\n",
       "      <td>0</td>\n",
       "      <td>28.972</td>\n",
       "    </tr>\n",
       "    <tr>\n",
       "      <td>2</td>\n",
       "      <td>03/01/2015</td>\n",
       "      <td>24.82</td>\n",
       "      <td>22.4</td>\n",
       "      <td>29.9</td>\n",
       "      <td>0.0</td>\n",
       "      <td>1</td>\n",
       "      <td>30.814</td>\n",
       "    </tr>\n",
       "    <tr>\n",
       "      <td>3</td>\n",
       "      <td>04/01/2015</td>\n",
       "      <td>23.98</td>\n",
       "      <td>21.5</td>\n",
       "      <td>28.6</td>\n",
       "      <td>1.2</td>\n",
       "      <td>1</td>\n",
       "      <td>29.799</td>\n",
       "    </tr>\n",
       "    <tr>\n",
       "      <td>4</td>\n",
       "      <td>05/01/2015</td>\n",
       "      <td>23.82</td>\n",
       "      <td>21.0</td>\n",
       "      <td>28.3</td>\n",
       "      <td>0.0</td>\n",
       "      <td>0</td>\n",
       "      <td>28.900</td>\n",
       "    </tr>\n",
       "  </tbody>\n",
       "</table>\n",
       "</div>"
      ],
      "text/plain": [
       "         Data  Temperatura Media (C)  Temperatura Minima (C)  \\\n",
       "0  01/01/2015                  27.30                    23.9   \n",
       "1  02/01/2015                  27.02                    24.5   \n",
       "2  03/01/2015                  24.82                    22.4   \n",
       "3  04/01/2015                  23.98                    21.5   \n",
       "4  05/01/2015                  23.82                    21.0   \n",
       "\n",
       "   Temperatura Maxima (C)  Precipitacao (mm)  Final de Semana  \\\n",
       "0                    32.5                0.0                0   \n",
       "1                    33.5                0.0                0   \n",
       "2                    29.9                0.0                1   \n",
       "3                    28.6                1.2                1   \n",
       "4                    28.3                0.0                0   \n",
       "\n",
       "   Consumo de cerveja (litros)  \n",
       "0                       25.461  \n",
       "1                       28.972  \n",
       "2                       30.814  \n",
       "3                       29.799  \n",
       "4                       28.900  "
      ]
     },
     "execution_count": 32,
     "metadata": {},
     "output_type": "execute_result"
    }
   ],
   "source": [
    "beer = pd.read_csv('Consumo_cerveja.csv', sep = ';')\n",
    "print('\\033[1;31m Vamos entender nossos dados \\033[0;0m','\\n', beer.dtypes, '\\n')\n",
    "beer.head()"
   ]
  },
  {
   "cell_type": "code",
   "execution_count": 33,
   "metadata": {
    "colab": {
     "base_uri": "https://localhost:8080/",
     "height": 204
    },
    "colab_type": "code",
    "id": "zewWGqt_5PKh",
    "outputId": "c35b7592-7245-4e1a-f7ae-33dfdfaa4d74"
   },
   "outputs": [
    {
     "data": {
      "text/html": [
       "<div>\n",
       "<style scoped>\n",
       "    .dataframe tbody tr th:only-of-type {\n",
       "        vertical-align: middle;\n",
       "    }\n",
       "\n",
       "    .dataframe tbody tr th {\n",
       "        vertical-align: top;\n",
       "    }\n",
       "\n",
       "    .dataframe thead th {\n",
       "        text-align: right;\n",
       "    }\n",
       "</style>\n",
       "<table border=\"1\" class=\"dataframe\">\n",
       "  <thead>\n",
       "    <tr style=\"text-align: right;\">\n",
       "      <th></th>\n",
       "      <th>Data</th>\n",
       "      <th>meanTemp</th>\n",
       "      <th>minTemp</th>\n",
       "      <th>maxTemp</th>\n",
       "      <th>precip</th>\n",
       "      <th>weekend</th>\n",
       "      <th>consumo</th>\n",
       "    </tr>\n",
       "  </thead>\n",
       "  <tbody>\n",
       "    <tr>\n",
       "      <td>0</td>\n",
       "      <td>01/01/2015</td>\n",
       "      <td>27.30</td>\n",
       "      <td>23.9</td>\n",
       "      <td>32.5</td>\n",
       "      <td>0.0</td>\n",
       "      <td>0</td>\n",
       "      <td>25.461</td>\n",
       "    </tr>\n",
       "    <tr>\n",
       "      <td>1</td>\n",
       "      <td>02/01/2015</td>\n",
       "      <td>27.02</td>\n",
       "      <td>24.5</td>\n",
       "      <td>33.5</td>\n",
       "      <td>0.0</td>\n",
       "      <td>0</td>\n",
       "      <td>28.972</td>\n",
       "    </tr>\n",
       "    <tr>\n",
       "      <td>2</td>\n",
       "      <td>03/01/2015</td>\n",
       "      <td>24.82</td>\n",
       "      <td>22.4</td>\n",
       "      <td>29.9</td>\n",
       "      <td>0.0</td>\n",
       "      <td>1</td>\n",
       "      <td>30.814</td>\n",
       "    </tr>\n",
       "    <tr>\n",
       "      <td>3</td>\n",
       "      <td>04/01/2015</td>\n",
       "      <td>23.98</td>\n",
       "      <td>21.5</td>\n",
       "      <td>28.6</td>\n",
       "      <td>1.2</td>\n",
       "      <td>1</td>\n",
       "      <td>29.799</td>\n",
       "    </tr>\n",
       "    <tr>\n",
       "      <td>4</td>\n",
       "      <td>05/01/2015</td>\n",
       "      <td>23.82</td>\n",
       "      <td>21.0</td>\n",
       "      <td>28.3</td>\n",
       "      <td>0.0</td>\n",
       "      <td>0</td>\n",
       "      <td>28.900</td>\n",
       "    </tr>\n",
       "  </tbody>\n",
       "</table>\n",
       "</div>"
      ],
      "text/plain": [
       "         Data  meanTemp  minTemp  maxTemp  precip  weekend  consumo\n",
       "0  01/01/2015     27.30     23.9     32.5     0.0        0   25.461\n",
       "1  02/01/2015     27.02     24.5     33.5     0.0        0   28.972\n",
       "2  03/01/2015     24.82     22.4     29.9     0.0        1   30.814\n",
       "3  04/01/2015     23.98     21.5     28.6     1.2        1   29.799\n",
       "4  05/01/2015     23.82     21.0     28.3     0.0        0   28.900"
      ]
     },
     "execution_count": 33,
     "metadata": {},
     "output_type": "execute_result"
    }
   ],
   "source": [
    "#tratamento do data frame\n",
    "beer = beer.rename(columns={'Temperatura Media (C)':'meanTemp','Temperatura Minima (C)':'minTemp','Temperatura Maxima (C)':'maxTemp',\n",
    "                       'Precipitacao (mm)':'precip','Final de Semana':'weekend','Consumo de cerveja (litros)':'consumo'})\n",
    "beer.head()"
   ]
  },
  {
   "cell_type": "code",
   "execution_count": 34,
   "metadata": {
    "colab": {
     "base_uri": "https://localhost:8080/",
     "height": 68
    },
    "colab_type": "code",
    "id": "_d11oEAC5PKl",
    "outputId": "eec2600a-ef21-4ef8-d7cf-788bb1095d24"
   },
   "outputs": [
    {
     "name": "stdout",
     "output_type": "stream",
     "text": [
      "\u001b[1;31m Confirmar que a coluna de data está no formato correto, após conversão de string para datetime: \u001b[0;0m \n",
      " datetime64[ns] \n",
      "\n"
     ]
    }
   ],
   "source": [
    "# Complete the call to convert the DATE column from string to datetime:\n",
    "beer['Data'] =  pd.to_datetime(beer['Data'],format = '%d/%m/%Y')\n",
    "print('\\033[1;31m Confirmar que a coluna de data está no formato correto,\\\n",
    " após conversão de string para datetime: \\033[0;0m', '\\n', beer['Data'].dtypes,'\\n')"
   ]
  },
  {
   "cell_type": "code",
   "execution_count": 35,
   "metadata": {
    "colab": {
     "base_uri": "https://localhost:8080/",
     "height": 510
    },
    "colab_type": "code",
    "id": "V5hTKUVm5PKp",
    "outputId": "6699345d-41cc-483d-cbbf-b7aaf08b96ef"
   },
   "outputs": [
    {
     "name": "stdout",
     "output_type": "stream",
     "text": [
      "data2.head() \n",
      "    maxTemp  precip  weekend  consumo\n",
      "0     32.5     0.0        0   25.461\n",
      "1     33.5     0.0        0   28.972\n",
      "2     29.9     0.0        1   30.814\n",
      "3     28.6     1.2        1   29.799\n",
      "4     28.3     0.0        0   28.900 \n",
      "\n"
     ]
    }
   ],
   "source": [
    "data2 = beer.iloc[0:,[3, 4, 5, 6]]\n",
    "# data2 = StandardScaler().fit_transform(data2)\n",
    "data2 = pd.DataFrame(data = data2,      # values\n",
    "             columns=['maxTemp', 'precip', 'weekend', 'consumo']    # 1st row as the column names\n",
    "                )\n",
    "\n",
    "print('data2.head()', '\\n', data2.head(), '\\n')\n",
    "\n",
    "xbeer = data2.iloc[0:,0:3]\n",
    "ones_beer = np.ones(len(beer)) \n",
    "xbeer.insert(0,len(xbeer.columns) + 1, ones_beer)\n",
    "\n",
    "ybeer = data2.iloc[:,-1]\n",
    "\n",
    "thetabeer = np.zeros(len(xbeer.columns))\n",
    "\n",
    "xbeer.columns = range(xbeer.shape[1])\n",
    "\n",
    "xbeer = xbeer.to_numpy()\n",
    "ybeer = ybeer.to_numpy()\n",
    "\n"
   ]
  },
  {
   "cell_type": "markdown",
   "metadata": {},
   "source": [
    "##### Para igualar o modelo do SKL, separamos a base de dados entre treino e teste (70/30):"
   ]
  },
  {
   "cell_type": "code",
   "execution_count": 36,
   "metadata": {},
   "outputs": [
    {
     "name": "stdout",
     "output_type": "stream",
     "text": [
      "xbeer_train \n",
      " (255, 4) \n",
      "\n",
      "xbeer_train_skl \n",
      " (255, 3) \n",
      "\n",
      "ybeer_train \n",
      " (255,) \n",
      "\n",
      "xbeer_test \n",
      " (110, 4) \n",
      "\n",
      "xbeer_test_skl \n",
      " (110, 3) \n",
      "\n",
      "ybeer_test \n",
      " (110,) \n",
      "\n",
      "thetabeer  \n",
      " (4,) \n",
      "\n"
     ]
    }
   ],
   "source": [
    "split_test_sizesklb = .3 # 30% da amostra é para teste\n",
    "xbeer_train, xbeer_test, ybeer_train, ybeer_test = train_test_split(xbeer, ybeer, test_size=split_test_sizesklb, random_state=42)\n",
    "\n",
    "#removendo primeira coluna de \"ones\" para uso no sklearn\n",
    "xbeer_train_skl = DataFrame(xbeer_train)[[1,2,3]].values\n",
    "xbeer_test_skl = DataFrame(xbeer_test)[[1,2,3]].values\n",
    "print('xbeer_train', '\\n',xbeer_train.shape, '\\n')\n",
    "print('xbeer_train_skl', '\\n', xbeer_train_skl.shape, '\\n')\n",
    "print('ybeer_train', '\\n', ybeer_train.shape, '\\n')\n",
    "print('xbeer_test', '\\n', xbeer_test.shape, '\\n')\n",
    "print('xbeer_test_skl', '\\n', xbeer_test_skl.shape, '\\n')\n",
    "print('ybeer_test', '\\n', ybeer_test.shape, '\\n')\n",
    "print('thetabeer',' \\n', thetabeer.shape, '\\n')\n",
    "\n",
    "iterations_beer = 1000\n",
    "alpha_beer = 0.01"
   ]
  },
  {
   "cell_type": "code",
   "execution_count": 37,
   "metadata": {
    "colab": {
     "base_uri": "https://localhost:8080/",
     "height": 34
    },
    "colab_type": "code",
    "id": "mjZiH6Kq5PKv",
    "outputId": "dfd6edbc-a61d-4409-9c35-67859f5c6608"
   },
   "outputs": [
    {
     "data": {
      "text/plain": [
       "1.0032635294117649"
      ]
     },
     "execution_count": 37,
     "metadata": {},
     "output_type": "execute_result"
    }
   ],
   "source": [
    "mlr = MultiLinearRegression() #algoritmo generalizado aula\n",
    "custo_mlrb = mlr.cost_function(xbeer_train, ybeer_train, thetabeer)\n",
    "custo_mlrb"
   ]
  },
  {
   "cell_type": "code",
   "execution_count": 38,
   "metadata": {
    "colab": {
     "base_uri": "https://localhost:8080/",
     "height": 34
    },
    "colab_type": "code",
    "id": "sSS5EAhH5PK0",
    "outputId": "3dc52778-3c35-4a13-d86e-7243ab8cc738"
   },
   "outputs": [
    {
     "data": {
      "text/plain": [
       "array([0.03419687, 0.87882502, 0.        , 0.        ])"
      ]
     },
     "execution_count": 38,
     "metadata": {},
     "output_type": "execute_result"
    }
   ],
   "source": [
    "theta_lr_beer, custo_h_beer = mlr.gradient_descent(xbeer_train, ybeer_train, thetabeer, alpha_beer, iterations_beer)\n",
    "theta_lr_beer"
   ]
  },
  {
   "cell_type": "code",
   "execution_count": 39,
   "metadata": {
    "colab": {
     "base_uri": "https://localhost:8080/",
     "height": 34
    },
    "colab_type": "code",
    "id": "_c3lsVHYLaUo",
    "outputId": "67fe1cbc-6a13-4d73-bce8-4a72f6c2554f"
   },
   "outputs": [
    {
     "data": {
      "text/plain": [
       "1.489659333490877e-23"
      ]
     },
     "execution_count": 39,
     "metadata": {},
     "output_type": "execute_result"
    }
   ],
   "source": [
    "#Custo atualizado\n",
    "mlr = MultiLinearRegression()\n",
    "custo_mlrb = mlr.cost_function(xbeer_train, ybeer_train, thetabeer)\n",
    "custo_mlrb"
   ]
  },
  {
   "cell_type": "code",
   "execution_count": 40,
   "metadata": {
    "colab": {
     "base_uri": "https://localhost:8080/",
     "height": 884
    },
    "colab_type": "code",
    "id": "JftDiaNL5PK5",
    "outputId": "8c9bd7b3-6646-47fd-a6a7-5e90c724f3e0"
   },
   "outputs": [
    {
     "data": {
      "text/plain": [
       "array([21.91693998, 17.25916735, 23.05941251, 31.32036774, 20.42293744,\n",
       "       22.26846999, 19.45622991, 32.11131027, 29.9142477 , 24.11400254,\n",
       "       24.64129756, 19.98352493, 24.64129756, 22.35635249, 24.28976755,\n",
       "       18.05010987, 26.75047762, 24.99282757, 19.1046999 , 21.65329247,\n",
       "       22.44423499, 23.14729501, 19.0168174 , 21.82905748, 29.6506002 ,\n",
       "       26.0474176 , 13.74386725, 30.61730772, 23.05941251, 25.34435758,\n",
       "       20.51081994, 22.09270499, 21.56540997, 17.52281486, 24.28976755,\n",
       "       16.29245982, 22.09270499, 22.795765  , 23.93823754, 24.72918006,\n",
       "       22.00482248, 17.61069736, 23.14729501, 21.74117498, 21.38964497,\n",
       "       25.08071007, 23.67459003, 25.87165259, 25.25647507, 24.11400254,\n",
       "       23.14729501, 20.51081994, 24.11400254, 31.49613275, 23.93823754,\n",
       "       26.66259511, 17.96222737, 23.85035503, 21.03811496, 25.95953509,\n",
       "       24.11400254, 12.77715972, 19.71987742, 15.3257523 , 19.71987742,\n",
       "       18.31375738, 23.93823754, 25.43224008, 28.68389267, 18.48952238,\n",
       "       25.95953509, 31.14460274, 19.45622991, 25.78377009, 21.91693998,\n",
       "       21.47752747, 17.43493235, 23.93823754, 23.67459003, 22.97153001,\n",
       "       29.47483519, 24.64129756, 25.60800508, 24.02612004, 24.46553255,\n",
       "       16.90763734, 21.21387996, 21.38964497, 24.64129756, 26.3110651 ,\n",
       "       20.86234995, 17.78646236, 21.47752747, 31.40825025, 19.36834741,\n",
       "       25.52012258, 23.49882502, 28.77177517, 16.90763734, 25.87165259,\n",
       "       24.02612004, 23.67459003, 24.55341505, 27.45353764, 25.78377009,\n",
       "       25.69588759, 23.41094252, 18.48952238, 18.48952238, 31.05672024,\n",
       "       27.80506765, 25.87165259, 23.41094252, 24.28976755, 27.10200763,\n",
       "       18.13799237, 23.67459003, 22.88364751, 30.61730772, 20.15928993,\n",
       "       25.69588759, 17.96222737, 21.47752747, 23.49882502, 16.20457732,\n",
       "       24.64129756, 24.64129756, 19.1046999 , 26.75047762, 27.36565513,\n",
       "       28.77177517, 24.37765005, 16.90763734, 19.1925824 , 22.7078825 ,\n",
       "       19.63199492, 26.75047762, 25.52012258, 26.0474176 , 20.15928993,\n",
       "       19.71987742, 25.25647507, 27.71718514, 22.35635249, 16.99551984,\n",
       "       25.78377009, 24.90494506, 19.80775992, 20.77446745, 24.99282757,\n",
       "       24.46553255, 25.95953509, 23.14729501, 21.65329247, 22.5321175 ,\n",
       "       24.11400254, 25.95953509, 24.64129756, 23.32306002, 26.66259511,\n",
       "       22.09270499, 21.47752747, 26.3110651 , 25.08071007, 24.90494506,\n",
       "       30.35366022, 20.68658495, 17.61069736, 20.15928993, 26.83836012,\n",
       "       19.63199492, 22.97153001, 29.9142477 , 25.08071007, 28.85965767,\n",
       "       22.97153001, 25.52012258, 22.7078825 , 18.66528739, 23.93823754,\n",
       "       28.68389267, 19.89564242, 18.05010987, 21.30176246, 23.23517752,\n",
       "       22.88364751, 20.15928993, 28.50812766, 20.51081994, 26.92624262,\n",
       "       18.84105239, 23.67459003, 28.24448016, 24.37765005, 22.35635249,\n",
       "       29.03542268, 23.49882502, 27.62930264, 29.47483519, 25.08071007,\n",
       "       20.07140743, 15.76516481, 20.86234995, 28.85965767, 23.05941251,\n",
       "       27.10200763, 29.29907019, 28.15659765, 29.9142477 , 27.98083265,\n",
       "       22.795765  , 23.23517752, 15.94092981, 27.27777263, 18.9289349 ,\n",
       "       22.5321175 , 25.25647507, 21.91693998, 27.01412512, 28.06871515,\n",
       "       24.81706256, 15.85304731, 17.96222737, 21.21387996, 17.78646236,\n",
       "       15.5893998 , 24.37765005, 23.23517752, 18.05010987, 22.5321175 ,\n",
       "       22.97153001, 27.98083265, 23.05941251, 18.75316989, 17.43493235,\n",
       "       28.15659765, 24.37765005, 26.48683011, 21.82905748, 20.15928993,\n",
       "       18.13799237, 15.85304731, 22.44423499, 23.41094252, 24.99282757,\n",
       "       23.67459003, 23.23517752, 25.52012258, 27.18989013, 16.46822483,\n",
       "       23.41094252, 23.76247253, 20.77446745, 28.85965767, 22.62      ])"
      ]
     },
     "execution_count": 40,
     "metadata": {},
     "output_type": "execute_result"
    }
   ],
   "source": [
    "Yfit_beer = np.matmul(xbeer_train, theta_lr_beer) #acessando apenas os valores no df, np.matmul = Matrix product of two arrays.\n",
    "Yfit_beer"
   ]
  },
  {
   "cell_type": "code",
   "execution_count": 41,
   "metadata": {
    "colab": {
     "base_uri": "https://localhost:8080/",
     "height": 312
    },
    "colab_type": "code",
    "id": "PApDOuCT5PK8",
    "outputId": "55d9351e-8b64-4eae-c040-fc5402d6a7f1"
   },
   "outputs": [
    {
     "data": {
      "text/plain": [
       "Text(0.5, 1.0, 'Error vs. Training Epoch')"
      ]
     },
     "execution_count": 41,
     "metadata": {},
     "output_type": "execute_result"
    },
    {
     "data": {
      "image/png": "[encoded data removed]",
      "text/plain": [
       "<Figure size 432x288 with 1 Axes>"
      ]
     },
     "metadata": {},
     "output_type": "display_data"
    }
   ],
   "source": [
    "#plot the cost\n",
    "fig, ax = plt.subplots()  \n",
    "ax.plot(np.arange(iterations_beer), custo_h_beer, 'r')  \n",
    "ax.set_xlabel('Iterations')  \n",
    "ax.set_ylabel('Cost')  \n",
    "ax.set_title('Error vs. Training Epoch')"
   ]
  },
  {
   "cell_type": "markdown",
   "metadata": {},
   "source": [
    "##### Percebemos que o valor do custo começa a ficar quase constante antes das 200 iterações. Portanto, não haveria necessidade de usar 1000 iterações pois não há melhora significativa de J."
   ]
  },
  {
   "cell_type": "markdown",
   "metadata": {
    "colab_type": "text",
    "id": "pb-w0U6m5PLE"
   },
   "source": [
    "### a. Compare os resultados que você obteve com os resultados obtidos através da Scikit Learning."
   ]
  },
  {
   "cell_type": "code",
   "execution_count": 42,
   "metadata": {
    "colab": {
     "base_uri": "https://localhost:8080/",
     "height": 34
    },
    "colab_type": "code",
    "id": "Mzw6xcci5PLM",
    "outputId": "9919ab47-1b80-4d65-d09a-28facff49399"
   },
   "outputs": [
    {
     "data": {
      "text/plain": [
       "LinearRegression(copy_X=True, fit_intercept=True, n_jobs=None, normalize=False)"
      ]
     },
     "execution_count": 42,
     "metadata": {},
     "output_type": "execute_result"
    }
   ],
   "source": [
    "lr_modelsklb = linear_model.LinearRegression()\n",
    "lr_modelsklb.fit(xbeer_train_skl, ybeer_train.ravel()) # flatten arrays --> Transformando de matriz para vetor"
   ]
  },
  {
   "cell_type": "code",
   "execution_count": 43,
   "metadata": {
    "colab": {
     "base_uri": "https://localhost:8080/",
     "height": 884
    },
    "colab_type": "code",
    "id": "NMWAlyGa5PLP",
    "outputId": "c60e9a26-9989-43da-a0bc-c5089a845f18"
   },
   "outputs": [
    {
     "data": {
      "text/plain": [
       "array([26.83508301, 19.47966407, 29.22030086, 30.12822964, 21.78725112,\n",
       "       27.83958781, 21.09541937, 30.56452487, 29.09202396, 24.68635901,\n",
       "       30.40592869, 21.54899155, 30.42184585, 22.3750569 , 24.69252677,\n",
       "       20.08043656, 26.68893399, 25.34857828, 20.88146656, 22.81728903,\n",
       "       23.41806152, 29.12788182, 20.68737682, 22.95079403, 28.89176646,\n",
       "       26.15491399, 20.68015776, 34.78062138, 23.88532902, 25.620894  ,\n",
       "       20.93080867, 23.15105153, 22.75053653, 19.59503008, 24.81986401,\n",
       "       23.95302119, 23.15105153, 29.02004336, 24.55285401, 24.64958329,\n",
       "       23.08429903, 19.36996809, 29.28705336, 22.88404153, 22.59580866,\n",
       "       23.91381257, 23.83794186, 30.66663749, 30.00305843, 24.68635901,\n",
       "       29.28705336, 17.86410363, 30.02133085, 30.29356894, 24.55285401,\n",
       "       26.62218149, 20.01368407, 24.48610151, 27.65315907, 31.42313334,\n",
       "       24.32557018, 21.17680686, 21.01447381, 17.95805191, 21.34873405,\n",
       "       25.6156659 , 22.45178966, 25.6876465 , 28.15748897, 25.7491709 ,\n",
       "       30.87133866, 30.02655895, 19.82204704, 25.95465649, 22.24291169,\n",
       "       22.68378403, 19.4752204 , 29.88782585, 24.35259651, 23.81857652,\n",
       "       28.75295574, 25.086874  , 24.37799618, 29.95457835, 30.28834085,\n",
       "       17.96050461, 22.48352654, 22.61703153, 30.41654013, 31.69014333,\n",
       "       27.50904264, 19.85895619, 22.67847832, 30.22681644, 21.08172405,\n",
       "       25.754399  , 24.21909152, 28.22424147, 19.21265408, 24.83292815,\n",
       "       23.90864029, 24.35259651, 25.02012151, 27.22295398, 31.28962834,\n",
       "       31.22287584, 24.15233902, 20.41419906, 24.94270176, 29.95980645,\n",
       "       32.82493582, 26.02140899, 27.46052656, 24.81986401, 26.95594398,\n",
       "       20.14718906, 24.2889279 , 23.75182402, 29.58359821, 21.38537633,\n",
       "       25.887904  , 25.34865591, 28.01875588, 29.55406336, 23.71648571,\n",
       "       25.086874  , 25.086874  , 20.88146656, 31.15376807, 32.49117332,\n",
       "       28.22424147, 24.88661651, 24.5423202 , 26.2831909 , 23.61831902,\n",
       "       21.22892437, 26.57220819, 25.70134182, 26.15491399, 26.91135403,\n",
       "       26.68370589, 25.49047288, 27.24281706, 23.35130903, 19.27940657,\n",
       "       31.28962834, 25.2871315 , 21.40487511, 21.42818638, 30.68885584,\n",
       "       30.28834085, 25.8547099 , 29.28705336, 28.15226087, 23.48481402,\n",
       "       24.68635901, 26.08816149, 20.5610965 , 23.8468292 , 26.62218149,\n",
       "       23.15105153, 27.63674418, 26.0951913 , 25.4206365 , 25.2871315 ,\n",
       "       29.42578645, 22.08301154, 25.01797729, 21.68249655, 26.75568648,\n",
       "       26.61695339, 29.15354836, 28.85857236, 25.4206365 , 28.13182242,\n",
       "       29.15354836, 24.04595778, 23.61831902, 25.8826759 , 24.55285401,\n",
       "       28.15748897, 21.11083878, 19.95309933, 22.55027904, 29.35380586,\n",
       "       28.16360092, 18.60518007, 25.7425252 , 20.70796852, 32.0619079 ,\n",
       "       20.68120906, 24.35259651, 27.82372647, 24.88661651, 23.35130903,\n",
       "       28.42449896, 22.87143913, 27.35645898, 28.75826146, 25.29329927,\n",
       "       26.86051868, 22.79909423, 22.04673356, 28.29099397, 23.88532902,\n",
       "       32.29091582, 28.62475646, 33.09194582, 29.00713247, 27.62346897,\n",
       "       22.69820796, 23.61559944, 18.00086196, 25.02021894, 20.74796156,\n",
       "       23.30441961, 25.5541415 , 23.01754653, 26.88919148, 27.69022147,\n",
       "       25.220379  , 18.2100068 , 20.01368407, 21.93703758, 19.88017907,\n",
       "       18.0097493 , 30.22158835, 23.3078678 , 20.08043656, 23.48481402,\n",
       "       22.17380392, 27.0716743 , 23.88532902, 25.93881696, 24.94814091,\n",
       "       27.75697397, 24.88661651, 26.48867649, 20.86564683, 27.01746839,\n",
       "       18.96931965, 18.29489829, 23.41806152, 29.48731086, 25.353884  ,\n",
       "       24.35259651, 29.35380586, 25.754399  , 27.02269648, 18.64013427,\n",
       "       24.15233902, 22.44562189, 20.70660873, 28.07876524, 23.55156652])"
      ]
     },
     "execution_count": 43,
     "metadata": {},
     "output_type": "execute_result"
    }
   ],
   "source": [
    "Yfit_beer_p = lr_modelsklb.predict(xbeer_train_skl)\n",
    "Yfit_beer_p"
   ]
  },
  {
   "cell_type": "code",
   "execution_count": 44,
   "metadata": {
    "colab": {
     "base_uri": "https://localhost:8080/",
     "height": 51
    },
    "colab_type": "code",
    "id": "iP2rKlQy5PLS",
    "outputId": "03ccf1b7-5db4-4cc6-bea5-eecd2e4f53c1"
   },
   "outputs": [
    {
     "name": "stdout",
     "output_type": "stream",
     "text": [
      "Intercept:  6.3961742286972445\n",
      "Theta:  [ 0.66752499 -0.05305718  5.33497184]\n"
     ]
    }
   ],
   "source": [
    "#thetas do SciKit Learning\n",
    "print(\"Intercept: \", lr_modelsklb.intercept_)\n",
    "print(\"Theta: \", lr_modelsklb.coef_)\n"
   ]
  },
  {
   "cell_type": "code",
   "execution_count": 45,
   "metadata": {
    "colab": {
     "base_uri": "https://localhost:8080/",
     "height": 34
    },
    "colab_type": "code",
    "id": "dt5yXp4Z5PLU",
    "outputId": "5781b846-eb14-4f78-e3ee-4c1a9383ccff"
   },
   "outputs": [
    {
     "data": {
      "text/plain": [
       "array([0.03419687, 0.87882502, 0.        , 0.        ])"
      ]
     },
     "execution_count": 45,
     "metadata": {},
     "output_type": "execute_result"
    }
   ],
   "source": [
    "theta_lr_beer #theta do modelo Q16"
   ]
  },
  {
   "cell_type": "code",
   "execution_count": 46,
   "metadata": {
    "colab": {
     "base_uri": "https://localhost:8080/",
     "height": 884
    },
    "colab_type": "code",
    "id": "J3K6wvKb5PLZ",
    "outputId": "49917a12-5965-4b03-e619-2e4832f6a8c9"
   },
   "outputs": [
    {
     "data": {
      "text/plain": [
       "array([26.83508301, 19.47966407, 29.22030086, 30.12822964, 21.78725112,\n",
       "       27.83958781, 21.09541937, 30.56452487, 29.09202396, 24.68635901,\n",
       "       30.40592869, 21.54899155, 30.42184585, 22.3750569 , 24.69252677,\n",
       "       20.08043656, 26.68893399, 25.34857828, 20.88146656, 22.81728903,\n",
       "       23.41806152, 29.12788182, 20.68737682, 22.95079403, 28.89176646,\n",
       "       26.15491399, 20.68015776, 34.78062138, 23.88532902, 25.620894  ,\n",
       "       20.93080867, 23.15105153, 22.75053653, 19.59503008, 24.81986401,\n",
       "       23.95302119, 23.15105153, 29.02004336, 24.55285401, 24.64958329,\n",
       "       23.08429903, 19.36996809, 29.28705336, 22.88404153, 22.59580866,\n",
       "       23.91381257, 23.83794186, 30.66663749, 30.00305843, 24.68635901,\n",
       "       29.28705336, 17.86410363, 30.02133085, 30.29356894, 24.55285401,\n",
       "       26.62218149, 20.01368407, 24.48610151, 27.65315907, 31.42313334,\n",
       "       24.32557018, 21.17680686, 21.01447381, 17.95805191, 21.34873405,\n",
       "       25.6156659 , 22.45178966, 25.6876465 , 28.15748897, 25.7491709 ,\n",
       "       30.87133866, 30.02655895, 19.82204704, 25.95465649, 22.24291169,\n",
       "       22.68378403, 19.4752204 , 29.88782585, 24.35259651, 23.81857652,\n",
       "       28.75295574, 25.086874  , 24.37799618, 29.95457835, 30.28834085,\n",
       "       17.96050461, 22.48352654, 22.61703153, 30.41654013, 31.69014333,\n",
       "       27.50904264, 19.85895619, 22.67847832, 30.22681644, 21.08172405,\n",
       "       25.754399  , 24.21909152, 28.22424147, 19.21265408, 24.83292815,\n",
       "       23.90864029, 24.35259651, 25.02012151, 27.22295398, 31.28962834,\n",
       "       31.22287584, 24.15233902, 20.41419906, 24.94270176, 29.95980645,\n",
       "       32.82493582, 26.02140899, 27.46052656, 24.81986401, 26.95594398,\n",
       "       20.14718906, 24.2889279 , 23.75182402, 29.58359821, 21.38537633,\n",
       "       25.887904  , 25.34865591, 28.01875588, 29.55406336, 23.71648571,\n",
       "       25.086874  , 25.086874  , 20.88146656, 31.15376807, 32.49117332,\n",
       "       28.22424147, 24.88661651, 24.5423202 , 26.2831909 , 23.61831902,\n",
       "       21.22892437, 26.57220819, 25.70134182, 26.15491399, 26.91135403,\n",
       "       26.68370589, 25.49047288, 27.24281706, 23.35130903, 19.27940657,\n",
       "       31.28962834, 25.2871315 , 21.40487511, 21.42818638, 30.68885584,\n",
       "       30.28834085, 25.8547099 , 29.28705336, 28.15226087, 23.48481402,\n",
       "       24.68635901, 26.08816149, 20.5610965 , 23.8468292 , 26.62218149,\n",
       "       23.15105153, 27.63674418, 26.0951913 , 25.4206365 , 25.2871315 ,\n",
       "       29.42578645, 22.08301154, 25.01797729, 21.68249655, 26.75568648,\n",
       "       26.61695339, 29.15354836, 28.85857236, 25.4206365 , 28.13182242,\n",
       "       29.15354836, 24.04595778, 23.61831902, 25.8826759 , 24.55285401,\n",
       "       28.15748897, 21.11083878, 19.95309933, 22.55027904, 29.35380586,\n",
       "       28.16360092, 18.60518007, 25.7425252 , 20.70796852, 32.0619079 ,\n",
       "       20.68120906, 24.35259651, 27.82372647, 24.88661651, 23.35130903,\n",
       "       28.42449896, 22.87143913, 27.35645898, 28.75826146, 25.29329927,\n",
       "       26.86051868, 22.79909423, 22.04673356, 28.29099397, 23.88532902,\n",
       "       32.29091582, 28.62475646, 33.09194582, 29.00713247, 27.62346897,\n",
       "       22.69820796, 23.61559944, 18.00086196, 25.02021894, 20.74796156,\n",
       "       23.30441961, 25.5541415 , 23.01754653, 26.88919148, 27.69022147,\n",
       "       25.220379  , 18.2100068 , 20.01368407, 21.93703758, 19.88017907,\n",
       "       18.0097493 , 30.22158835, 23.3078678 , 20.08043656, 23.48481402,\n",
       "       22.17380392, 27.0716743 , 23.88532902, 25.93881696, 24.94814091,\n",
       "       27.75697397, 24.88661651, 26.48867649, 20.86564683, 27.01746839,\n",
       "       18.96931965, 18.29489829, 23.41806152, 29.48731086, 25.353884  ,\n",
       "       24.35259651, 29.35380586, 25.754399  , 27.02269648, 18.64013427,\n",
       "       24.15233902, 22.44562189, 20.70660873, 28.07876524, 23.55156652])"
      ]
     },
     "execution_count": 46,
     "metadata": {},
     "output_type": "execute_result"
    }
   ],
   "source": [
    "#fazendo o \"predict\" na mão\n",
    "Yfit_beer_skl = np.matmul(xbeer_train_skl, lr_modelsklb.coef_) + lr_modelsklb.intercept_\n",
    "Yfit_beer_skl"
   ]
  },
  {
   "cell_type": "markdown",
   "metadata": {},
   "source": [
    "##### Vamos comparar o modelo SKL e a Regressão Linear Multivariada (RLM) obtida na q16 usando a massa de treino:"
   ]
  },
  {
   "cell_type": "code",
   "execution_count": 47,
   "metadata": {
    "colab": {
     "base_uri": "https://localhost:8080/",
     "height": 411
    },
    "colab_type": "code",
    "id": "CVEzJTQP5PLc",
    "outputId": "6c71186e-2a08-49c9-f808-eedf972b80ba"
   },
   "outputs": [
    {
     "data": {
      "image/png": "[encoded data removed]",
      "text/plain": [
       "<Figure size 648x432 with 1 Axes>"
      ]
     },
     "metadata": {},
     "output_type": "display_data"
    }
   ],
   "source": [
    "fig = plt.figure(figsize=(9,6))\n",
    "sns.regplot(x=ybeer_train,y=Yfit_beer_skl,color='blue', marker='*')\n",
    "\n",
    "# Legend, title and labels.\n",
    "plt.legend(labels=['Características'], bbox_to_anchor=(0.25, 0.95))\n",
    "plt.title('SKL - Relação entre Consumo de cerveja (litros) e Características (maxTemp,precip,weekend)', size=16)\n",
    "plt.xlabel('FEATURES', size=14)\n",
    "plt.ylabel('SALES', size=14);\n",
    "plt.show()"
   ]
  },
  {
   "cell_type": "code",
   "execution_count": 48,
   "metadata": {
    "colab": {
     "base_uri": "https://localhost:8080/",
     "height": 411
    },
    "colab_type": "code",
    "id": "Wn-mK9re5PLe",
    "outputId": "0cb16674-29f1-4d94-e500-debe5342201b"
   },
   "outputs": [
    {
     "data": {
      "image/png": "[encoded data removed]",
      "text/plain": [
       "<Figure size 648x432 with 1 Axes>"
      ]
     },
     "metadata": {},
     "output_type": "display_data"
    }
   ],
   "source": [
    "fig = plt.figure(figsize=(9,6))\n",
    "sns.regplot(x=ybeer_train,y=Yfit_beer,color='blue', marker='*')\n",
    "\n",
    "# Legend, title and labels.\n",
    "plt.legend(labels=['Características'], bbox_to_anchor=(0.25, 0.95))\n",
    "plt.title('Q16 - Relação entre Consumo de cerveja (litros) e Características (maxTemp,precip,weekend)', size=16)\n",
    "plt.xlabel('FEATURES', size=14)\n",
    "plt.ylabel('SALES', size=14);\n",
    "plt.show() "
   ]
  },
  {
   "cell_type": "markdown",
   "metadata": {
    "colab_type": "text",
    "id": "vAwhu0645PLg"
   },
   "source": [
    "### b. Prediga o consumo usando seu modelo e o modelo da sklearn.\n"
   ]
  },
  {
   "cell_type": "code",
   "execution_count": 49,
   "metadata": {
    "colab": {
     "base_uri": "https://localhost:8080/",
     "height": 391
    },
    "colab_type": "code",
    "id": "mFieXZekICQI",
    "outputId": "2401b370-5484-490a-8d01-7d44d82a1ea6"
   },
   "outputs": [
    {
     "data": {
      "text/plain": [
       "array([25.5541415 , 27.07130999, 28.11812711, 21.61574405, 27.32462467,\n",
       "       17.73421627, 22.48352654, 18.87889158, 18.051333  , 20.88146656,\n",
       "       32.15210511, 26.88919148, 25.24055058, 25.84854213, 20.61445656,\n",
       "       22.35002154, 28.09073647, 27.09284136, 24.68635901, 28.88653837,\n",
       "       34.5605008 , 22.01625904, 29.70779574, 19.26100071, 25.01489341,\n",
       "       24.81986401, 29.22030086, 29.95980645, 22.87120826, 24.21909152,\n",
       "       24.45055214, 29.88782585, 28.22424147, 32.55570399, 23.61831902,\n",
       "       27.28447838, 27.48996398, 23.62757067, 25.02012151, 31.62339083,\n",
       "       27.89047897, 32.29091582, 27.94139194, 24.54762592, 24.81614895,\n",
       "       31.75689583, 24.75311151, 24.79701447, 26.10838888, 29.23164091,\n",
       "       29.22030086, 31.77712322, 31.75689583, 33.9597283 , 20.34744656,\n",
       "       25.8211515 , 31.35638084, 30.75869223, 26.59357011, 24.31631853,\n",
       "       22.38493973, 27.98462211, 24.82775587, 23.41520851, 29.09202396,\n",
       "       29.6048987 , 25.1536265 , 19.75542797, 20.14718906, 23.95208152,\n",
       "       29.35380586, 29.86215931, 30.95586584, 24.15233902, 19.8138883 ,\n",
       "       17.1433266 , 22.20083025, 26.28841899, 30.64369052, 35.62854078,\n",
       "       24.34719898, 24.48610151, 25.71241499, 25.1536265 , 23.01754653,\n",
       "       24.05856018, 31.13218089, 22.47829844, 22.95079403, 25.754399  ,\n",
       "       26.00758024, 25.887904  , 23.28455653, 35.42828329, 18.86383647,\n",
       "       24.55285401, 23.08429903, 35.49503579, 20.63295985, 31.75689583,\n",
       "       27.61824088, 26.22166649, 27.86481243, 20.84110921, 21.93889511,\n",
       "       24.01883402, 24.08558652, 29.83377319, 22.28326904, 22.92957116])"
      ]
     },
     "execution_count": 49,
     "metadata": {},
     "output_type": "execute_result"
    }
   ],
   "source": [
    "# Hipotese so SKL:\n",
    "pred_value_skl = lr_modelsklb.predict(xbeer_test_skl)\n",
    "pred_value_skl"
   ]
  },
  {
   "cell_type": "code",
   "execution_count": 50,
   "metadata": {
    "colab": {
     "base_uri": "https://localhost:8080/",
     "height": 391
    },
    "colab_type": "code",
    "id": "GQHuCUguICNB",
    "outputId": "b1ef5d70-3e36-4996-bfea-791debaa543e"
   },
   "outputs": [
    {
     "data": {
      "text/plain": [
       "array([25.25647507, 27.36565513, 28.77177517, 20.07140743, 27.62930264,\n",
       "       16.20457732, 21.21387996, 16.46822483, 15.4136348 , 19.1046999 ,\n",
       "       26.92624262, 27.01412512, 19.71987742, 25.78377009, 18.75316989,\n",
       "       21.03811496, 28.59601017, 22.00482248, 24.11400254, 22.62      ,\n",
       "       30.09001271, 20.59870244, 24.55341505, 19.1925824 , 17.52281486,\n",
       "       24.28976755, 23.05941251, 31.05672024, 21.82905748, 23.49882502,\n",
       "       25.25647507, 23.93823754, 28.77177517, 27.54142014, 22.7078825 ,\n",
       "       20.51081994, 27.80506765, 22.97153001, 24.55341505, 26.2231826 ,\n",
       "       28.33236266, 27.10200763, 21.38964497, 16.90763734, 25.69588759,\n",
       "       26.39894761, 24.20188504, 26.66259511, 26.83836012, 24.28976755,\n",
       "       23.05941251, 27.27777263, 26.39894761, 29.29907019, 18.40163988,\n",
       "       25.60800508, 25.87165259, 25.16859257, 26.2231826 , 23.85035503,\n",
       "       21.12599746, 28.59601017, 24.81706256, 24.02612004, 29.9142477 ,\n",
       "       23.58670753, 24.72918006, 18.31375738, 18.13799237, 23.14729501,\n",
       "       23.23517752, 24.11400254, 25.34435758, 23.41094252, 21.03811496,\n",
       "       14.18327976, 22.5321175 , 26.2231826 , 25.52012258, 31.49613275,\n",
       "       21.47752747, 23.85035503, 28.85965767, 24.72918006, 21.91693998,\n",
       "       23.76247253, 26.1353001 , 14.18327976, 21.82905748, 25.52012258,\n",
       "       26.83836012, 25.69588759, 22.26846999, 31.23248524, 16.64398983,\n",
       "       23.93823754, 22.00482248, 31.32036774, 19.28046491, 26.39894761,\n",
       "       20.95023245, 26.1353001 , 28.50812766, 20.07140743, 20.51081994,\n",
       "       23.23517752, 23.32306002, 24.81706256, 20.95023245, 21.82905748])"
      ]
     },
     "execution_count": 50,
     "metadata": {},
     "output_type": "execute_result"
    }
   ],
   "source": [
    "# Hipotese da RLM estimada na Q16:\n",
    "pred_value = np.matmul(xbeer_test, theta_lr_beer)\n",
    "pred_value"
   ]
  },
  {
   "cell_type": "code",
   "execution_count": 51,
   "metadata": {
    "colab": {
     "base_uri": "https://localhost:8080/",
     "height": 34
    },
    "colab_type": "code",
    "id": "ri7vvPdl5PLh",
    "outputId": "41a0831b-9a32-45cd-c152-96fdb3d32791"
   },
   "outputs": [
    {
     "data": {
      "text/plain": [
       "array([35.09452079])"
      ]
     },
     "execution_count": 51,
     "metadata": {},
     "output_type": "execute_result"
    }
   ],
   "source": [
    "#testando com novas amostras\n",
    "pred_value_skl_ind = [[35,0,1]] # 35 graus de temperatura, não choveu, final de semana.\n",
    "lr_modelsklb.predict(pred_value_skl_ind)"
   ]
  },
  {
   "cell_type": "code",
   "execution_count": 52,
   "metadata": {
    "colab": {
     "base_uri": "https://localhost:8080/",
     "height": 34
    },
    "colab_type": "code",
    "id": "E6dsDszz5PLj",
    "outputId": "9ce0916c-e9da-4925-adf3-21e9846c323d"
   },
   "outputs": [
    {
     "data": {
      "text/plain": [
       "array([30.79307273])"
      ]
     },
     "execution_count": 52,
     "metadata": {},
     "output_type": "execute_result"
    }
   ],
   "source": [
    "pred_value_beer_ind = [[1,35,0,1]]\n",
    "np.matmul(pred_value_beer_ind, theta_lr_beer)"
   ]
  },
  {
   "cell_type": "markdown",
   "metadata": {
    "colab_type": "text",
    "id": "S4zPSlHf5PLo"
   },
   "source": [
    "### c. Calcule o MSE de ambos"
   ]
  },
  {
   "cell_type": "code",
   "execution_count": 53,
   "metadata": {
    "colab": {
     "base_uri": "https://localhost:8080/",
     "height": 34
    },
    "colab_type": "code",
    "id": "n_Ecm29c5PLp",
    "outputId": "a52b1952-d4ae-4e03-cc08-2b55eb8b6425"
   },
   "outputs": [
    {
     "data": {
      "text/plain": [
       "5.4808534596126615"
      ]
     },
     "execution_count": 53,
     "metadata": {},
     "output_type": "execute_result"
    }
   ],
   "source": [
    "mean_squared_error(ybeer_test, pred_value_skl) # MSE do SciKit Learning"
   ]
  },
  {
   "cell_type": "code",
   "execution_count": 54,
   "metadata": {
    "colab": {
     "base_uri": "https://localhost:8080/",
     "height": 34
    },
    "colab_type": "code",
    "id": "4Xdtx32rK8Nc",
    "outputId": "ce55e7e0-6427-46d0-b119-3ddaac00a897"
   },
   "outputs": [
    {
     "data": {
      "text/plain": [
       "16.02562461594156"
      ]
     },
     "execution_count": 54,
     "metadata": {},
     "output_type": "execute_result"
    }
   ],
   "source": [
    "mean_squared_error(ybeer_test, pred_value) # MSE do Algoritmo Generalizado Aula"
   ]
  },
  {
   "cell_type": "markdown",
   "metadata": {
    "colab": {},
    "colab_type": "code",
    "id": "fCa5pdqG5PL_"
   },
   "source": [
    "##### Obs: Percebemos uma diferença entre o custo da RLM q16 vs SKL, talvez devido o SKL não usa o Gradiente Descendente."
   ]
  }
 ],
 "metadata": {
  "colab": {
   "collapsed_sections": [
    "hwBguZ4W5PIE",
    "7VH114hu5PIO",
    "OE6qlxn15PIW",
    "4h_Vc8-65PIY",
    "jZYuCmz-5PIc",
    "RHuvWOjQ5PIh",
    "b4z7f-Jn5PIm",
    "MulE3foo5PIr",
    "oO3nSRMR5PIv",
    "jLrM4jDG5PI0",
    "OjMNvElB5PI5",
    "OZ25qT4f5PI9",
    "lHAGRt515PJC",
    "5zK-YLaB5PJG",
    "1N9ThOdS5PJP",
    "ZMlQaJuu5PJT",
    "oIRUgSGv5PJa",
    "B541o_sC5PJc",
    "VXgbdKe05PJm",
    "BmyKuLnG5PJs",
    "DIElkKQv5PJw",
    "6Dh2y3Hq5PJ1",
    "kAZwzcbt5PJ5",
    "K-796Mak5PJ6",
    "BlFrYd2a5PJ7"
   ],
   "name": "v025.ipynb",
   "provenance": [],
   "toc_visible": true
  },
  "kernelspec": {
   "display_name": "Python 3",
   "language": "python",
   "name": "python3"
  },
  "language_info": {
   "codemirror_mode": {
    "name": "ipython",
    "version": 3
   },
   "file_extension": ".py",
   "mimetype": "text/x-python",
   "name": "python",
   "nbconvert_exporter": "python",
   "pygments_lexer": "ipython3",
   "version": "3.7.5"
  }
 },
 "nbformat": 4,
 "nbformat_minor": 4
}
